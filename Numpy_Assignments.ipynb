{
 "cells": [
  {
   "cell_type": "markdown",
   "metadata": {},
   "source": [
    "# 100 numpy exercises\n",
    "This is a collection of exercises that have been collected in the numpy mailing list, on stack overflow and in the numpy documentation. The goal of this collection is to offer a quick reference for both old and new users but also to provide a set of exercises for those who teach.\n",
    "\n",
    "If you find an error or think you've a better way to solve some of them, feel free to open an issue at https://github.com/rougier/numpy-100. File automatically generated. See the documentation to update questions/answers/hints programmatically."
   ]
  },
  {
   "cell_type": "markdown",
   "metadata": {},
   "source": [
    "# The Following are the Solutions of the 100 numpy exercises"
   ]
  },
  {
   "cell_type": "code",
   "execution_count": 1,
   "metadata": {},
   "outputs": [],
   "source": [
    "#### 1. Import the numpy package under the name `np` (★☆☆)\n",
    "\n",
    "import numpy as np\n"
   ]
  },
  {
   "cell_type": "code",
   "execution_count": 2,
   "metadata": {},
   "outputs": [
    {
     "name": "stdout",
     "output_type": "stream",
     "text": [
      "1.18.1\n",
      "blas_mkl_info:\n",
      "    libraries = ['mkl_rt']\n",
      "    library_dirs = ['C:/Users/Lenovo/anaconda3\\\\Library\\\\lib']\n",
      "    define_macros = [('SCIPY_MKL_H', None), ('HAVE_CBLAS', None)]\n",
      "    include_dirs = ['C:\\\\Program Files (x86)\\\\IntelSWTools\\\\compilers_and_libraries_2019.0.117\\\\windows\\\\mkl', 'C:\\\\Program Files (x86)\\\\IntelSWTools\\\\compilers_and_libraries_2019.0.117\\\\windows\\\\mkl\\\\include', 'C:\\\\Program Files (x86)\\\\IntelSWTools\\\\compilers_and_libraries_2019.0.117\\\\windows\\\\mkl\\\\lib', 'C:/Users/Lenovo/anaconda3\\\\Library\\\\include']\n",
      "blas_opt_info:\n",
      "    libraries = ['mkl_rt']\n",
      "    library_dirs = ['C:/Users/Lenovo/anaconda3\\\\Library\\\\lib']\n",
      "    define_macros = [('SCIPY_MKL_H', None), ('HAVE_CBLAS', None)]\n",
      "    include_dirs = ['C:\\\\Program Files (x86)\\\\IntelSWTools\\\\compilers_and_libraries_2019.0.117\\\\windows\\\\mkl', 'C:\\\\Program Files (x86)\\\\IntelSWTools\\\\compilers_and_libraries_2019.0.117\\\\windows\\\\mkl\\\\include', 'C:\\\\Program Files (x86)\\\\IntelSWTools\\\\compilers_and_libraries_2019.0.117\\\\windows\\\\mkl\\\\lib', 'C:/Users/Lenovo/anaconda3\\\\Library\\\\include']\n",
      "lapack_mkl_info:\n",
      "    libraries = ['mkl_rt']\n",
      "    library_dirs = ['C:/Users/Lenovo/anaconda3\\\\Library\\\\lib']\n",
      "    define_macros = [('SCIPY_MKL_H', None), ('HAVE_CBLAS', None)]\n",
      "    include_dirs = ['C:\\\\Program Files (x86)\\\\IntelSWTools\\\\compilers_and_libraries_2019.0.117\\\\windows\\\\mkl', 'C:\\\\Program Files (x86)\\\\IntelSWTools\\\\compilers_and_libraries_2019.0.117\\\\windows\\\\mkl\\\\include', 'C:\\\\Program Files (x86)\\\\IntelSWTools\\\\compilers_and_libraries_2019.0.117\\\\windows\\\\mkl\\\\lib', 'C:/Users/Lenovo/anaconda3\\\\Library\\\\include']\n",
      "lapack_opt_info:\n",
      "    libraries = ['mkl_rt']\n",
      "    library_dirs = ['C:/Users/Lenovo/anaconda3\\\\Library\\\\lib']\n",
      "    define_macros = [('SCIPY_MKL_H', None), ('HAVE_CBLAS', None)]\n",
      "    include_dirs = ['C:\\\\Program Files (x86)\\\\IntelSWTools\\\\compilers_and_libraries_2019.0.117\\\\windows\\\\mkl', 'C:\\\\Program Files (x86)\\\\IntelSWTools\\\\compilers_and_libraries_2019.0.117\\\\windows\\\\mkl\\\\include', 'C:\\\\Program Files (x86)\\\\IntelSWTools\\\\compilers_and_libraries_2019.0.117\\\\windows\\\\mkl\\\\lib', 'C:/Users/Lenovo/anaconda3\\\\Library\\\\include']\n",
      "None\n"
     ]
    }
   ],
   "source": [
    "#### 2. Print the numpy version and the configuration (★☆☆)\n",
    "\n",
    "print(np.__version__)\n",
    "print(np.show_config())\n"
   ]
  },
  {
   "cell_type": "code",
   "execution_count": 3,
   "metadata": {},
   "outputs": [
    {
     "name": "stdout",
     "output_type": "stream",
     "text": [
      "[0. 0. 0. 0. 0. 0. 0. 0. 0. 0.]\n"
     ]
    }
   ],
   "source": [
    "#### 3. Create a null vector of size 10 (★☆☆)\n",
    "\n",
    "null_vector = np.zeros(10)\n",
    "print(null_vector)\n"
   ]
  },
  {
   "cell_type": "code",
   "execution_count": 4,
   "metadata": {},
   "outputs": [
    {
     "name": "stdout",
     "output_type": "stream",
     "text": [
      "800\n"
     ]
    }
   ],
   "source": [
    "#### 4. How to find the memory size of any array (★☆☆)\n",
    "\n",
    "arr = np.zeros((10, 10))\n",
    "print(arr.size * arr.itemsize)\n"
   ]
  },
  {
   "cell_type": "code",
   "execution_count": 7,
   "metadata": {},
   "outputs": [
    {
     "ename": "SyntaxError",
     "evalue": "invalid syntax (<ipython-input-7-9bd47debf46a>, line 2)",
     "output_type": "error",
     "traceback": [
      "\u001b[1;36m  File \u001b[1;32m\"<ipython-input-7-9bd47debf46a>\"\u001b[1;36m, line \u001b[1;32m2\u001b[0m\n\u001b[1;33m    ```bash\u001b[0m\n\u001b[1;37m    ^\u001b[0m\n\u001b[1;31mSyntaxError\u001b[0m\u001b[1;31m:\u001b[0m invalid syntax\n"
     ]
    }
   ],
   "source": [
    "#### 5. How to get the documentation of the numpy add function from the command line? (★☆☆)\n",
    "```bash\n",
    "python -c \"import numpy as np; help(np.add)\"\n",
    "```\n",
    "\n"
   ]
  },
  {
   "cell_type": "code",
   "execution_count": 8,
   "metadata": {},
   "outputs": [
    {
     "name": "stdout",
     "output_type": "stream",
     "text": [
      "[0. 0. 0. 0. 1. 0. 0. 0. 0. 0.]\n"
     ]
    }
   ],
   "source": [
    "#### 6. Create a null vector of size 10 but the fifth value which is 1 (★☆☆)\n",
    "\n",
    "null_vector = np.zeros(10)\n",
    "null_vector[4] = 1\n",
    "print(null_vector)\n"
   ]
  },
  {
   "cell_type": "code",
   "execution_count": 9,
   "metadata": {},
   "outputs": [
    {
     "name": "stdout",
     "output_type": "stream",
     "text": [
      "[10 11 12 13 14 15 16 17 18 19 20 21 22 23 24 25 26 27 28 29 30 31 32 33\n",
      " 34 35 36 37 38 39 40 41 42 43 44 45 46 47 48 49]\n"
     ]
    }
   ],
   "source": [
    "#### 7. Create a vector with values ranging from 10 to 49 (★☆☆)\n",
    "\n",
    "vector = np.arange(10, 50)\n",
    "print(vector)"
   ]
  },
  {
   "cell_type": "code",
   "execution_count": 10,
   "metadata": {},
   "outputs": [
    {
     "name": "stdout",
     "output_type": "stream",
     "text": [
      "[49 48 47 46 45 44 43 42 41 40 39 38 37 36 35 34 33 32 31 30 29 28 27 26\n",
      " 25 24 23 22 21 20 19 18 17 16 15 14 13 12 11 10]\n"
     ]
    }
   ],
   "source": [
    "#### 8. Reverse a vector (first element becomes last) (★☆☆)\n",
    "\n",
    "vector = np.arange(10, 50)\n",
    "reversed_vector = vector[::-1]\n",
    "print(reversed_vector)\n"
   ]
  },
  {
   "cell_type": "code",
   "execution_count": 11,
   "metadata": {},
   "outputs": [
    {
     "name": "stdout",
     "output_type": "stream",
     "text": [
      "[[0 1 2]\n",
      " [3 4 5]\n",
      " [6 7 8]]\n"
     ]
    }
   ],
   "source": [
    "#### 9. Create a 3x3 matrix with values ranging from 0 to 8 (★☆☆)\n",
    "\n",
    "matrix = np.arange(9).reshape(3, 3)\n",
    "print(matrix)\n"
   ]
  },
  {
   "cell_type": "code",
   "execution_count": 12,
   "metadata": {},
   "outputs": [
    {
     "name": "stdout",
     "output_type": "stream",
     "text": [
      "(array([0, 1, 4], dtype=int64),)\n"
     ]
    }
   ],
   "source": [
    "#### 10. Find indices of non-zero elements from [1,2,0,0,4,0] (★☆☆)\n",
    "\n",
    "arr = np.array([1, 2, 0, 0, 4, 0])\n",
    "non_zero_indices = np.nonzero(arr)\n",
    "print(non_zero_indices)\n"
   ]
  },
  {
   "cell_type": "code",
   "execution_count": 14,
   "metadata": {},
   "outputs": [
    {
     "name": "stdout",
     "output_type": "stream",
     "text": [
      "[[1. 0. 0.]\n",
      " [0. 1. 0.]\n",
      " [0. 0. 1.]]\n"
     ]
    }
   ],
   "source": [
    "#### 11. Create a 3x3 identity matrix (★☆☆)\n",
    "\n",
    "identity_matrix = np.eye(3)\n",
    "print(identity_matrix)\n"
   ]
  },
  {
   "cell_type": "code",
   "execution_count": 15,
   "metadata": {},
   "outputs": [
    {
     "name": "stdout",
     "output_type": "stream",
     "text": [
      "[[[0.6704444  0.1333516  0.44814737]\n",
      "  [0.70513171 0.59132503 0.98115432]\n",
      "  [0.37977759 0.28838133 0.39781109]]\n",
      "\n",
      " [[0.77095388 0.37606617 0.33069162]\n",
      "  [0.19562894 0.38725007 0.5090794 ]\n",
      "  [0.23538378 0.9848207  0.78002919]]\n",
      "\n",
      " [[0.19327817 0.01405515 0.10311063]\n",
      "  [0.43893063 0.24689454 0.36495145]\n",
      "  [0.25573496 0.72901804 0.52570872]]]\n"
     ]
    }
   ],
   "source": [
    "#### 12. Create a 3x3x3 array with random values (★☆☆)\n",
    "\n",
    "random_array = np.random.random((3, 3, 3))\n",
    "print(random_array)\n"
   ]
  },
  {
   "cell_type": "code",
   "execution_count": 16,
   "metadata": {},
   "outputs": [
    {
     "name": "stdout",
     "output_type": "stream",
     "text": [
      "Minimum Value: 0.03204274745490954\n",
      "Maximum Value: 0.9952159431554569\n"
     ]
    }
   ],
   "source": [
    "#### 13. Create a 10x10 array with random values and find the minimum and maximum values (★☆☆)\n",
    "\n",
    "random_array = np.random.random((10, 10))\n",
    "min_value = np.min(random_array)\n",
    "max_value = np.max(random_array)\n",
    "print(\"Minimum Value:\", min_value)\n",
    "print(\"Maximum Value:\", max_value)\n"
   ]
  },
  {
   "cell_type": "code",
   "execution_count": 17,
   "metadata": {},
   "outputs": [
    {
     "name": "stdout",
     "output_type": "stream",
     "text": [
      "Mean Value: 0.5344152338862922\n"
     ]
    }
   ],
   "source": [
    "#### 14. Create a random vector of size 30 and find the mean value (★☆☆)\n",
    "\n",
    "random_vector = np.random.random(30)\n",
    "mean_value = np.mean(random_vector)\n",
    "print(\"Mean Value:\", mean_value)\n"
   ]
  },
  {
   "cell_type": "code",
   "execution_count": 18,
   "metadata": {},
   "outputs": [
    {
     "name": "stdout",
     "output_type": "stream",
     "text": [
      "[[1. 1. 1. 1. 1.]\n",
      " [1. 0. 0. 0. 1.]\n",
      " [1. 0. 0. 0. 1.]\n",
      " [1. 0. 0. 0. 1.]\n",
      " [1. 1. 1. 1. 1.]]\n"
     ]
    }
   ],
   "source": [
    "#### 15. Create a 2d array with 1 on the border and 0 inside (★☆☆)\n",
    "\n",
    "array_2d = np.ones((5, 5))\n",
    "array_2d[1:-1, 1:-1] = 0\n",
    "print(array_2d)\n"
   ]
  },
  {
   "cell_type": "code",
   "execution_count": 19,
   "metadata": {},
   "outputs": [
    {
     "name": "stdout",
     "output_type": "stream",
     "text": [
      "[[0. 0. 0. 0. 0.]\n",
      " [0. 1. 1. 1. 0.]\n",
      " [0. 1. 1. 1. 0.]\n",
      " [0. 1. 1. 1. 0.]\n",
      " [0. 0. 0. 0. 0.]]\n"
     ]
    }
   ],
   "source": [
    "#### 16. How to add a border (filled with 0's) around an existing array? (★☆☆)\n",
    "\n",
    "existing_array = np.ones((3, 3))\n",
    "new_array = np.pad(existing_array, pad_width=1, mode='constant', constant_values=0)\n",
    "print(new_array)\n"
   ]
  },
  {
   "cell_type": "code",
   "execution_count": 20,
   "metadata": {},
   "outputs": [
    {
     "data": {
      "text/plain": [
       "False"
      ]
     },
     "execution_count": 20,
     "metadata": {},
     "output_type": "execute_result"
    }
   ],
   "source": [
    "#### 17. What is the result of the following expression? (★☆☆)\n",
    "\n",
    "0 * np.nan\n",
    "np.nan == np.nan\n",
    "np.inf > np.nan\n",
    "np.nan - np.nan\n",
    "np.nan in set([np.nan])\n",
    "0.3 == 3 * 0.1\n"
   ]
  },
  {
   "cell_type": "code",
   "execution_count": 21,
   "metadata": {},
   "outputs": [
    {
     "name": "stdout",
     "output_type": "stream",
     "text": [
      "[[0 0 0 0 0]\n",
      " [1 0 0 0 0]\n",
      " [0 2 0 0 0]\n",
      " [0 0 3 0 0]\n",
      " [0 0 0 4 0]]\n"
     ]
    }
   ],
   "source": [
    "#### 18. Create a 5x5 matrix with values 1,2,3,4 just below the diagonal (★☆☆)\n",
    "\n",
    "matrix = np.diag(1 + np.arange(4), k=-1)\n",
    "print(matrix)\n"
   ]
  },
  {
   "cell_type": "code",
   "execution_count": 22,
   "metadata": {},
   "outputs": [
    {
     "name": "stdout",
     "output_type": "stream",
     "text": [
      "[[0 1 0 1 0 1 0 1]\n",
      " [1 0 1 0 1 0 1 0]\n",
      " [0 1 0 1 0 1 0 1]\n",
      " [1 0 1 0 1 0 1 0]\n",
      " [0 1 0 1 0 1 0 1]\n",
      " [1 0 1 0 1 0 1 0]\n",
      " [0 1 0 1 0 1 0 1]\n",
      " [1 0 1 0 1 0 1 0]]\n"
     ]
    }
   ],
   "source": [
    "#### 19. Create an 8x8 matrix and fill it with a checkerboard pattern (★☆☆)\n",
    "\n",
    "checkerboard_matrix = np.zeros((8, 8), dtype=int)\n",
    "checkerboard_matrix[1::2, ::2] = 1\n",
    "checkerboard_matrix[::2, 1::2] = 1\n",
    "print(checkerboard_matrix)\n"
   ]
  },
  {
   "cell_type": "code",
   "execution_count": 23,
   "metadata": {},
   "outputs": [
    {
     "name": "stdout",
     "output_type": "stream",
     "text": [
      "(1, 5, 4)\n"
     ]
    }
   ],
   "source": [
    "#### 20. Consider a (6,7,8) shape array, what is the index (x,y,z) of the 100th element? (★☆☆)\n",
    "\n",
    "shape_array = np.arange(6 * 7 * 8).reshape(6, 7, 8)\n",
    "index_100 = np.unravel_index(100, shape_array.shape)\n",
    "print(index_100)\n"
   ]
  },
  {
   "cell_type": "code",
   "execution_count": 24,
   "metadata": {},
   "outputs": [
    {
     "name": "stdout",
     "output_type": "stream",
     "text": [
      "[[0 1 0 1 0 1 0 1]\n",
      " [1 0 1 0 1 0 1 0]\n",
      " [0 1 0 1 0 1 0 1]\n",
      " [1 0 1 0 1 0 1 0]\n",
      " [0 1 0 1 0 1 0 1]\n",
      " [1 0 1 0 1 0 1 0]\n",
      " [0 1 0 1 0 1 0 1]\n",
      " [1 0 1 0 1 0 1 0]]\n"
     ]
    }
   ],
   "source": [
    "#### 21. Create a checkerboard 8x8 matrix using the tile function (★☆☆)\n",
    "\n",
    "checkerboard_matrix = np.tile(np.array([[0, 1], [1, 0]]), (4, 4))\n",
    "print(checkerboard_matrix)\n"
   ]
  },
  {
   "cell_type": "code",
   "execution_count": 25,
   "metadata": {},
   "outputs": [
    {
     "name": "stdout",
     "output_type": "stream",
     "text": [
      "[[ 1.66542313  0.93276158 -0.890166    0.61497902 -0.0650472 ]\n",
      " [ 0.5590255   0.15790355 -0.94465853 -0.58061178 -0.87148372]\n",
      " [ 0.61273277 -1.21849596  0.80499845 -1.51756284  1.08351013]\n",
      " [-0.7215008  -0.76055463 -0.59759196 -1.52817347 -1.17179181]\n",
      " [-0.37831175  1.59436753  1.10047842  1.59019871  0.52957168]]\n"
     ]
    }
   ],
   "source": [
    "#### 22. Normalize a 5x5 random matrix (★☆☆)\n",
    "\n",
    "random_matrix = np.random.random((5, 5))\n",
    "normalized_matrix = (random_matrix - np.mean(random_matrix)) / np.std(random_matrix)\n",
    "print(normalized_matrix)\n"
   ]
  },
  {
   "cell_type": "code",
   "execution_count": 26,
   "metadata": {},
   "outputs": [
    {
     "name": "stdout",
     "output_type": "stream",
     "text": [
      "[('R', 'u1'), ('G', 'u1'), ('B', 'u1'), ('A', 'u1')]\n"
     ]
    },
    {
     "name": "stderr",
     "output_type": "stream",
     "text": [
      "C:\\Users\\Lenovo\\anaconda3\\lib\\site-packages\\ipykernel_launcher.py:6: FutureWarning: Passing (type, 1) or '1type' as a synonym of type is deprecated; in a future version of numpy, it will be understood as (type, (1,)) / '(1,)type'.\n",
      "  \n"
     ]
    }
   ],
   "source": [
    "#### 23. Create a custom dtype that describes a color as four unsigned bytes (RGBA) (★☆☆)\n",
    "\n",
    "color_dtype = np.dtype([(\"R\", np.ubyte, 1),\n",
    "                       (\"G\", np.ubyte, 1),\n",
    "                       (\"B\", np.ubyte, 1),\n",
    "                       (\"A\", np.ubyte, 1)])\n",
    "print(color_dtype)\n"
   ]
  },
  {
   "cell_type": "code",
   "execution_count": 27,
   "metadata": {},
   "outputs": [
    {
     "name": "stdout",
     "output_type": "stream",
     "text": [
      "[[1.1426941  0.5520727 ]\n",
      " [1.4258519  0.86751148]\n",
      " [1.16516889 0.78181879]\n",
      " [1.04882644 0.44992883]\n",
      " [1.11998002 0.8104691 ]]\n"
     ]
    }
   ],
   "source": [
    "#### 24. Multiply a 5x3 matrix by a 3x2 matrix (real matrix product) (★☆☆)\n",
    "\n",
    "matrix_a = np.random.random((5, 3))\n",
    "matrix_b = np.random.random((3, 2))\n",
    "result_matrix = np.dot(matrix_a, matrix_b)\n",
    "# Alternatively, you can use the @ operator for matrix multiplication:\n",
    "# result_matrix = matrix_a @ matrix_b\n",
    "print(result_matrix)\n"
   ]
  },
  {
   "cell_type": "code",
   "execution_count": 28,
   "metadata": {},
   "outputs": [
    {
     "name": "stdout",
     "output_type": "stream",
     "text": [
      "[ 0  1  2  3 -4 -5 -6 -7  8  9 10]\n"
     ]
    }
   ],
   "source": [
    "#### 25. Given a 1D array, negate all elements which are between 3 and 8, in place. (★☆☆)\n",
    "\n",
    "array_1d = np.arange(11)\n",
    "array_1d[(array_1d > 3) & (array_1d < 8)] *= -1\n",
    "print(array_1d)\n"
   ]
  },
  {
   "cell_type": "code",
   "execution_count": 29,
   "metadata": {},
   "outputs": [
    {
     "name": "stdout",
     "output_type": "stream",
     "text": [
      "9\n",
      "10\n"
     ]
    }
   ],
   "source": [
    "#### 26. What is the output of the following script? (★☆☆)\n",
    "\n",
    "# Author: Jake VanderPlas\n",
    "\n",
    "print(sum(range(5),-1))\n",
    "from numpy import *\n",
    "print(sum(range(5),-1))\n"
   ]
  },
  {
   "cell_type": "code",
   "execution_count": 33,
   "metadata": {},
   "outputs": [
    {
     "ename": "SyntaxError",
     "evalue": "invalid syntax (<ipython-input-33-5941bf3f1c3a>, line 9)",
     "output_type": "error",
     "traceback": [
      "\u001b[1;36m  File \u001b[1;32m\"<ipython-input-33-5941bf3f1c3a>\"\u001b[1;36m, line \u001b[1;32m9\u001b[0m\n\u001b[1;33m    ```\u001b[0m\n\u001b[1;37m    ^\u001b[0m\n\u001b[1;31mSyntaxError\u001b[0m\u001b[1;31m:\u001b[0m invalid syntax\n"
     ]
    }
   ],
   "source": [
    "#### 27. Consider an integer vector Z, which of these expressions are legal? (★☆☆)\n",
    "\n",
    "Z**Z\n",
    "2 << Z >> 2\n",
    "Z <- Z\n",
    "1j*Z\n",
    "Z/1/1\n",
    "Z<Z>Z\n",
    "```\n",
    "\n",
    "Legal expressions:\n",
    "- `Z**Z`\n",
    "- `2 << Z >> 2`\n",
    "- `1j*Z`\n",
    "- `Z/1/1`\n",
    "\n",
    "Feel free to ask if you have any questions or need further explanation!"
   ]
  },
  {
   "cell_type": "code",
   "execution_count": 38,
   "metadata": {},
   "outputs": [
    {
     "name": "stderr",
     "output_type": "stream",
     "text": [
      "C:\\Users\\Lenovo\\anaconda3\\lib\\site-packages\\ipykernel_launcher.py:3: RuntimeWarning: invalid value encountered in true_divide\n",
      "  This is separate from the ipykernel package so we can avoid doing imports until\n",
      "C:\\Users\\Lenovo\\anaconda3\\lib\\site-packages\\ipykernel_launcher.py:4: RuntimeWarning: divide by zero encountered in floor_divide\n",
      "  after removing the cwd from sys.path.\n",
      "C:\\Users\\Lenovo\\anaconda3\\lib\\site-packages\\ipykernel_launcher.py:10: RuntimeWarning: invalid value encountered in true_divide\n",
      "  # Remove the CWD from sys.path while we load stuff.\n",
      "C:\\Users\\Lenovo\\anaconda3\\lib\\site-packages\\ipykernel_launcher.py:13: RuntimeWarning: divide by zero encountered in floor_divide\n",
      "  del sys.path[0]\n"
     ]
    },
    {
     "data": {
      "text/plain": [
       "array([-2.14748365e+09])"
      ]
     },
     "execution_count": 38,
     "metadata": {},
     "output_type": "execute_result"
    }
   ],
   "source": [
    "#### 28. What are the results of the following expressions? (★☆☆)\n",
    "\n",
    "np.array(0) / np.array(0)\n",
    "np.array(0) // np.array(0)\n",
    "np.array([np.nan]).astype(int).astype(float)\n",
    "\n",
    "\n",
    "\n",
    "# Division by zero, which leads to a warning and results in nan\n",
    "np.array(0) / np.array(0)  # Output: nan\n",
    "\n",
    "# Floor division by zero, which leads to a warning and results in 0\n",
    "np.array(0) // np.array(0)  # Output: 0\n",
    "\n",
    "# Conversion of nan to integer results in -9223372036854775808 (minimum integer value)\n",
    "# and then converting it back to float results in -9.223372036854776e+18\n",
    "np.array([np.nan]).astype(int).astype(float)  # Output: array([-9.22337204e+18])"
   ]
  },
  {
   "cell_type": "code",
   "execution_count": 39,
   "metadata": {},
   "outputs": [
    {
     "name": "stdout",
     "output_type": "stream",
     "text": [
      "[-6. -5. -3. -4.  2.  7. -7.  5.  3. -2.]\n"
     ]
    }
   ],
   "source": [
    "#### 29. How to round away from zero a float array? (★☆☆)\n",
    "\n",
    "float_array = np.random.uniform(-10, 10, 10)\n",
    "rounded_array = np.round(float_array, 0)\n",
    "print(rounded_array)\n"
   ]
  },
  {
   "cell_type": "code",
   "execution_count": 40,
   "metadata": {},
   "outputs": [
    {
     "name": "stdout",
     "output_type": "stream",
     "text": [
      "[3 4 5]\n"
     ]
    }
   ],
   "source": [
    "#### 30. How to find common values between two arrays? (★☆☆)\n",
    "\n",
    "array1 = np.array([1, 2, 3, 4, 5])\n",
    "array2 = np.array([3, 4, 5, 6, 7])\n",
    "common_values = np.intersect1d(array1, array2)\n",
    "print(common_values)\n"
   ]
  },
  {
   "cell_type": "code",
   "execution_count": 43,
   "metadata": {},
   "outputs": [
    {
     "data": {
      "text/plain": [
       "{'divide': 'ignore', 'over': 'ignore', 'under': 'ignore', 'invalid': 'ignore'}"
      ]
     },
     "execution_count": 43,
     "metadata": {},
     "output_type": "execute_result"
    }
   ],
   "source": [
    "\n",
    "\n",
    "#### 31. How to ignore all numpy warnings (not recommended)? (★☆☆)\n",
    "\n",
    "# Not recommended, as it suppresses all warnings including potential issues\n",
    "np.seterr(all='ignore')\n",
    "\n",
    "# Your code here\n",
    "\n",
    "# Reset to default warning settings\n",
    "np.seterr(all='raise')"
   ]
  },
  {
   "cell_type": "code",
   "execution_count": 46,
   "metadata": {},
   "outputs": [
    {
     "ename": "FloatingPointError",
     "evalue": "invalid value encountered in sqrt",
     "output_type": "error",
     "traceback": [
      "\u001b[1;31m---------------------------------------------------------------------------\u001b[0m",
      "\u001b[1;31mFloatingPointError\u001b[0m                        Traceback (most recent call last)",
      "\u001b[1;32m<ipython-input-46-af1904f841f9>\u001b[0m in \u001b[0;36m<module>\u001b[1;34m\u001b[0m\n\u001b[0;32m      1\u001b[0m \u001b[1;31m#### 32. Is the following expression true? (★☆☆)\u001b[0m\u001b[1;33m\u001b[0m\u001b[1;33m\u001b[0m\u001b[1;33m\u001b[0m\u001b[0m\n\u001b[0;32m      2\u001b[0m \u001b[1;33m\u001b[0m\u001b[0m\n\u001b[1;32m----> 3\u001b[1;33m \u001b[0mnp\u001b[0m\u001b[1;33m.\u001b[0m\u001b[0msqrt\u001b[0m\u001b[1;33m(\u001b[0m\u001b[1;33m-\u001b[0m\u001b[1;36m1\u001b[0m\u001b[1;33m)\u001b[0m \u001b[1;33m==\u001b[0m \u001b[0mnp\u001b[0m\u001b[1;33m.\u001b[0m\u001b[0memath\u001b[0m\u001b[1;33m.\u001b[0m\u001b[0msqrt\u001b[0m\u001b[1;33m(\u001b[0m\u001b[1;33m-\u001b[0m\u001b[1;36m1\u001b[0m\u001b[1;33m)\u001b[0m\u001b[1;33m\u001b[0m\u001b[1;33m\u001b[0m\u001b[0m\n\u001b[0m\u001b[0;32m      4\u001b[0m \u001b[1;33m\u001b[0m\u001b[0m\n",
      "\u001b[1;31mFloatingPointError\u001b[0m: invalid value encountered in sqrt"
     ]
    }
   ],
   "source": [
    "#### 32. Is the following expression true? (★☆☆)\n",
    "\n",
    "np.sqrt(-1) == np.emath.sqrt(-1)\n",
    "\n"
   ]
  },
  {
   "cell_type": "code",
   "execution_count": 47,
   "metadata": {},
   "outputs": [
    {
     "name": "stdout",
     "output_type": "stream",
     "text": [
      "Yesterday: 2024-02-04\n",
      "Today: 2024-02-05\n",
      "Tomorrow: 2024-02-06\n"
     ]
    }
   ],
   "source": [
    "#### 33. How to get the dates of yesterday, today, and tomorrow? (★☆☆)\n",
    "\n",
    "yesterday = np.datetime64('today') - np.timedelta64(1)\n",
    "today = np.datetime64('today')\n",
    "tomorrow = np.datetime64('today') + np.timedelta64(1)\n",
    "\n",
    "print(\"Yesterday:\", yesterday)\n",
    "print(\"Today:\", today)\n",
    "print(\"Tomorrow:\", tomorrow)\n"
   ]
  },
  {
   "cell_type": "code",
   "execution_count": 48,
   "metadata": {},
   "outputs": [
    {
     "name": "stdout",
     "output_type": "stream",
     "text": [
      "['2016-07-01' '2016-07-02' '2016-07-03' '2016-07-04' '2016-07-05'\n",
      " '2016-07-06' '2016-07-07' '2016-07-08' '2016-07-09' '2016-07-10'\n",
      " '2016-07-11' '2016-07-12' '2016-07-13' '2016-07-14' '2016-07-15'\n",
      " '2016-07-16' '2016-07-17' '2016-07-18' '2016-07-19' '2016-07-20'\n",
      " '2016-07-21' '2016-07-22' '2016-07-23' '2016-07-24' '2016-07-25'\n",
      " '2016-07-26' '2016-07-27' '2016-07-28' '2016-07-29' '2016-07-30'\n",
      " '2016-07-31']\n"
     ]
    }
   ],
   "source": [
    "#### 34. How to get all the dates corresponding to the month of July 2016? (★★☆)\n",
    "\n",
    "dates_july_2016 = np.arange('2016-07', '2016-08', dtype='datetime64[D]')\n",
    "print(dates_july_2016)\n"
   ]
  },
  {
   "cell_type": "code",
   "execution_count": 49,
   "metadata": {},
   "outputs": [
    {
     "name": "stdout",
     "output_type": "stream",
     "text": [
      "[-1.5 -1.5 -1.5]\n"
     ]
    }
   ],
   "source": [
    "#### 35. How to compute ((A+B)*(-A/2)) in place (without copy)? (★★☆)\n",
    "\n",
    "A = np.ones(3)\n",
    "B = np.ones(3) * 2\n",
    "np.multiply(np.add(A, B, out=B), -A/2, out=B)\n",
    "print(B)\n"
   ]
  },
  {
   "cell_type": "code",
   "execution_count": 50,
   "metadata": {},
   "outputs": [
    {
     "name": "stdout",
     "output_type": "stream",
     "text": [
      "Method 1: [6 7 7 6 2]\n",
      "Method 2: [6. 7. 7. 6. 2.]\n",
      "Method 3: [6. 7. 7. 6. 2.]\n",
      "Method 4: [6. 7. 7. 6. 2.]\n"
     ]
    }
   ],
   "source": [
    "#### 36. Extract the integer part of a random array of positive numbers using 4 different methods (★★☆)\n",
    "\n",
    "random_array = np.random.uniform(0, 10, 5)\n",
    "integer_part_method1 = random_array.astype(int)\n",
    "integer_part_method2 = np.floor(random_array)\n",
    "integer_part_method3 = np.ceil(random_array) - 1\n",
    "integer_part_method4 = np.trunc(random_array)\n",
    "\n",
    "print(\"Method 1:\", integer_part_method1)\n",
    "print(\"Method 2:\", integer_part_method2)\n",
    "print(\"Method 3:\", integer_part_method3)\n",
    "print(\"Method 4:\", integer_part_method4)\n"
   ]
  },
  {
   "cell_type": "code",
   "execution_count": 51,
   "metadata": {},
   "outputs": [
    {
     "name": "stdout",
     "output_type": "stream",
     "text": [
      "[[0. 1. 2. 3. 4.]\n",
      " [0. 1. 2. 3. 4.]\n",
      " [0. 1. 2. 3. 4.]\n",
      " [0. 1. 2. 3. 4.]\n",
      " [0. 1. 2. 3. 4.]]\n"
     ]
    }
   ],
   "source": [
    "#### 37. Create a 5x5 matrix with row values ranging from 0 to 4 (★★☆)\n",
    "\n",
    "matrix = np.zeros((5, 5)) + np.arange(5)\n",
    "print(matrix)\n"
   ]
  },
  {
   "cell_type": "code",
   "execution_count": 52,
   "metadata": {},
   "outputs": [
    {
     "name": "stdout",
     "output_type": "stream",
     "text": [
      "[0 1 2 3 4 5 6 7 8 9]\n"
     ]
    }
   ],
   "source": [
    "#### 38. Consider a generator function that generates 10 integers and use it to build an array (★☆☆)\n",
    "\n",
    "def generator_function():\n",
    "    for i in range(10):\n",
    "        yield i\n",
    "\n",
    "array_from_generator = np.fromiter(generator_function(), dtype=int)\n",
    "print(array_from_generator)"
   ]
  },
  {
   "cell_type": "code",
   "execution_count": 53,
   "metadata": {},
   "outputs": [
    {
     "name": "stdout",
     "output_type": "stream",
     "text": [
      "[0.09090909 0.18181818 0.27272727 0.36363636 0.45454545 0.54545455\n",
      " 0.63636364 0.72727273 0.81818182 0.90909091]\n"
     ]
    }
   ],
   "source": [
    "#### 39. Create a vector of size 10 with values ranging from 0 to 1, both excluded (★★☆)\n",
    "\n",
    "vector = np.linspace(0, 1, 12)[1:-1]\n",
    "print(vector)\n",
    "\n",
    "\n"
   ]
  },
  {
   "cell_type": "code",
   "execution_count": 54,
   "metadata": {},
   "outputs": [
    {
     "name": "stdout",
     "output_type": "stream",
     "text": [
      "[0.0623599  0.06310546 0.24733288 0.25735539 0.39860757 0.43691544\n",
      " 0.4729267  0.58869017 0.66997117 0.6816764 ]\n"
     ]
    }
   ],
   "source": [
    "#### 40. Create a random vector of size 10 and sort it (★★☆)\n",
    "\n",
    "random_vector = np.random.random(10)\n",
    "sorted_vector = np.sort(random_vector)\n",
    "print(sorted_vector)\n"
   ]
  },
  {
   "cell_type": "code",
   "execution_count": 55,
   "metadata": {},
   "outputs": [
    {
     "name": "stdout",
     "output_type": "stream",
     "text": [
      "45\n"
     ]
    }
   ],
   "source": [
    "#### 41. How to sum a small array faster than np.sum? (★★☆)\n",
    "\n",
    "small_array = np.arange(10)\n",
    "sum_faster = np.add.reduce(small_array)\n",
    "print(sum_faster)\n"
   ]
  },
  {
   "cell_type": "code",
   "execution_count": 56,
   "metadata": {},
   "outputs": [
    {
     "name": "stdout",
     "output_type": "stream",
     "text": [
      "False\n"
     ]
    }
   ],
   "source": [
    "#### 42. Consider two random array A and B, check if they are equal (★★☆)\n",
    "\n",
    "array_A = np.random.random(5)\n",
    "array_B = np.random.random(5)\n",
    "are_equal = np.array_equal(array_A, array_B)\n",
    "print(are_equal)\n"
   ]
  },
  {
   "cell_type": "code",
   "execution_count": 57,
   "metadata": {},
   "outputs": [],
   "source": [
    "\n",
    "#### 43. Make an array immutable (read-only) (★★☆)\n",
    "\n",
    "immutable_array = np.zeros(10)\n",
    "immutable_array.flags.writeable = False\n",
    "# Trying to modify the array will result in a ValueError\n",
    "# immutable_array[0] = 1\n"
   ]
  },
  {
   "cell_type": "code",
   "execution_count": 58,
   "metadata": {},
   "outputs": [
    {
     "name": "stdout",
     "output_type": "stream",
     "text": [
      "[[1.12568459 1.00512812]\n",
      " [0.74842052 1.37703825]\n",
      " [0.61985839 0.05205167]\n",
      " [0.72256294 0.91135194]\n",
      " [0.36321781 1.15733636]\n",
      " [0.59978589 0.26614976]\n",
      " [0.87057599 0.15392499]\n",
      " [0.63674924 1.44793571]\n",
      " [0.39013401 1.21960448]\n",
      " [0.64909389 0.40527649]]\n"
     ]
    }
   ],
   "source": [
    "#### 44. Consider a random 10x2 matrix representing cartesian coordinates, convert them to polar coordinates (★★☆)\n",
    "\n",
    "cartesian_coordinates = np.random.random((10, 2))\n",
    "x, y = cartesian_coordinates[:, 0], cartesian_coordinates[:, 1]\n",
    "r = np.sqrt(x**2 + y**2)\n",
    "theta = np.arctan2(y, x)\n",
    "polar_coordinates = np.column_stack((r, theta))\n",
    "print(polar_coordinates)"
   ]
  },
  {
   "cell_type": "code",
   "execution_count": 59,
   "metadata": {},
   "outputs": [
    {
     "name": "stdout",
     "output_type": "stream",
     "text": [
      "[0.12342762 0.52874105 0.41911929 0.34343312 0.11757879 0.3523222\n",
      " 0.21862336 0.51762946 0.55708068 0.        ]\n"
     ]
    }
   ],
   "source": [
    "#### 45. Create a random vector of size 10 and replace the maximum value by 0 (★★☆)\n",
    "\n",
    "random_vector = np.random.random(10)\n",
    "random_vector[random_vector.argmax()] = 0\n",
    "print(random_vector)\n"
   ]
  },
  {
   "cell_type": "code",
   "execution_count": 60,
   "metadata": {},
   "outputs": [
    {
     "name": "stdout",
     "output_type": "stream",
     "text": [
      "[[(0.  , 0.  ) (0.25, 0.  ) (0.5 , 0.  ) (0.75, 0.  ) (1.  , 0.  )]\n",
      " [(0.  , 0.25) (0.25, 0.25) (0.5 , 0.25) (0.75, 0.25) (1.  , 0.25)]\n",
      " [(0.  , 0.5 ) (0.25, 0.5 ) (0.5 , 0.5 ) (0.75, 0.5 ) (1.  , 0.5 )]\n",
      " [(0.  , 0.75) (0.25, 0.75) (0.5 , 0.75) (0.75, 0.75) (1.  , 0.75)]\n",
      " [(0.  , 1.  ) (0.25, 1.  ) (0.5 , 1.  ) (0.75, 1.  ) (1.  , 1.  )]]\n"
     ]
    }
   ],
   "source": [
    "#### 46. Create a structured array with `x` and `y` coordinates covering the [0,1]x[0,1] area (★★☆)\n",
    "\n",
    "structured_array = np.zeros((5, 5), dtype=[('x', float), ('y', float)])\n",
    "structured_array['x'], structured_array['y'] = np.meshgrid(np.linspace(0, 1, 5), np.linspace(0, 1, 5))\n",
    "print(structured_array)\n"
   ]
  },
  {
   "cell_type": "code",
   "execution_count": 61,
   "metadata": {},
   "outputs": [
    {
     "name": "stdout",
     "output_type": "stream",
     "text": [
      "[[-2.         -0.66666667 -0.4        -0.28571429 -0.22222222]\n",
      " [ 2.         -2.         -0.66666667 -0.4        -0.28571429]\n",
      " [ 0.66666667  2.         -2.         -0.66666667 -0.4       ]\n",
      " [ 0.4         0.66666667  2.         -2.         -0.66666667]\n",
      " [ 0.28571429  0.4         0.66666667  2.         -2.        ]]\n"
     ]
    }
   ],
   "source": [
    "#### 47. Given two arrays, X and Y, construct the Cauchy matrix C (Cij = 1/(xi - yj)) (★★☆)\n",
    "\n",
    "X = np.arange(1, 6)\n",
    "Y = X + 0.5\n",
    "Cauchy_matrix = 1 / (X[:, np.newaxis] - Y)\n",
    "print(Cauchy_matrix)\n"
   ]
  },
  {
   "cell_type": "code",
   "execution_count": 62,
   "metadata": {},
   "outputs": [
    {
     "ename": "TypeError",
     "evalue": "argument of type 'int' is not iterable",
     "output_type": "error",
     "traceback": [
      "\u001b[1;31m---------------------------------------------------------------------------\u001b[0m",
      "\u001b[1;31mTypeError\u001b[0m                                 Traceback (most recent call last)",
      "\u001b[1;32m<ipython-input-62-4089eaec5739>\u001b[0m in \u001b[0;36m<module>\u001b[1;34m\u001b[0m\n\u001b[0;32m      2\u001b[0m \u001b[1;33m\u001b[0m\u001b[0m\n\u001b[0;32m      3\u001b[0m \u001b[1;32mfor\u001b[0m \u001b[0mdtype\u001b[0m \u001b[1;32min\u001b[0m \u001b[0mnp\u001b[0m\u001b[1;33m.\u001b[0m\u001b[0msctypeDict\u001b[0m\u001b[1;33m:\u001b[0m\u001b[1;33m\u001b[0m\u001b[1;33m\u001b[0m\u001b[0m\n\u001b[1;32m----> 4\u001b[1;33m     \u001b[1;32mif\u001b[0m \u001b[1;34m'float'\u001b[0m \u001b[1;32min\u001b[0m \u001b[0mdtype\u001b[0m \u001b[1;32mor\u001b[0m \u001b[1;34m'int'\u001b[0m \u001b[1;32min\u001b[0m \u001b[0mdtype\u001b[0m\u001b[1;33m:\u001b[0m\u001b[1;33m\u001b[0m\u001b[1;33m\u001b[0m\u001b[0m\n\u001b[0m\u001b[0;32m      5\u001b[0m         \u001b[0mprint\u001b[0m\u001b[1;33m(\u001b[0m\u001b[1;34mf\"{dtype}: Min = {np.iinfo(dtype).min}, Max = {np.iinfo(dtype).max}\"\u001b[0m\u001b[1;33m)\u001b[0m\u001b[1;33m\u001b[0m\u001b[1;33m\u001b[0m\u001b[0m\n",
      "\u001b[1;31mTypeError\u001b[0m: argument of type 'int' is not iterable"
     ]
    }
   ],
   "source": [
    "#### 48. Print the minimum and maximum representable value for each numpy scalar type (★★☆)\n",
    "\n",
    "for dtype in np.sctypeDict:\n",
    "    if 'float' in dtype or 'int' in dtype:\n",
    "        print(f\"{dtype}: Min = {np.iinfo(dtype).min}, Max = {np.iinfo(dtype).max}\")\n"
   ]
  },
  {
   "cell_type": "code",
   "execution_count": 63,
   "metadata": {},
   "outputs": [
    {
     "name": "stdout",
     "output_type": "stream",
     "text": [
      "[[ 0  1  2  3  4]\n",
      " [ 5  6  7  8  9]\n",
      " [10 11 12 13 14]\n",
      " [15 16 17 18 19]]\n"
     ]
    }
   ],
   "source": [
    "#### 49. How to print all the values of an array? (★★☆)\n",
    "\n",
    "array = np.arange(20).reshape(4, 5)\n",
    "np.set_printoptions(threshold=np.inf)\n",
    "print(array)\n"
   ]
  },
  {
   "cell_type": "code",
   "execution_count": 64,
   "metadata": {},
   "outputs": [
    {
     "name": "stdout",
     "output_type": "stream",
     "text": [
      "0.47205948543473564\n"
     ]
    }
   ],
   "source": [
    "#### 50. How to find the closest value (to a given scalar) in a vector? (★★☆)\n",
    "\n",
    "vector = np.random.random(10)\n",
    "scalar = 0.5\n",
    "closest_value = vector[np.argmin(np.abs(vector - scalar))]\n",
    "print(closest_value)\n"
   ]
  },
  {
   "cell_type": "code",
   "execution_count": 66,
   "metadata": {},
   "outputs": [
    {
     "name": "stdout",
     "output_type": "stream",
     "text": [
      "[((0., 0.), (0, 0, 0)) ((0., 0.), (0, 0, 0)) ((0., 0.), (0, 0, 0))\n",
      " ((0., 0.), (0, 0, 0)) ((0., 0.), (0, 0, 0)) ((0., 0.), (0, 0, 0))\n",
      " ((0., 0.), (0, 0, 0)) ((0., 0.), (0, 0, 0)) ((0., 0.), (0, 0, 0))\n",
      " ((0., 0.), (0, 0, 0))]\n"
     ]
    }
   ],
   "source": [
    "#### 51. Create a structured array representing a position (x,y) and a color (r,g,b) (★★☆)\n",
    "\n",
    "structured_array = np.zeros(10, dtype=[('position', [('x', float), ('y', float)]), ('color', [('r', int), ('g', int), ('b', int)])])\n",
    "print(structured_array)\n"
   ]
  },
  {
   "cell_type": "code",
   "execution_count": 67,
   "metadata": {},
   "outputs": [
    {
     "name": "stdout",
     "output_type": "stream",
     "text": [
      "[[0.         0.10175976 0.15078421 0.80824249 0.37194123 0.55504617\n",
      "  0.80340036 0.44697557 0.5423586  0.35449897 0.3700326  0.45708704\n",
      "  0.40530919 0.31831912 0.617443   0.38065737 0.23727295 0.69688056\n",
      "  0.74264551 0.24170015 0.14157684 0.17778009 0.33238376 0.13485292\n",
      "  0.17572989 0.37080015 0.28394568 0.42725054 0.22952727 0.19204614\n",
      "  0.37749386 0.37270103 0.6748209  0.73009883 0.11513348 0.75304191\n",
      "  0.63782362 0.5975818  0.26005427 0.37193591 0.52093193 0.20285952\n",
      "  0.24704526 0.66871128 0.33316875 0.86677215 0.10666049 0.51931065\n",
      "  0.48335671 0.39779886 0.58442712 0.16692099 0.35996396 0.97190866\n",
      "  0.37500609 0.66973721 0.13589495 0.12122236 0.80822691 0.57951543\n",
      "  0.92140257 0.61853867 1.00683116 0.49287012 0.52782872 0.50476854\n",
      "  0.21031277 0.67559272 0.93961496 0.35170295 0.59090375 0.61427483\n",
      "  0.16257744 0.23970231 0.46748983 0.26218838 0.69261992 0.52425635\n",
      "  1.08157853 0.95630459 0.17289462 0.32188625 0.76333478 0.56822224\n",
      "  0.13052425 0.94448329 0.81558986 0.72349527 0.49980131 0.73016922\n",
      "  0.05594244 0.16867594 0.55547649 0.47300251 0.63127521 0.17057582\n",
      "  0.28156476 0.47063697 0.94462638 0.66569213]\n",
      " [0.10175976 0.         0.14190968 0.71132877 0.30351101 0.4708874\n",
      "  0.70895805 0.35359696 0.46372264 0.2735819  0.32267106 0.43912178\n",
      "  0.35424304 0.21893047 0.57151469 0.28544129 0.13612091 0.59568064\n",
      "  0.6845121  0.26588016 0.1503881  0.14876277 0.23475076 0.13427547\n",
      "  0.26806747 0.29304375 0.18247929 0.33739514 0.20104778 0.1434409\n",
      "  0.40736411 0.34210329 0.5740675  0.62871278 0.08599042 0.65727936\n",
      "  0.62444554 0.59840487 0.29470836 0.31240575 0.54171387 0.28197635\n",
      "  0.17479965 0.56817863 0.29429715 0.7777406  0.20840975 0.54062037\n",
      "  0.48921504 0.43226205 0.48508455 0.26853045 0.35716041 0.89157304\n",
      "  0.28280098 0.56891251 0.12253463 0.08637575 0.71370407 0.49018822\n",
      "  0.82933249 0.53310583 0.92730739 0.40663218 0.47848718 0.51002324\n",
      "  0.22837766 0.59639234 0.86470928 0.31895801 0.50643474 0.52095402\n",
      "  0.20799    0.30423987 0.36720346 0.34203121 0.64300199 0.47511437\n",
      "  0.9974476  0.86345436 0.1135446  0.34286207 0.6729386  0.48896892\n",
      "  0.22262604 0.86954689 0.71748334 0.65073246 0.45108953 0.72130714\n",
      "  0.073801   0.20976453 0.46090243 0.40110325 0.62074654 0.11834169\n",
      "  0.32829025 0.36892489 0.85673849 0.57225003]\n",
      " [0.15078421 0.14190968 0.         0.71708852 0.24111311 0.59057878\n",
      "  0.80572014 0.46090204 0.41724436 0.40189109 0.22308378 0.30873209\n",
      "  0.25938301 0.26213642 0.46781022 0.29957662 0.23301328 0.66222587\n",
      "  0.59681156 0.12777529 0.274189   0.28738865 0.33705652 0.26154249\n",
      "  0.3123862  0.42345514 0.25012857 0.32742992 0.07980271 0.28519221\n",
      "  0.26782354 0.22191801 0.64561311 0.69209976 0.05593566 0.7509321\n",
      "  0.49196133 0.45944782 0.16068858 0.2325766  0.39987278 0.34950484\n",
      "  0.13718691 0.64168048 0.18381805 0.753213   0.21702657 0.39880995\n",
      "  0.34851148 0.2940073  0.56823991 0.26201191 0.21812347 0.84327901\n",
      "  0.39564832 0.60322257 0.01940745 0.22286583 0.8101846  0.6017116\n",
      "  0.81405285 0.50212089 0.87695137 0.3818546  0.37963101 0.36953008\n",
      "  0.35050254 0.54850383 0.80494029 0.20105961 0.47346574 0.51547097\n",
      "  0.31113331 0.19798908 0.40404414 0.40700004 0.54369088 0.37601538\n",
      "  0.95759954 0.85057276 0.25544198 0.20179897 0.65407083 0.44329633\n",
      "  0.18434272 0.80981083 0.72928388 0.58839282 0.3516039  0.58667943\n",
      "  0.17796011 0.31625857 0.56188992 0.34162118 0.48668312 0.06477338\n",
      "  0.20085406 0.43340346 0.82803837 0.56593215]\n",
      " [0.80824249 0.71132877 0.71708852 0.         0.49674895 0.59836681\n",
      "  0.51254623 0.52746301 0.34586082 0.63259998 0.56700121 0.67693661\n",
      "  0.54131049 0.49315989 0.54380713 0.42772838 0.59358699 0.30940114\n",
      "  0.47376411 0.78397661 0.82285355 0.7763244  0.54759082 0.80562905\n",
      "  0.97937588 0.64567408 0.53562045 0.38966981 0.6640432  0.74306213\n",
      "  0.85053397 0.62522879 0.33543459 0.29290982 0.71040055 0.47285848\n",
      "  0.75128913 0.81461322 0.81845326 0.5252161  0.88007918 0.9881562\n",
      "  0.58041341 0.3454554  0.60625411 0.16632895 0.9103969  0.8817968\n",
      "  0.79261156 0.87820178 0.40084722 0.96630305 0.7243551  0.3401032\n",
      "  0.56302942 0.18412019 0.71568026 0.75721835 0.51264024 0.5485741\n",
      "  0.15673613 0.25328566 0.3727759  0.3425077  0.52225081 0.79796025\n",
      "  0.88094515 0.28304445 0.38317035 0.62122253 0.2780491  0.20314195\n",
      "  0.89591517 0.89642835 0.35132001 1.04676206 0.53011693 0.52371328\n",
      "  0.37816155 0.1764373  0.72472496 0.79724    0.13000265 0.32720997\n",
      "  0.8976593  0.38555274 0.0320116  0.33970244 0.52899724 0.82235884\n",
      "  0.7832786  0.89349037 0.48754426 0.42170871 0.76532382 0.65957564\n",
      "  0.86436488 0.3897677  0.22864184 0.15577825]\n",
      " [0.37194123 0.30351101 0.24111311 0.49674895 0.         0.56927162\n",
      "  0.71003817 0.42848584 0.17634085 0.43560486 0.08656428 0.2417135\n",
      "  0.08651423 0.19373483 0.28443088 0.15588637 0.26992304 0.52125449\n",
      "  0.38238194 0.28746976 0.45220861 0.43504285 0.32883285 0.43517607\n",
      "  0.54565581 0.45945752 0.22990123 0.13040134 0.17315631 0.4144746\n",
      "  0.36436675 0.14988653 0.51462726 0.54352259 0.25733783 0.65248695\n",
      "  0.4031596  0.4187959  0.32170537 0.03836577 0.4311379  0.57416132\n",
      "  0.12878073 0.51448305 0.11413452 0.51473689 0.4560127  0.43187154\n",
      "  0.34732847 0.39358278 0.46728686 0.50309323 0.24246062 0.60288806\n",
      "  0.39105792 0.4197305  0.24676873 0.38339876 0.71363056 0.55757513\n",
      "  0.57858266 0.26431451 0.63701999 0.15435583 0.19143304 0.36089519\n",
      "  0.52887125 0.30748549 0.56780399 0.13660304 0.23546792 0.2942329\n",
      "  0.51112731 0.40164974 0.25536437 0.63390038 0.34845817 0.18871006\n",
      "  0.71650404 0.61584821 0.38372936 0.3048158  0.41890352 0.20234056\n",
      "  0.42474722 0.57267482 0.51379551 0.35155755 0.16792905 0.50162882\n",
      "  0.37295015 0.51321002 0.49824929 0.10140277 0.40724008 0.20143771\n",
      "  0.36766819 0.32337931 0.58810571 0.34127915]\n",
      " [0.55504617 0.4708874  0.59057878 0.59836681 0.56927162 0.\n",
      "  0.27762729 0.14114066 0.60562641 0.20066319 0.64613444 0.80309827\n",
      "  0.65553179 0.37977677 0.83025476 0.41850196 0.3583703  0.30967004\n",
      "  0.87128358 0.71697598 0.46211934 0.40218884 0.25796855 0.45353876\n",
      "  0.65563075 0.18651518 0.35957588 0.47279534 0.60861285 0.37401108\n",
      "  0.85156437 0.70009983 0.27838695 0.34095824 0.54158194 0.24433735\n",
      "  0.97241423 0.98150544 0.75116487 0.60443465 0.96505408 0.62804015\n",
      "  0.51106877 0.26749139 0.64887533 0.74531261 0.64962639 0.96482814\n",
      "  0.89277387 0.87974532 0.1975247  0.70765654 0.76389104 0.9127301\n",
      "  0.195638   0.4160346  0.57415024 0.43802309 0.28266455 0.05538813\n",
      "  0.75477868 0.60146976 0.94925336 0.52592913 0.74682227 0.91035713\n",
      "  0.46953192 0.68863721 0.92814194 0.67895789 0.59240725 0.52132681\n",
      "  0.52271802 0.77436097 0.35741257 0.66915141 0.87387518 0.74503261\n",
      "  0.97369013 0.77374222 0.38449528 0.78287364 0.65190942 0.61708671\n",
      "  0.68548562 0.93203138 0.58243048 0.76890238 0.72900231 1.07084304\n",
      "  0.50093803 0.5148739  0.11122836 0.60523345 0.97613391 0.53380759\n",
      "  0.79077843 0.27422844 0.82034728 0.5504177 ]\n",
      " [0.80340036 0.70895805 0.80572014 0.51254623 0.71003817 0.27762729\n",
      "  0.         0.35643122 0.67549955 0.46155518 0.79591863 0.95126739\n",
      "  0.79318309 0.5541075  0.91823135 0.55667162 0.57859769 0.22146436\n",
      "  0.9137503  0.92398977 0.72893243 0.668454   0.47496718 0.71826418\n",
      "  0.92295752 0.45350851 0.55599426 0.58576351 0.8022949  0.63735955\n",
      "  1.04583178 0.85764507 0.2108673  0.2243036  0.76515018 0.05755251\n",
      "  1.0959733  1.12605563 0.96059017 0.74836521 1.13774702 0.89999273\n",
      "  0.69674964 0.20653615 0.81252698 0.67858686 0.90474441 1.13816837\n",
      "  1.05636587 1.07538287 0.24439796 0.96460196 0.93963206 0.85264393\n",
      "  0.42850949 0.37492479 0.79243011 0.69446832 0.0050523  0.23373701\n",
      "  0.65930145 0.63149214 0.88511512 0.60933886 0.85215766 1.07068236\n",
      "  0.74413284 0.7097735  0.89140036 0.84049924 0.63528445 0.53780617\n",
      "  0.79384193 1.00101617 0.45574695 0.94377093 0.94076213 0.85147619\n",
      "  0.87925391 0.66517915 0.64179913 0.97784899 0.61320688 0.67632881\n",
      "  0.9310611  0.8942363  0.48545503 0.78856638 0.84216396 1.18830714\n",
      "  0.75290555 0.78654031 0.24811472 0.7073322  1.10387801 0.74264549\n",
      "  1.0044771  0.3893129  0.73811646 0.54187828]\n",
      " [0.44697557 0.35359696 0.46090204 0.52746301 0.42848584 0.14114066\n",
      "  0.35643122 0.         0.47591358 0.12139597 0.50499533 0.66203003\n",
      "  0.51462197 0.23870743 0.6934324  0.27951744 0.22830655 0.2898336\n",
      "  0.74306849 0.58507044 0.38056471 0.32088893 0.12384553 0.36805631\n",
      "  0.57260624 0.12577499 0.22093243 0.33694894 0.47211991 0.28771994\n",
      "  0.71656666 0.55922068 0.26065977 0.32527517 0.41548294 0.30691845\n",
      "  0.8315374  0.84047952 0.62030194 0.46340907 0.82628426 0.55586301\n",
      "  0.37216553 0.25152262 0.50821694 0.65744782 0.54866362 0.82614919\n",
      "  0.75276003 0.74521445 0.16045368 0.60873606 0.62490875 0.81658897\n",
      "  0.07221493 0.34479586 0.44572234 0.33966333 0.36126606 0.14105514\n",
      "  0.67913756 0.48354595 0.8538061  0.39525006 0.60822459 0.77009221\n",
      "  0.40959475 0.57031563 0.82284395 0.53824769 0.47075396 0.41270047\n",
      "  0.45000781 0.65126382 0.23222926 0.60495493 0.7403151  0.60631124\n",
      "  0.89025107 0.7033315  0.28799322 0.64774567 0.55690967 0.48981965\n",
      "  0.57500228 0.82702605 0.51807483 0.64877837 0.58962058 0.93011463\n",
      "  0.39671159 0.44381135 0.10887665 0.46863729 0.83511232 0.40115386\n",
      "  0.66174356 0.15416631 0.73617653 0.44952772]\n",
      " [0.5423586  0.46372264 0.41724436 0.34586082 0.17634085 0.60562641\n",
      "  0.67549955 0.47591358 0.         0.52431598 0.22798551 0.33226746\n",
      "  0.19830394 0.29001181 0.24285343 0.2157619  0.39370342 0.46134427\n",
      "  0.26721218 0.45544238 0.60594919 0.57840817 0.41309501 0.5882778\n",
      "  0.71763237 0.54619851 0.33855317 0.14885413 0.3486296  0.55232843\n",
      "  0.50684329 0.28195682 0.46548388 0.47345722 0.42959955 0.61980667\n",
      "  0.4325625  0.48194428 0.48706023 0.19344687 0.53598949 0.74227915\n",
      "  0.29531495 0.46906887 0.27072939 0.3401676  0.63081539 0.53757479\n",
      "  0.44826621 0.53388731 0.45303981 0.67905828 0.38066937 0.42955338\n",
      "  0.4640608  0.32467233 0.42209801 0.53559551 0.6781029  0.57833273\n",
      "  0.40695409 0.09489598 0.46462053 0.08078019 0.18812737 0.45492741\n",
      "  0.67917473 0.13326011 0.40137658 0.28085124 0.06796539 0.16087465\n",
      "  0.67069842 0.57210496 0.24843377 0.80241012 0.2711541  0.18860651\n",
      "  0.54087631 0.44478736 0.52436139 0.45725814 0.24946803 0.02607778\n",
      "  0.60107639 0.40619312 0.3685393  0.19123225 0.18828392 0.51848719\n",
      "  0.53640194 0.67154165 0.51115491 0.08060831 0.44354063 0.37363908\n",
      "  0.53115668 0.33183307 0.41212328 0.19405397]\n",
      " [0.35449897 0.2735819  0.40189109 0.63259998 0.43560486 0.20066319\n",
      "  0.46155518 0.12139597 0.52431598 0.         0.49904965 0.64895166\n",
      "  0.51683704 0.24484471 0.71668986 0.31027509 0.18011431 0.41104266\n",
      "  0.7880811  0.52964333 0.26738371 0.20690956 0.11153485 0.25688522\n",
      "  0.46141211 0.0239945  0.2058985  0.37616504 0.43245345 0.17611721\n",
      "  0.66830525 0.54422212 0.38203372 0.44650642 0.34965066 0.41688985\n",
      "  0.82848445 0.82402019 0.562006   0.46498315 0.79136731 0.43991338\n",
      "  0.3467865  0.37291858 0.49148357 0.75048854 0.44940143 0.79078599\n",
      "  0.72594596 0.69532811 0.28183962 0.50790583 0.59334397 0.9011517\n",
      "  0.06984061 0.45397042 0.38418885 0.23761305 0.46655381 0.22980609\n",
      "  0.77960162 0.55148982 0.93855428 0.44498116 0.6257331  0.74505041\n",
      "  0.28949904 0.63522547 0.89879989 0.52138641 0.5337884  0.49414713\n",
      "  0.3336223  0.57781333 0.30454777 0.48677062 0.77299635 0.62324967\n",
      "  0.98372718 0.80634042 0.18407812 0.60055905 0.64641891 0.54266124\n",
      "  0.48499415 0.90323089 0.62634052 0.70935001 0.60335196 0.92804831\n",
      "  0.30027485 0.32680817 0.22258979 0.49860354 0.82938583 0.3510043\n",
      "  0.59909237 0.24399666 0.8307057  0.53695586]\n",
      " [0.3700326  0.32267106 0.22308378 0.56700121 0.08656428 0.64613444\n",
      "  0.79591863 0.50499533 0.22798551 0.49904965 0.         0.1579885\n",
      "  0.0368903  0.26656179 0.24947615 0.24007667 0.3237476  0.60769644\n",
      "  0.37373219 0.2299413  0.47266989 0.46624026 0.39763244 0.45689315\n",
      "  0.53542197 0.52304169 0.29472045 0.21641601 0.14379025 0.45100217\n",
      "  0.28481518 0.06367656 0.60119139 0.62964113 0.25686984 0.73837962\n",
      "  0.32980615 0.33640939 0.25991953 0.04845882 0.34461233 0.57169703\n",
      "  0.15948424 0.60102737 0.04476141 0.56610022 0.43844506 0.34536902\n",
      "  0.260859   0.31332269 0.55263851 0.47795891 0.15986935 0.63374623\n",
      "  0.46144442 0.50297416 0.23495983 0.40805818 0.79956091 0.63772538\n",
      "  0.63456998 0.32234221 0.66564202 0.22963937 0.15798813 0.27476525\n",
      "  0.55084446 0.34700412 0.58889928 0.05433846 0.29424338 0.36766996\n",
      "  0.52300757 0.34740731 0.34181313 0.6297586  0.32309092 0.15445435\n",
      "  0.75259644 0.67251361 0.41923221 0.23043139 0.47743436 0.25191264\n",
      "  0.39568223 0.59374115 0.58642779 0.37400968 0.1300356  0.42931046\n",
      "  0.38383413 0.52660964 0.58030092 0.14765573 0.33169179 0.20644481\n",
      "  0.30337631 0.40817337 0.63468785 0.41142313]\n",
      " [0.45708704 0.43912178 0.30873209 0.67693661 0.2417135  0.80309827\n",
      "  0.95126739 0.66203003 0.33226746 0.64895166 0.1579885  0.\n",
      "  0.15850282 0.42332693 0.20965609 0.39725032 0.47003331 0.75722883\n",
      "  0.35951002 0.24109463 0.5818084  0.58781541 0.55169532 0.568213\n",
      "  0.59873356 0.67282504 0.44803343 0.36688766 0.23813207 0.57864278\n",
      "  0.20528351 0.10473367 0.75290652 0.77691826 0.35865228 0.89371943\n",
      "  0.18544715 0.17855667 0.25138048 0.20367234 0.20377712 0.6453635\n",
      "  0.30242468 0.7534368  0.15747008 0.64159419 0.49613752 0.2053241\n",
      "  0.11602195 0.22543498 0.70895402 0.51961921 0.10840223 0.66976882\n",
      "  0.61589838 0.64152081 0.32643587 0.52502758 0.95479089 0.79560333\n",
      "  0.71595544 0.42368193 0.696308   0.36280325 0.16486209 0.1242587\n",
      "  0.65884906 0.41782166 0.60958396 0.12768338 0.39933127 0.49004687\n",
      "  0.61916309 0.34199941 0.49574196 0.69848452 0.28505534 0.16222434\n",
      "  0.79383398 0.75404029 0.54697993 0.18824818 0.56941348 0.34973153\n",
      "  0.43734757 0.61411915 0.70053943 0.41422202 0.15028004 0.28343527\n",
      "  0.48632666 0.62461639 0.73826594 0.26444014 0.18294065 0.32222062\n",
      "  0.27803159 0.565061   0.69895247 0.52630495]\n",
      " [0.40530919 0.35424304 0.25938301 0.54131049 0.08651423 0.65553179\n",
      "  0.79318309 0.51462197 0.19830394 0.51683704 0.0368903  0.15850282\n",
      "  0.         0.27834044 0.21737787 0.24187736 0.34517065 0.59908064\n",
      "  0.33766805 0.26458209 0.50458145 0.49562016 0.41230238 0.48849301\n",
      "  0.5717692  0.54080403 0.31110444 0.20838528 0.18037989 0.47887462\n",
      "  0.3092826  0.08395914 0.59443694 0.61936967 0.29145074 0.73565067\n",
      "  0.3169171  0.33352164 0.293314   0.05199872 0.35552542 0.60739175\n",
      "  0.18591879 0.59493538 0.08098585 0.53368969 0.47513849 0.35658241\n",
      "  0.26928522 0.3369015  0.55157759 0.51484833 0.18305934 0.59774074\n",
      "  0.47530202 0.48740127 0.27077231 0.43883524 0.7966598  0.64408217\n",
      "  0.6032366  0.29318169 0.62940317 0.210035   0.12431244 0.28090054\n",
      "  0.5826206  0.31293277 0.55221371 0.08350392 0.26568009 0.34481432\n",
      "  0.55665993 0.38206576 0.33748201 0.66567535 0.28927249 0.12090557\n",
      "  0.71707838 0.64129896 0.44728063 0.25912869 0.44737171 0.22114711\n",
      "  0.43256205 0.55705174 0.56193419 0.33764172 0.09685321 0.41566846\n",
      "  0.41728486 0.56000661 0.58453569 0.1196364  0.32076255 0.23968101\n",
      "  0.33572516 0.40850845 0.60104579 0.38643562]\n",
      " [0.31831912 0.21893047 0.26213642 0.49315989 0.19373483 0.37977677\n",
      "  0.5541075  0.23870743 0.29001181 0.24484471 0.26656179 0.42332693\n",
      "  0.27834044 0.         0.47196824 0.07726262 0.10818313 0.40009134\n",
      "  0.54721528 0.37189775 0.3359273  0.29786571 0.13559268 0.31821616\n",
      "  0.48657385 0.26833402 0.04936565 0.14268296 0.2482937  0.26839456\n",
      "  0.49194222 0.32067681 0.38390073 0.43009846 0.23506412 0.49770905\n",
      "  0.59471473 0.6017741  0.40894194 0.2265232  0.59176597 0.49553802\n",
      "  0.14264405 0.38033157 0.27014939 0.57012998 0.42340223 0.59183225\n",
      "  0.51571564 0.52141855 0.31145211 0.48188533 0.39072786 0.69898209\n",
      "  0.19732317 0.35229498 0.25290245 0.26739698 0.55828813 0.37419283\n",
      "  0.61652999 0.337485   0.73584872 0.21617038 0.38163239 0.53252116\n",
      "  0.40230553 0.41315919 0.68356504 0.3000269  0.31432359 0.30846425\n",
      "  0.40710648 0.45998351 0.14956044 0.55461755 0.5285418  0.3792601\n",
      "  0.79668897 0.64943157 0.24356586 0.42378916 0.46392386 0.31152622\n",
      "  0.42245891 0.68824793 0.49865499 0.4804771  0.36011111 0.69379537\n",
      "  0.29017026 0.40576529 0.32131129 0.25483924 0.59759669 0.19737173\n",
      "  0.45410408 0.17183917 0.65046692 0.35897012]\n",
      " [0.617443   0.57151469 0.46781022 0.54380713 0.28443088 0.83025476\n",
      "  0.91823135 0.6934324  0.24285343 0.71668986 0.24947615 0.20965609\n",
      "  0.21737787 0.47196824 0.         0.41468266 0.55434819 0.70386965\n",
      "  0.15004131 0.43631512 0.72177802 0.71261915 0.60718753 0.70578686\n",
      "  0.77725525 0.74026815 0.51251783 0.35747119 0.38817757 0.69493269\n",
      "  0.4142316  0.24981731 0.70833652 0.71483608 0.50574144 0.86235303\n",
      "  0.20830554 0.28131025 0.45351608 0.26308992 0.37697695 0.81718785\n",
      "  0.40225496 0.71187158 0.28428437 0.46976168 0.67707119 0.37950671\n",
      "  0.29981498 0.43249416 0.69206863 0.70939898 0.31140506 0.46919262\n",
      "  0.66666804 0.56331281 0.48158489 0.65621158 0.92087313 0.80897835\n",
      "  0.54654685 0.30551004 0.4930238  0.31240923 0.09394955 0.29552022\n",
      "  0.79987652 0.26155971 0.40400311 0.26801998 0.29179855 0.3943414\n",
      "  0.77233928 0.54586839 0.48009151 0.87406202 0.07793386 0.09708662\n",
      "  0.59371952 0.58337033 0.66353463 0.39541862 0.42007549 0.24488093\n",
      "  0.62595026 0.40837759 0.57225331 0.22843472 0.1205856  0.28140581\n",
      "  0.6332717  0.77603566 0.74369687 0.22503121 0.2233898  0.45591688\n",
      "  0.48486029 0.5620323  0.51511995 0.41333873]\n",
      " [0.38065737 0.28544129 0.29957662 0.42772838 0.15588637 0.41850196\n",
      "  0.55667162 0.27951744 0.2157619  0.31027509 0.24007667 0.39725032\n",
      "  0.24187736 0.07726262 0.41468266 0.         0.18523067 0.3785973\n",
      "  0.47780621 0.39250599 0.41094813 0.37469509 0.1987403  0.39315927\n",
      "  0.55313499 0.33280269 0.12660078 0.06695997 0.26526761 0.34556656\n",
      "  0.49763377 0.30106997 0.36798377 0.40466128 0.2847531  0.49920198\n",
      "  0.5566304  0.57467128 0.42963151 0.19360432 0.58121458 0.56606727\n",
      "  0.16429416 0.36656254 0.2562725  0.4953927  0.48279921 0.58168729\n",
      "  0.49980927 0.52740313 0.31281154 0.53928253 0.38473531 0.6218379\n",
      "  0.25395704 0.30376034 0.29467204 0.34157966 0.56042    0.40332864\n",
      "  0.54435956 0.26024841 0.65866749 0.13962862 0.32871059 0.51449708\n",
      "  0.47879031 0.33631029 0.60647664 0.28388072 0.2371071  0.23576902\n",
      "  0.48106238 0.49249588 0.10972765 0.62569447 0.46543592 0.32681385\n",
      "  0.72046127 0.57815829 0.32030935 0.43202978 0.3895772  0.23613581\n",
      "  0.47351882 0.61114873 0.43614498 0.40495156 0.3105006  0.65409198\n",
      "  0.35860313 0.48018785 0.3427514  0.19107633 0.56162955 0.23748067\n",
      "  0.47620821 0.16811665 0.57538185 0.28694699]\n",
      " [0.23727295 0.13612091 0.23301328 0.59358699 0.26992304 0.3583703\n",
      "  0.57859769 0.22830655 0.39370342 0.18011431 0.3237476  0.47003331\n",
      "  0.34517065 0.10818313 0.55434819 0.18523067 0.         0.45964432\n",
      "  0.64332888 0.35866905 0.23003028 0.18972067 0.10471377 0.21254766\n",
      "  0.39342466 0.20368457 0.05970452 0.24918673 0.25356964 0.16037681\n",
      "  0.49375925 0.36544002 0.43795256 0.49282765 0.18742962 0.52549888\n",
      "  0.65135541 0.64419409 0.39317771 0.29438928 0.6125526  0.39582737\n",
      "  0.16763087 0.43211034 0.31269327 0.67741151 0.34378913 0.6120686\n",
      "  0.54592881 0.52167808 0.34982579 0.40418467 0.41357973 0.80706836\n",
      "  0.16289548 0.44028964 0.21747811 0.16367168 0.58322995 0.36883012\n",
      "  0.72197479 0.44543834 0.84389297 0.32280468 0.46111019 0.56496388\n",
      "  0.2943653  0.51977973 0.79053992 0.34235003 0.42185079 0.41500634\n",
      "  0.30252531 0.42351548 0.24294265 0.45369957 0.61705348 0.45828523\n",
      "  0.90471165 0.75412203 0.13550453 0.42526303 0.57106436 0.41635961\n",
      "  0.35731288 0.79525101 0.59656229 0.58489841 0.43666328 0.75084451\n",
      "  0.19798127 0.30047288 0.33182758 0.3492419  0.65149292 0.17553645\n",
      "  0.43382278 0.23410247 0.75791613 0.46492949]\n",
      " [0.69688056 0.59568064 0.66222587 0.30940114 0.52125449 0.30967004\n",
      "  0.22146436 0.2898336  0.46134427 0.41104266 0.60769644 0.75722883\n",
      "  0.59908064 0.40009134 0.70386965 0.3785973  0.45964432 0.\n",
      "  0.69277256 0.76794256 0.6589696  0.60167329 0.37082519 0.64449438\n",
      "  0.84439855 0.41492245 0.41885043 0.39152518 0.64130246 0.56731133\n",
      "  0.87610929 0.67114089 0.03148144 0.03547553 0.63212588 0.17166714\n",
      "  0.8893557  0.92698199 0.80519123 0.55924781 0.95228138 0.8351947\n",
      "  0.53648837 0.04228446 0.63121433 0.47120086 0.8032675  0.95306008\n",
      "  0.86758291 0.90587101 0.12981177 0.86374862 0.76080336 0.64525117\n",
      "  0.35173523 0.15374839 0.65260112 0.60743265 0.22313495 0.2552916\n",
      "  0.46431611 0.41120195 0.67949656 0.40158195 0.64367396 0.8799148\n",
      "  0.69639646 0.48841482 0.67749967 0.65683198 0.41660128 0.31736329\n",
      "  0.73121597 0.86004499 0.26930216 0.88753048 0.72218039 0.64336113\n",
      "  0.68666184 0.47757028 0.5607142  0.81061441 0.39646223 0.45977102\n",
      "  0.81455615 0.68062232 0.28721036 0.56710202 0.63652514 0.97871268\n",
      "  0.65470327 0.72594439 0.20794036 0.5018763  0.89860173 0.59745704\n",
      "  0.8512465  0.22975569 0.53800287 0.32049843]\n",
      " [0.74264551 0.6845121  0.59681156 0.47376411 0.38238194 0.87128358\n",
      "  0.9137503  0.74306849 0.26721218 0.7880811  0.37373219 0.35951002\n",
      "  0.33766805 0.54721528 0.15004131 0.47780621 0.64332888 0.69277256\n",
      "  0.         0.58000508 0.83412453 0.81701107 0.67654625 0.81724721\n",
      "  0.90909186 0.81053659 0.593342   0.4123324  0.51734657 0.79519688\n",
      "  0.56426968 0.3886115  0.70374972 0.69635486 0.62817713 0.8609872\n",
      "  0.32706686 0.41265453 0.5996473  0.37282467 0.52042316 0.9449959\n",
      "  0.51004068 0.70937776 0.41435016 0.36340976 0.81129037 0.52312109\n",
      "  0.4472873  0.58240768 0.70881201 0.8477387  0.45917522 0.32818441\n",
      "  0.72993056 0.54141332 0.60844001 0.76568597 0.91565493 0.84148146\n",
      "  0.43895425 0.28291366 0.34858036 0.3479758  0.21959196 0.44117224\n",
      "  0.91111421 0.20560764 0.25769432 0.40366555 0.28359569 0.37611178\n",
      "  0.8907312  0.69221428 0.51396028 1.00334336 0.08207907 0.22325324\n",
      "  0.45177414 0.47295937 0.76498972 0.54386358 0.34377162 0.25419869\n",
      "  0.76449819 0.2618305  0.50500162 0.13437654 0.24704807 0.37070285\n",
      "  0.75147998 0.89341284 0.77352411 0.29411233 0.34481073 0.57479515\n",
      "  0.63284507 0.59705598 0.39271519 0.37599808]\n",
      " [0.24170015 0.26588016 0.12777529 0.78397661 0.28746976 0.71697598\n",
      "  0.92398977 0.58507044 0.45544238 0.52964333 0.2299413  0.24109463\n",
      "  0.26458209 0.37189775 0.43631512 0.39250599 0.35866905 0.76794256\n",
      "  0.58000508 0.         0.38082586 0.40458426 0.46148731 0.37114724\n",
      "  0.36098159 0.55122975 0.36884266 0.40296413 0.12723839 0.40694193\n",
      "  0.14153484 0.19323329 0.75404963 0.79574073 0.18175023 0.86825358\n",
      "  0.40808363 0.35860492 0.03724892 0.26254815 0.28039274 0.41106978\n",
      "  0.23151995 0.75110986 0.18558479 0.79514874 0.25836182 0.27894652\n",
      "  0.2434519  0.16664036 0.68299761 0.27854409 0.1332621  0.86140375\n",
      "  0.52156219 0.69222021 0.14590874 0.34029766 0.92831456 0.72612058\n",
      "  0.86227567 0.54823816 0.89234875 0.44147503 0.36209204 0.26485351\n",
      "  0.4519951  0.57694363 0.81257641 0.18309106 0.51959484 0.58107058\n",
      "  0.40157617 0.11750178 0.50174932 0.46133775 0.51422553 0.35849161\n",
      "  0.98145837 0.89999162 0.37864816 0.08030713 0.7036994  0.48021541\n",
      "  0.1966537  0.8173615  0.80024541 0.60058236 0.33614605 0.4953308\n",
      "  0.28536028 0.40856725 0.68336406 0.37490396 0.39917631 0.18391659\n",
      "  0.08370975 0.5430907  0.86453691 0.62868875]\n",
      " [0.14157684 0.1503881  0.274189   0.82285355 0.45220861 0.46211934\n",
      "  0.72893243 0.38056471 0.60594919 0.26738371 0.47266989 0.5818084\n",
      "  0.50458145 0.3359273  0.72177802 0.41094813 0.23003028 0.6589696\n",
      "  0.83412453 0.38082586 0.         0.06047983 0.29049132 0.01782012\n",
      "  0.19413063 0.27670217 0.2893126  0.47049191 0.34493406 0.09285382\n",
      "  0.51853222 0.48869499 0.63280929 0.69398307 0.22330121 0.68382725\n",
      "  0.76592654 0.73216184 0.40112485 0.46259766 0.66103807 0.17629754\n",
      "  0.32408665 0.6249664  0.44270618 0.90596834 0.20039934 0.65950907\n",
      "  0.61931995 0.53926475 0.53510514 0.25254284 0.49163007 1.02965412\n",
      "  0.310664   0.66372466 0.25578167 0.0703895  0.73393317 0.49654487\n",
      "  0.95185528 0.66837387 1.06598949 0.5427674  0.62885083 0.64062331\n",
      "  0.07821267 0.73704918 1.00720203 0.46599537 0.64307297 0.6443057\n",
      "  0.07376372 0.37830823 0.47158417 0.22954259 0.7933883  0.62547047\n",
      "  1.13113875 0.98413633 0.10004414 0.46111527 0.79982733 0.63048885\n",
      "  0.25497765 1.01200298 0.82473699 0.79537413 0.60141421 0.86086424\n",
      "  0.09670364 0.07064714 0.48754825 0.54773483 0.76085423 0.26685446\n",
      "  0.42303026 0.44953908 0.9861793  0.69456775]\n",
      " [0.17778009 0.14876277 0.28738865 0.7763244  0.43504285 0.40218884\n",
      "  0.668454   0.32088893 0.57840817 0.20690956 0.46624026 0.58781541\n",
      "  0.49562016 0.29786571 0.71261915 0.37469509 0.18972067 0.60167329\n",
      "  0.81701107 0.40458426 0.06047983 0.         0.23614258 0.0517614\n",
      "  0.2545889  0.21640781 0.24926981 0.43741908 0.34979734 0.03456867\n",
      "  0.54522076 0.48989207 0.57499732 0.6368435  0.23248649 0.62345577\n",
      "  0.77317828 0.74627716 0.4289211  0.45014694 0.68423725 0.2350346\n",
      "  0.31050144 0.5669377  0.44093566 0.86659427 0.25377226 0.68293976\n",
      "  0.6359001  0.56796639 0.47666466 0.3087724  0.50483338 0.99638392\n",
      "  0.25171444 0.61276756 0.26808595 0.06464139 0.6734552  0.43610762\n",
      "  0.90940283 0.63462048 1.03311102 0.51076759 0.61882951 0.65690665\n",
      "  0.10518636 0.7071302  0.977993   0.46656968 0.610495   0.60383843\n",
      "  0.12968978 0.4173649  0.42540839 0.28586573 0.78156909 0.61559973\n",
      "  1.09440731 0.94073147 0.05443458 0.4839813  0.76018392 0.60206855\n",
      "  0.30208275 0.98274268 0.7766999  0.76931998 0.5920905  0.87006107\n",
      "  0.12351479 0.12427649 0.42743308 0.52592671 0.76950663 0.26616512\n",
      "  0.45572506 0.39702646 0.94721377 0.65323723]\n",
      " [0.33238376 0.23475076 0.33705652 0.54759082 0.32883285 0.25796855\n",
      "  0.47496718 0.12384553 0.41309501 0.11153485 0.39763244 0.55169532\n",
      "  0.41230238 0.13559268 0.60718753 0.1987403  0.10471377 0.37082519\n",
      "  0.67654625 0.46148731 0.29049132 0.23614258 0.         0.27516494\n",
      "  0.47357542 0.13421932 0.10373408 0.26472206 0.35066739 0.20164583\n",
      "  0.59415707 0.44740809 0.34630985 0.40536844 0.29213127 0.42267932\n",
      "  0.72727125 0.72907484 0.4965666  0.36030906 0.7074597  0.46589723\n",
      "  0.25416215 0.33933537 0.39523146 0.65326463 0.43711529 0.70718321\n",
      "  0.63660597 0.62257539 0.25266523 0.49770237 0.50656781 0.79807911\n",
      "  0.0643005  0.37808822 0.32193897 0.23660818 0.47965578 0.2647518\n",
      "  0.68816776 0.44380951 0.83543713 0.33416098 0.51719768 0.65469346\n",
      "  0.33760056 0.52624021 0.79211801 0.42540804 0.42488743 0.3926653\n",
      "  0.3638392  0.52817602 0.20383819 0.52002441 0.66215719 0.5148399\n",
      "  0.88554516 0.71719477 0.19092583 0.52538335 0.54771141 0.43184604\n",
      "  0.45736754 0.79662401 0.54536032 0.59921767 0.49567277 0.82666098\n",
      "  0.28612526 0.35943397 0.22750395 0.38756258 0.72931029 0.27760878\n",
      "  0.53789915 0.16156073 0.73401549 0.43825488]\n",
      " [0.13485292 0.13427547 0.26154249 0.80562905 0.43517607 0.45353876\n",
      "  0.71826418 0.36805631 0.5882778  0.25688522 0.45689315 0.568213\n",
      "  0.48849301 0.31821616 0.70578686 0.39315927 0.21254766 0.64449438\n",
      "  0.81724721 0.37114724 0.01782012 0.0517614  0.27516494 0.\n",
      "  0.20492344 0.26741585 0.27173434 0.45267307 0.3307946  0.08092718\n",
      "  0.50990703 0.47412602 0.6186282  0.67941555 0.20956356 0.67245357\n",
      "  0.75269556 0.72039945 0.39267004 0.44605242 0.65153551 0.19081811\n",
      "  0.30726142 0.61091905 0.42759107 0.88822085 0.20275528 0.65006968\n",
      "  0.60806747 0.53127211 0.52137153 0.25712502 0.47945814 1.01184704\n",
      "  0.2975374  0.64722236 0.24286099 0.05268232 0.72324981 0.48655607\n",
      "  0.93425525 0.65055582 1.04818887 0.52496172 0.61270592 0.62931515\n",
      "  0.09417899 0.71930565 0.98950094 0.45129391 0.62526482 0.62662475\n",
      "  0.09044032 0.37372092 0.45441522 0.24527068 0.77708421 0.60934304\n",
      "  1.11332624 0.96659961 0.08426635 0.45132373 0.78209575 0.61278589\n",
      "  0.25374544 0.99430018 0.80770475 0.77780204 0.58534423 0.84807586\n",
      "  0.08581714 0.08793366 0.47560719 0.5303755  0.74790737 0.2515467\n",
      "  0.41618861 0.43349046 0.96841525 0.67692534]\n",
      " [0.17572989 0.26806747 0.3123862  0.97937588 0.54565581 0.65563075\n",
      "  0.92295752 0.57260624 0.71763237 0.46141211 0.53542197 0.59873356\n",
      "  0.5717692  0.48657385 0.77725525 0.55313499 0.39342466 0.84439855\n",
      "  0.90909186 0.36098159 0.19413063 0.2545889  0.47357542 0.20492344\n",
      "  0.         0.47074749 0.44714114 0.60217924 0.39174809 0.28582185\n",
      "  0.47069682 0.5279106  0.81962853 0.87887401 0.2884495  0.87737599\n",
      "  0.76889077 0.71414458 0.36322916 0.5427603  0.61554518 0.05969714\n",
      "  0.42244448 0.81235307 0.49517609 1.04217943 0.10273115 0.61328479\n",
      "  0.59920833 0.48217502 0.72382295 0.10352239 0.49310182 1.14709805\n",
      "  0.50155276 0.83340652 0.30189675 0.23696764 0.92795243 0.69067404\n",
      "  1.09594343 0.79425353 1.18183144 0.66849298 0.69115483 0.62018072\n",
      "  0.2014643  0.85079181 1.11337377 0.50924594 0.76663355 0.78810028\n",
      "  0.13710091 0.2987304  0.63345881 0.10041306 0.85407679 0.68751625\n",
      "  1.2572505  1.13050675 0.28545031 0.43304963 0.9383893  0.74355528\n",
      "  0.16788654 1.11824608 0.98521762 0.89691674 0.66319824 0.85398249\n",
      "  0.19673333 0.14622912 0.68044366 0.64701007 0.75950939 0.34448338\n",
      "  0.3630711  0.62581846 1.12022353 0.83948391]\n",
      " [0.37080015 0.29304375 0.42345514 0.64567408 0.45945752 0.18651518\n",
      "  0.45350851 0.12577499 0.54619851 0.0239945  0.52304169 0.67282504\n",
      "  0.54080403 0.26833402 0.74026815 0.33280269 0.20368457 0.41492245\n",
      "  0.81053659 0.55122975 0.27670217 0.21640781 0.13421932 0.26741585\n",
      "  0.47074749 0.         0.22982403 0.39837982 0.45549874 0.1875293\n",
      "  0.69034063 0.56809996 0.38523624 0.45028221 0.37066259 0.41081718\n",
      "  0.85246123 0.84775146 0.58322687 0.48894072 0.81427859 0.44650328\n",
      "  0.37059516 0.37576331 0.51535501 0.76671437 0.46337897 0.81366984\n",
      "  0.7493344  0.71718591 0.28515988 0.5211892  0.616607   0.91912251\n",
      "  0.08639516 0.46547751 0.40554769 0.25215615 0.45853718 0.22020553\n",
      "  0.79412403 0.57143713 0.95651943 0.46656746 0.64945237 0.76850599\n",
      "  0.292571   0.65567767 0.91811816 0.54523768 0.55427297 0.51206394\n",
      "  0.34033344 0.59701144 0.32293078 0.49140905 0.79619618 0.6469841\n",
      "  1.00003987 0.82019504 0.19876629 0.62277603 0.66322666 0.56419253\n",
      "  0.50129688 0.92251687 0.63840882 0.73037126 0.62716063 0.95202531\n",
      "  0.31591696 0.33306443 0.22009536 0.52169019 0.85333664 0.37355515\n",
      "  0.61973999 0.25898882 0.8466851  0.55395705]\n",
      " [0.28394568 0.18247929 0.25012857 0.53562045 0.22990123 0.35957588\n",
      "  0.55599426 0.22093243 0.33855317 0.2058985  0.29472045 0.44803343\n",
      "  0.31110444 0.04936565 0.51251783 0.12660078 0.05970452 0.41885043\n",
      "  0.593342   0.36884266 0.2893126  0.24926981 0.10373408 0.27173434\n",
      "  0.44714114 0.22982403 0.         0.19188884 0.25174805 0.21931713\n",
      "  0.49672306 0.34368758 0.39965477 0.45070195 0.21411355 0.50091586\n",
      "  0.62452464 0.62534087 0.4050952  0.25918434 0.60562344 0.452682\n",
      "  0.15150626 0.39487125 0.29149877 0.61770719 0.39035227 0.60544219\n",
      "  0.53348933 0.52565845 0.31843749 0.44998124 0.40435654 0.74814003\n",
      "  0.16802261 0.38680304 0.23784123 0.2219616  0.5604094  0.36096553\n",
      "  0.66254593 0.38675825 0.78504278 0.26544591 0.4206814  0.55137445\n",
      "  0.35403471 0.46246829 0.73292098 0.32167585 0.3636858  0.3553424\n",
      "  0.36137648 0.44707955 0.1864451  0.51114453 0.57170845 0.4181042\n",
      "  0.84514158 0.69488405 0.19515228 0.42793652 0.51136263 0.36042033\n",
      "  0.3961414  0.73760563 0.53949198 0.52932602 0.39779623 0.72401332\n",
      "  0.25047107 0.35958782 0.31474438 0.2997727  0.6262133  0.18665633\n",
      "  0.44855793 0.18943851 0.6982137  0.40535715]\n",
      " [0.42725054 0.33739514 0.32742992 0.38966981 0.13040134 0.47279534\n",
      "  0.58576351 0.33694894 0.14885413 0.37616504 0.21641601 0.36688766\n",
      "  0.20838528 0.14268296 0.35747119 0.06695997 0.24918673 0.39152518\n",
      "  0.4123324  0.40296413 0.47049191 0.43741908 0.26472206 0.45267307\n",
      "  0.60217924 0.39837982 0.19188884 0.         0.27829509 0.40937916\n",
      "  0.49265057 0.28002708 0.38611544 0.41323296 0.32300263 0.52830695\n",
      "  0.51336978 0.54032546 0.43913745 0.16796788 0.56083487 0.61937124\n",
      "  0.19084727 0.38655053 0.24317893 0.44045124 0.52536782 0.56164934\n",
      "  0.47609269 0.52212346 0.34638113 0.57939297 0.37244055 0.55945919\n",
      "  0.31778699 0.29172049 0.3262154  0.40040575 0.58913435 0.45252034\n",
      "  0.49422488 0.19789051 0.59600305 0.07363329 0.27629676 0.48870592\n",
      "  0.54053925 0.27067488 0.54135971 0.26692187 0.17310287 0.18902796\n",
      "  0.53888476 0.51089277 0.1304325  0.67940727 0.40368209 0.27485481\n",
      "  0.66131392 0.52940321 0.38299542 0.4307362  0.33621158 0.16924812\n",
      "  0.50857121 0.54606782 0.40221419 0.33814345 0.26145756 0.60871044\n",
      "  0.41119214 0.53863785 0.38857688 0.13250061 0.52005581 0.27059976\n",
      "  0.48587706 0.20748517 0.51934479 0.24014906]\n",
      " [0.22952727 0.20104778 0.07980271 0.6640432  0.17315631 0.60861285\n",
      "  0.8022949  0.47211991 0.3486296  0.43245345 0.14379025 0.23813207\n",
      "  0.18037989 0.2482937  0.38817757 0.26526761 0.25356964 0.64130246\n",
      "  0.51734657 0.12723839 0.34493406 0.34979734 0.35066739 0.3307946\n",
      "  0.39174809 0.45549874 0.25174805 0.27829509 0.         0.34183571\n",
      "  0.2450956  0.14449301 0.62801879 0.66877877 0.12185109 0.74598793\n",
      "  0.42340115 0.40030338 0.16438356 0.15809461 0.35903978 0.42928914\n",
      "  0.10593118 0.62536224 0.10403233 0.68785004 0.2947901  0.35852594\n",
      "  0.29547171 0.27421371 0.55966153 0.33606268 0.16200086 0.77014426\n",
      "  0.41349615 0.56568663 0.09368216 0.28689866 0.80650392 0.61260878\n",
      "  0.75155413 0.43744061 0.80317519 0.32295291 0.29984372 0.31541521\n",
      "  0.42260841 0.47738785 0.72922358 0.12262727 0.40859619 0.4609456\n",
      "  0.38758542 0.23281125 0.37455556 0.4867844  0.46391562 0.29622551\n",
      "  0.8863206  0.78870333 0.31045188 0.17640425 0.59172515 0.37442474\n",
      "  0.25505581 0.73408623 0.67876877 0.51304127 0.27182173 0.52038104\n",
      "  0.25089325 0.39214449 0.56561048 0.27034796 0.41978622 0.08592989\n",
      "  0.21094238 0.41801586 0.76074906 0.50997828]\n",
      " [0.19204614 0.1434409  0.28519221 0.74306213 0.4144746  0.37401108\n",
      "  0.63735955 0.28771994 0.55232843 0.17611721 0.45100217 0.57864278\n",
      "  0.47887462 0.26839456 0.69493269 0.34556656 0.16037681 0.56731133\n",
      "  0.79519688 0.40694193 0.09285382 0.03456867 0.20164583 0.08092718\n",
      "  0.28582185 0.1875293  0.21931713 0.40937916 0.34183571 0.\n",
      "  0.54836607 0.4786013  0.54076148 0.6024528  0.22935184 0.59156219\n",
      "  0.76405414 0.74111971 0.43351319 0.43187449 0.68466081 0.26873751\n",
      "  0.29297528 0.53276872 0.42837687 0.83545096 0.27712717 0.68350865\n",
      "  0.63255164 0.57225043 0.44264287 0.33407289 0.50018462 0.96737592\n",
      "  0.21791932 0.57859386 0.26578901 0.07112706 0.64234291 0.40589607\n",
      "  0.87724001 0.60580219 1.00423019 0.48294263 0.60099117 0.6533034\n",
      "  0.13788447 0.67976465 0.95061332 0.45509637 0.58219555 0.57254595\n",
      "  0.16391491 0.42920358 0.39250532 0.32022845 0.76238751 0.59784935\n",
      "  1.06406432 0.90827033 0.03186269 0.4851604  0.72902259 0.5755446\n",
      "  0.32039562 0.95533809 0.74307055 0.74351029 0.57470659 0.86179651\n",
      "  0.13614704 0.15872059 0.39489448 0.50264107 0.76117446 0.25652893\n",
      "  0.46317008 0.36267778 0.916164   0.62159781]\n",
      " [0.37749386 0.40736411 0.26782354 0.85053397 0.36436675 0.85156437\n",
      "  1.04583178 0.71656666 0.50684329 0.66830525 0.28481518 0.20528351\n",
      "  0.3092826  0.49194222 0.4142316  0.49763377 0.49375925 0.87610929\n",
      "  0.56426968 0.14153484 0.51853222 0.54522076 0.59415707 0.50990703\n",
      "  0.47069682 0.69034063 0.49672306 0.49265057 0.2450956  0.54836607\n",
      "  0.         0.22532814 0.86539596 0.90128492 0.32276683 0.98916444\n",
      "  0.32030457 0.24955626 0.11744291 0.33010741 0.14591234 0.52616443\n",
      "  0.34942188 0.86359942 0.25023232 0.83498823 0.37224794 0.14390757\n",
      "  0.14102729 0.02977103 0.80221892 0.37468439 0.12624494 0.87374794\n",
      "  0.6559558  0.78384696 0.28652606 0.48119779 1.04995369 0.85732067\n",
      "  0.90720653 0.6016627  0.90094535 0.51430952 0.36514634 0.1593537\n",
      "  0.58692317 0.61074699 0.81472269 0.23055272 0.57459206 0.65241032\n",
      "  0.53240403 0.17505338 0.60683225 0.56978191 0.48801292 0.36207862\n",
      "  0.9974339  0.94540788 0.52017921 0.06882267 0.75436266 0.52854547\n",
      "  0.30337648 0.81927643 0.87074326 0.61588502 0.34547928 0.39215346\n",
      "  0.42448332 0.5401035  0.81067732 0.42891854 0.30691476 0.31836886\n",
      "  0.10778864 0.65878896 0.89678502 0.69539715]\n",
      " [0.37270103 0.34210329 0.22191801 0.62522879 0.14988653 0.70009983\n",
      "  0.85764507 0.55922068 0.28195682 0.54422212 0.06367656 0.10473367\n",
      "  0.08395914 0.32067681 0.24981731 0.30106997 0.36544002 0.67114089\n",
      "  0.3886115  0.19323329 0.48869499 0.48989207 0.44740809 0.47412602\n",
      "  0.5279106  0.56809996 0.34368758 0.28002708 0.14449301 0.4786013\n",
      "  0.22532814 0.         0.66429845 0.69325991 0.26617379 0.80014139\n",
      "  0.28727524 0.28176209 0.21757318 0.11206777 0.28137015 0.56940083\n",
      "  0.19780916 0.66397843 0.05276087 0.61488012 0.42732798 0.28205742\n",
      "  0.19874063 0.25304785 0.6138773  0.46015693 0.09912774 0.67016168\n",
      "  0.51166641 0.56628245 0.23755758 0.42847381 0.86135229 0.6942818\n",
      "  0.68543128 0.37685131 0.70041263 0.29143972 0.16945563 0.21372964\n",
      "  0.56660602 0.3922504  0.61964684 0.0235761  0.3495126  0.42798521\n",
      "  0.53197259 0.30901451 0.40458597 0.62544909 0.32727462 0.16582101\n",
      "  0.79139342 0.72356527 0.44678131 0.17670318 0.53054333 0.30430844\n",
      "  0.37673082 0.62441753 0.64567165 0.40914903 0.14303543 0.38635469\n",
      "  0.39530029 0.53660936 0.6385221  0.20359182 0.28640034 0.2238529\n",
      "  0.25727393 0.46906256 0.68037386 0.47022507]\n",
      " [0.6748209  0.5740675  0.64561311 0.33543459 0.51462726 0.27838695\n",
      "  0.2108673  0.26065977 0.46548388 0.38203372 0.60119139 0.75290652\n",
      "  0.59443694 0.38390073 0.70833652 0.36798377 0.43795256 0.03148144\n",
      "  0.70374972 0.75404963 0.63280929 0.57499732 0.34630985 0.6186282\n",
      "  0.81962853 0.38523624 0.39965477 0.38611544 0.62801879 0.54076148\n",
      "  0.86539596 0.66429845 0.         0.06555548 0.61360913 0.15724596\n",
      "  0.88992472 0.92461356 0.79126889 0.55286397 0.94566816 0.809105\n",
      "  0.52257912 0.01090463 0.62278881 0.49518146 0.78092785 0.94634836\n",
      "  0.86180175 0.89516593 0.10021365 0.84149466 0.7520645  0.66872838\n",
      "  0.32415107 0.17085742 0.63530761 0.58272832 0.21317419 0.22418105\n",
      "  0.49123707 0.42108993 0.70341997 0.40192712 0.64485359 0.87474936\n",
      "  0.66855667 0.50077091 0.69849052 0.64913597 0.42443015 0.32763828\n",
      "  0.70465639 0.84359916 0.26010695 0.86082844 0.72989707 0.64436292\n",
      "  0.71339177 0.50561754 0.53516725 0.79919747 0.41672145 0.46566027\n",
      "  0.79420691 0.70173836 0.31451349 0.58039444 0.63638092 0.98071032\n",
      "  0.63145715 0.69919746 0.17655238 0.5013904  0.89860285 0.58087136\n",
      "  0.83701286 0.21221308 0.56364518 0.33531168]\n",
      " [0.73009883 0.62871278 0.69209976 0.29290982 0.54352259 0.34095824\n",
      "  0.2243036  0.32527517 0.47345722 0.44650642 0.62964113 0.77691826\n",
      "  0.61936967 0.43009846 0.71483608 0.40466128 0.49282765 0.03547553\n",
      "  0.69635486 0.79574073 0.69398307 0.6368435  0.40536844 0.67941555\n",
      "  0.87887401 0.45028221 0.45070195 0.41323296 0.66877877 0.6024528\n",
      "  0.90128492 0.69325991 0.06555548 0.         0.66329597 0.18036364\n",
      "  0.90409126 0.94459202 0.83297903 0.58119924 0.97384118 0.87016409\n",
      "  0.56459859 0.07580337 0.65477993 0.45741876 0.83659483 0.97470794\n",
      "  0.88847288 0.93101463 0.16512784 0.89701221 0.78443808 0.63178628\n",
      "  0.38713139 0.15499667 0.68294883 0.64193358 0.22520068 0.28606084\n",
      "  0.44531535 0.41719253 0.66523977 0.41789267 0.65822394 0.90022584\n",
      "  0.73180195 0.49100122 0.66780708 0.67972371 0.42492961 0.32369581\n",
      "  0.76633926 0.8896503  0.29494709 0.9226811  0.72950873 0.65809263\n",
      "  0.66752845 0.45627407 0.59554513 0.83642687 0.38891163 0.47000909\n",
      "  0.84675179 0.67073657 0.2683931  0.5682027  0.65242489 0.99187082\n",
      "  0.68854117 0.76111961 0.24167831 0.51852295 0.9139007  0.62738217\n",
      "  0.8792345  0.26127567 0.52114406 0.32117088]\n",
      " [0.11513348 0.08599042 0.05593566 0.71040055 0.25733783 0.54158194\n",
      "  0.76515018 0.41548294 0.42959955 0.34965066 0.25686984 0.35865228\n",
      "  0.29145074 0.23506412 0.50574144 0.2847531  0.18742962 0.63212588\n",
      "  0.62817713 0.18175023 0.22330121 0.23248649 0.29213127 0.20956356\n",
      "  0.2884495  0.37066259 0.21411355 0.32300263 0.12185109 0.22935184\n",
      "  0.32276683 0.26617379 0.61360913 0.66329597 0.         0.71134211\n",
      "  0.54322093 0.51380025 0.21263961 0.25684806 0.45580106 0.31797986\n",
      "  0.13547987 0.60894768 0.22247725 0.75877401 0.20315073 0.45473064\n",
      "  0.40372229 0.34838632 0.5316756  0.25640568 0.27234989 0.85884597\n",
      "  0.34804259 0.58483405 0.03660629 0.16824619 0.7697251  0.55547618\n",
      "  0.81612158 0.50882613 0.89345899 0.3845772  0.41485316 0.42463462\n",
      "  0.30080726 0.5626088  0.82514159 0.24389637 0.48072845 0.51191877\n",
      "  0.26693907 0.23613223 0.38272033 0.37729648 0.57995661 0.4113235\n",
      "  0.97000946 0.85180667 0.19950996 0.25739954 0.65687882 0.45559252\n",
      "  0.18894927 0.83001248 0.72028236 0.60883103 0.38690405 0.63902127\n",
      "  0.1291382  0.27108727 0.51909238 0.35862274 0.53868606 0.0560424\n",
      "  0.24969133 0.40237019 0.83556124 0.56313074]\n",
      " [0.75304191 0.65727936 0.7509321  0.47285848 0.65248695 0.24433735\n",
      "  0.05755251 0.30691845 0.61980667 0.41688985 0.73837962 0.89371943\n",
      "  0.73565067 0.49770905 0.86235303 0.49920198 0.52549888 0.17166714\n",
      "  0.8609872  0.86825358 0.68382725 0.62345577 0.42267932 0.67245357\n",
      "  0.87737599 0.41081718 0.50091586 0.52830695 0.74598793 0.59156219\n",
      "  0.98916444 0.80014139 0.15724596 0.18036364 0.71134211 0.\n",
      "  1.03890098 1.06857139 0.9049595  0.6908151  1.08032971 0.8566955\n",
      "  0.64031076 0.15185837 0.75513741 0.63775859 0.85548269 1.0807623\n",
      "  0.99885466 1.01874964 0.18722522 0.91562215 0.8823973  0.81212424\n",
      "  0.37912017 0.32522557 0.73797818 0.64639572 0.06121812 0.19485137\n",
      "  0.62342288 0.57827165 0.84546015 0.55271977 0.7953799  1.01314437\n",
      "  0.70309533 0.65790246 0.84755598 0.78305367 0.58108776 0.48487845\n",
      "  0.75040059 0.94687838 0.39823409 0.90221683 0.88621067 0.79465786\n",
      "  0.84496862 0.63197866 0.59427082 0.92129862 0.56740685 0.62126466\n",
      "  0.87976239 0.85055942 0.4473826  0.73732038 0.78511445 1.13151231\n",
      "  0.70350208 0.74341783 0.19804323 0.65036423 1.04669695 0.68753592\n",
      "  0.94909972 0.33200456 0.70052465 0.49146225]\n",
      " [0.63782362 0.62444554 0.49196133 0.75128913 0.4031596  0.97241423\n",
      "  1.0959733  0.8315374  0.4325625  0.82848445 0.32980615 0.18544715\n",
      "  0.3169171  0.59471473 0.20830554 0.5566304  0.65135541 0.8893557\n",
      "  0.32706686 0.40808363 0.76592654 0.77317828 0.72727125 0.75269556\n",
      "  0.76889077 0.85246123 0.62452464 0.51336978 0.42340115 0.76405414\n",
      "  0.32030457 0.28727524 0.88992472 0.90409126 0.54322093 1.03890098\n",
      "  0.         0.09211042 0.40786188 0.36833789 0.21880961 0.8189757\n",
      "  0.48409416 0.89209363 0.33952546 0.67543338 0.66638771 0.22189882\n",
      "  0.17927731 0.32510319 0.85956313 0.68184748 0.27858148 0.6547161\n",
      "  0.79088619 0.75719849 0.51016096 0.71020929 1.09906315 0.95990678\n",
      "  0.75230606 0.50766238 0.67310711 0.48807337 0.24586866 0.16182913\n",
      "  0.84246147 0.46972997 0.58127815 0.31080283 0.49038668 0.59163861\n",
      "  0.8003874  0.4890774  0.64345625 0.86929328 0.24630462 0.24605152\n",
      "  0.7774606  0.78855237 0.7323692  0.33805819 0.62835001 0.44074348\n",
      "  0.60278013 0.5850595  0.779251   0.43318777 0.25381577 0.0995642\n",
      "  0.66991816 0.80626322 0.89893955 0.38875962 0.01845302 0.50766602\n",
      "  0.42052616 0.71991629 0.71550628 0.61605675]\n",
      " [0.5975818  0.59840487 0.45944782 0.81461322 0.4187959  0.98150544\n",
      "  1.12605563 0.84047952 0.48194428 0.82402019 0.33640939 0.17855667\n",
      "  0.33352164 0.6017741  0.28131025 0.57467128 0.64419409 0.92698199\n",
      "  0.41265453 0.35860492 0.73216184 0.74627716 0.72907484 0.72039945\n",
      "  0.71414458 0.84775146 0.62534087 0.54032546 0.40030338 0.74111971\n",
      "  0.24955626 0.28176209 0.92461356 0.94459202 0.51380025 1.06857139\n",
      "  0.09211042 0.         0.35106216 0.38120074 0.12978113 0.76716958\n",
      "  0.4773737  0.92576721 0.33385784 0.75092125 0.61298346 0.13290638\n",
      "  0.1153396  0.24857063 0.88506304 0.62176823 0.24145503 0.74082607\n",
      "  0.79335552 0.80310715 0.47855457 0.68200552 1.1294484  0.97411999\n",
      "  0.82763699 0.56495783 0.76061718 0.52684932 0.29474246 0.09409785\n",
      "  0.80650022 0.53753334 0.66906494 0.30368901 0.54463905 0.64281757\n",
      "  0.75924283 0.42381117 0.67037093 0.81424278 0.33077667 0.29386295\n",
      "  0.86434444 0.86459135 0.71007417 0.28169361 0.69597361 0.4940997\n",
      "  0.54634887 0.67297858 0.84115268 0.50971165 0.294451   0.14266653\n",
      "  0.6354585  0.76589006 0.91644793 0.42623382 0.07388884 0.48623324\n",
      "  0.35543089 0.7419422  0.79561296 0.6724239 ]\n",
      " [0.26005427 0.29470836 0.16068858 0.81845326 0.32170537 0.75116487\n",
      "  0.96059017 0.62030194 0.48706023 0.562006   0.25991953 0.25138048\n",
      "  0.293314   0.40894194 0.45351608 0.42963151 0.39317771 0.80519123\n",
      "  0.5996473  0.03724892 0.40112485 0.4289211  0.4965666  0.39267004\n",
      "  0.36322916 0.58322687 0.4050952  0.43913745 0.16438356 0.43351319\n",
      "  0.11744291 0.21757318 0.79126889 0.83297903 0.21263961 0.9049595\n",
      "  0.40786188 0.35106216 0.         0.29518622 0.26173525 0.41619481\n",
      "  0.26875988 0.78830544 0.21635754 0.82600217 0.26193825 0.25997008\n",
      "  0.23599161 0.13904574 0.71990382 0.27400457 0.14343619 0.88768183\n",
      "  0.55601833 0.72889765 0.17785897 0.36529715 0.96493385 0.76130723\n",
      "  0.89400672 0.58052892 0.91798208 0.47599623 0.38399314 0.25701879\n",
      "  0.46964347 0.60624546 0.83678628 0.2103613  0.55201652 0.61578279\n",
      "  0.41597874 0.09257115 0.53893164 0.46347778 0.53111145 0.38045903\n",
      "  1.00861116 0.93184555 0.4061991  0.07001292 0.73598992 0.5114754\n",
      "  0.19571239 0.84153698 0.83518019 0.6266663  0.35901499 0.49083699\n",
      "  0.30743335 0.42349526 0.71936271 0.40645271 0.39750137 0.21937955\n",
      "  0.04679473 0.58023664 0.89430358 0.66294974]\n",
      " [0.37193591 0.31240575 0.2325766  0.5252161  0.03836577 0.60443465\n",
      "  0.74836521 0.46340907 0.19344687 0.46498315 0.04845882 0.20367234\n",
      "  0.05199872 0.2265232  0.26308992 0.19360432 0.29438928 0.55924781\n",
      "  0.37282467 0.26254815 0.46259766 0.45014694 0.36030906 0.44605242\n",
      "  0.5427603  0.48894072 0.25918434 0.16796788 0.15809461 0.43187449\n",
      "  0.33010741 0.11206777 0.55286397 0.58119924 0.25684806 0.6908151\n",
      "  0.36833789 0.38120074 0.29518622 0.         0.39304446 0.57479411\n",
      "  0.13969044 0.55277604 0.0811726  0.53360637 0.44953461 0.39381274\n",
      "  0.30900934 0.35902244 0.50549169 0.49345599 0.20657119 0.61207924\n",
      "  0.42335612 0.4554226  0.24106582 0.39533674 0.75196552 0.59401664\n",
      "  0.59985941 0.28569162 0.64523456 0.18476181 0.16914036 0.32252942\n",
      "  0.54020028 0.31969512 0.57236899 0.1003252  0.2570507  0.32409743\n",
      "  0.51792328 0.37878875 0.29371773 0.63394273 0.3315731  0.16603366\n",
      "  0.72835808 0.63751414 0.40053387 0.27276078 0.44115151 0.21869592\n",
      "  0.41304833 0.57723916 0.54354541 0.35584785 0.14325889 0.46730073\n",
      "  0.37865597 0.52068722 0.53538061 0.11346192 0.37170477 0.20241013\n",
      "  0.34026642 0.36140514 0.60477382 0.36943821]\n",
      " [0.52093193 0.54171387 0.39987278 0.88007918 0.4311379  0.96505408\n",
      "  1.13774702 0.82628426 0.53598949 0.79136731 0.34461233 0.20377712\n",
      "  0.35552542 0.59176597 0.37697695 0.58121458 0.6125526  0.95228138\n",
      "  0.52042316 0.28039274 0.66103807 0.68423725 0.7074597  0.65153551\n",
      "  0.61554518 0.81427859 0.60562344 0.56083487 0.35903978 0.68466081\n",
      "  0.14591234 0.28137015 0.94566816 0.97384118 0.45580106 1.08032971\n",
      "  0.21880961 0.12978113 0.26173525 0.39304446 0.         0.67157315\n",
      "  0.45415774 0.94532837 0.32526705 0.83661235 0.517917   0.00312552\n",
      "  0.08776052 0.13406322 0.89352614 0.51781232 0.20140425 0.84576703\n",
      "  0.77107568 0.84265435 0.41920549 0.61971347 1.14154381 0.96501598\n",
      "  0.9122123  0.6268062  0.86841118 0.56431834 0.36143312 0.08341972\n",
      "  0.73102588 0.61526071 0.77804528 0.29734955 0.60286696 0.69365601\n",
      "  0.67766221 0.31767959 0.68590212 0.71402363 0.43876963 0.35940422\n",
      "  0.97020902 0.95001032 0.65525618 0.20036418 0.76995561 0.55302868\n",
      "  0.44877834 0.78222213 0.90404532 0.60107458 0.35144279 0.26624118\n",
      "  0.565753   0.68522064 0.91295192 0.46742248 0.20150843 0.44128328\n",
      "  0.25262301 0.74853291 0.88875334 0.73004155]\n",
      " [0.20285952 0.28197635 0.34950484 0.9881562  0.57416132 0.62804015\n",
      "  0.89999273 0.55586301 0.74227915 0.43991338 0.57169703 0.6453635\n",
      "  0.60739175 0.49553802 0.81718785 0.56606727 0.39582737 0.8351947\n",
      "  0.9449959  0.41106978 0.17629754 0.2350346  0.46589723 0.19081811\n",
      "  0.05969714 0.44650328 0.452682   0.61937124 0.42928914 0.26873751\n",
      "  0.52616443 0.56940083 0.809105   0.87016409 0.31797986 0.8566955\n",
      "  0.8189757  0.76716958 0.41619481 0.57479411 0.67157315 0.\n",
      "  0.44762686 0.80126067 0.53331876 1.05967292 0.15433885 0.66938288\n",
      "  0.65193618 0.53875437 0.71132983 0.16314743 0.54149762 1.17150638\n",
      "  0.48663615 0.83513932 0.33673878 0.23299999 0.90502432 0.66646017\n",
      "  1.11042619 0.81466464 1.20684343 0.68824712 0.7289808  0.67308035\n",
      "  0.16146765 0.87548074 1.1412882  0.54963597 0.78770279 0.80183371\n",
      "  0.10629718 0.35598388 0.63861355 0.06019471 0.8931957  0.72537723\n",
      "  1.27890669 1.14410028 0.27497851 0.48551776 0.95470243 0.76792455\n",
      "  0.22281027 1.14615084 0.99209954 0.92553501 0.70094094 0.90592486\n",
      "  0.20818006 0.11345809 0.66184812 0.67486496 0.81024583 0.3731586\n",
      "  0.41895667 0.62315124 1.13871481 0.85295653]\n",
      " [0.24704526 0.17479965 0.13718691 0.58041341 0.12878073 0.51106877\n",
      "  0.69674964 0.37216553 0.29531495 0.3467865  0.15948424 0.30242468\n",
      "  0.18591879 0.14264405 0.40225496 0.16429416 0.16763087 0.53648837\n",
      "  0.51004068 0.23151995 0.32408665 0.31050144 0.25416215 0.30726142\n",
      "  0.42244448 0.37059516 0.15150626 0.19084727 0.10593118 0.29297528\n",
      "  0.34942188 0.19780916 0.52257912 0.56459859 0.13547987 0.64031076\n",
      "  0.48409416 0.4773737  0.26875988 0.13969044 0.45415774 0.44762686\n",
      "  0.         0.51975232 0.14506477 0.62342808 0.33849629 0.45400004\n",
      "  0.38247075 0.37884525 0.45381408 0.3903799  0.25285331 0.72486752\n",
      "  0.31827022 0.46783767 0.13538218 0.2560372  0.70092543 0.51145625\n",
      "  0.68154218 0.37334652 0.75984207 0.24941477 0.30838989 0.40070683\n",
      "  0.40125851 0.42855702 0.69372353 0.17474888 0.34526106 0.37959442\n",
      "  0.38235049 0.32822333 0.27180119 0.50764258 0.47124636 0.30518757\n",
      "  0.83497556 0.71751811 0.26142697 0.28116655 0.52199812 0.32117944\n",
      "  0.31788415 0.69858335 0.59221126 0.47834204 0.28184563 0.58350212\n",
      "  0.24440931 0.3844409  0.46202187 0.22776405 0.48395641 0.08065668\n",
      "  0.31475995 0.31214129 0.70008719 0.43043487]\n",
      " [0.66871128 0.56817863 0.64168048 0.3454554  0.51448305 0.26749139\n",
      "  0.20653615 0.25152262 0.46906887 0.37291858 0.60102737 0.7534368\n",
      "  0.59493538 0.38033157 0.71187158 0.36656254 0.43211034 0.04228446\n",
      "  0.70937776 0.75110986 0.6249664  0.5669377  0.33933537 0.61091905\n",
      "  0.81235307 0.37576331 0.39487125 0.38655053 0.62536224 0.53276872\n",
      "  0.86359942 0.66397843 0.01090463 0.07580337 0.60894768 0.15185837\n",
      "  0.89209363 0.92576721 0.78830544 0.55277604 0.94532837 0.80126067\n",
      "  0.51975232 0.         0.62192318 0.50464449 0.77467516 0.94597336\n",
      "  0.86178032 0.89336409 0.09113467 0.83526428 0.75102422 0.67802144\n",
      "  0.31577649 0.1789314  0.6311156  0.57553665 0.20905562 0.2132766\n",
      "  0.50142055 0.42655398 0.71282549 0.40432625 0.64732454 0.8749413\n",
      "  0.65994289 0.50692685 0.70709999 0.64851842 0.4292456  0.3333459\n",
      "  0.69662083 0.83966276 0.25945752 0.85270671 0.73448094 0.64677421\n",
      "  0.72350435 0.5160495  0.52762436 0.79716321 0.42522926 0.46981383\n",
      "  0.78875658 0.71038208 0.32482427 0.58678964 0.6384086  0.98333822\n",
      "  0.62486929 0.69107892 0.16598643 0.50339734 0.9005764  0.57698148\n",
      "  0.83391844 0.20849523 0.57351148 0.34235845]\n",
      " [0.33316875 0.29429715 0.18381805 0.60625411 0.11413452 0.64887533\n",
      "  0.81252698 0.50821694 0.27072939 0.49148357 0.04476141 0.15747008\n",
      "  0.08098585 0.27014939 0.28428437 0.2562725  0.31269327 0.63121433\n",
      "  0.41435016 0.18558479 0.44270618 0.44093566 0.39523146 0.42759107\n",
      "  0.49517609 0.51535501 0.29149877 0.24317893 0.10403233 0.42837687\n",
      "  0.25023232 0.05276087 0.62278881 0.65477993 0.22247725 0.75513741\n",
      "  0.33952546 0.33385784 0.21635754 0.0811726  0.32526705 0.53331876\n",
      "  0.14506477 0.62192318 0.         0.60981183 0.39694358 0.32565442\n",
      "  0.24607346 0.27946937 0.56826585 0.43490469 0.12965953 0.67846761\n",
      "  0.45952077 0.53374482 0.19730058 0.3805604  0.81634477 0.64426729\n",
      "  0.67765818 0.3644834  0.71028912 0.26583823 0.19600688 0.26245051\n",
      "  0.52086827 0.39150008 0.63316343 0.03017839 0.33610842 0.40526823\n",
      "  0.48941113 0.3029596  0.36269497 0.5907219  0.35988336 0.1923751\n",
      "  0.79735569 0.7155145  0.39651771 0.19163587 0.51986619 0.29512614\n",
      "  0.35226899 0.637999   0.62471226 0.4185839  0.16802803 0.43877038\n",
      "  0.35116363 0.49353202 0.58966878 0.19013138 0.33899194 0.17610279\n",
      "  0.26055406 0.42327267 0.67895486 0.45048027]\n",
      " [0.86677215 0.7777406  0.753213   0.16632895 0.51473689 0.74531261\n",
      "  0.67858686 0.65744782 0.3401676  0.75048854 0.56610022 0.64159419\n",
      "  0.53368969 0.57012998 0.46976168 0.4953927  0.67741151 0.47120086\n",
      "  0.36340976 0.79514874 0.90596834 0.86659427 0.65326463 0.88822085\n",
      "  1.04217943 0.76671437 0.61770719 0.44045124 0.68785004 0.83545096\n",
      "  0.83498823 0.61488012 0.49518146 0.45741876 0.75877401 0.63775859\n",
      "  0.67543338 0.75092125 0.82600217 0.53360637 0.83661235 1.05967292\n",
      "  0.62342808 0.50464449 0.60981183 0.         0.96190108 0.83878602\n",
      "  0.75226464 0.8600236  0.54943532 1.01319175 0.71080864 0.17436753\n",
      "  0.68094261 0.33128777 0.75607425 0.83690556 0.67875861 0.69867457\n",
      "  0.07687423 0.25109619 0.20830593 0.37428233 0.47714562 0.75320951\n",
      "  0.97161191 0.22441082 0.21933533 0.61719248 0.27980042 0.26294098\n",
      "  0.97645061 0.91209004 0.44942725 1.11963585 0.43461705 0.47959488\n",
      "  0.23333324 0.11374721 0.81274637 0.79157974 0.10642838 0.31502076\n",
      "  0.93755332 0.22130629 0.19531882 0.24224642 0.49212981 0.73173227\n",
      "  0.85151059 0.97549811 0.63418696 0.42040575 0.69162856 0.70394659\n",
      "  0.86925117 0.50808046 0.08085748 0.21510278]\n",
      " [0.10666049 0.20840975 0.21702657 0.9103969  0.4560127  0.64962639\n",
      "  0.90474441 0.54866362 0.63081539 0.44940143 0.43844506 0.49613752\n",
      "  0.47513849 0.42340223 0.67707119 0.48279921 0.34378913 0.8032675\n",
      "  0.81129037 0.25836182 0.20039934 0.25377226 0.43711529 0.20275528\n",
      "  0.10273115 0.46337897 0.39035227 0.52536782 0.2947901  0.27712717\n",
      "  0.37224794 0.42732798 0.78092785 0.83659483 0.20315073 0.85548269\n",
      "  0.66638771 0.61298346 0.26193825 0.44953461 0.517917   0.15433885\n",
      "  0.33849629 0.77467516 0.39694358 0.96190108 0.         0.51578346\n",
      "  0.49781834 0.38579001 0.68965174 0.06061237 0.39037089 1.05890076\n",
      "  0.47645329 0.77543086 0.20930701 0.21182041 0.90962526 0.67771208\n",
      "  1.01908584 0.71175094 1.09295077 0.58772756 0.59244423 0.51891422\n",
      "  0.24301003 0.76323057 1.0218257  0.40938088 0.68353934 0.7138742\n",
      "  0.17806448 0.20496982 0.57288394 0.20299191 0.75426054 0.58879061\n",
      "  1.17168073 1.05461893 0.26533305 0.33143636 0.85997569 0.65688239\n",
      "  0.06979495 1.02669745 0.91878244 0.80523849 0.56461705 0.75217433\n",
      "  0.15198398 0.18734596 0.65750553 0.55722959 0.65718547 0.25815143\n",
      "  0.2655198  0.57729532 1.03851582 0.76521257]\n",
      " [0.51931065 0.54062037 0.39880995 0.8817968  0.43187154 0.96482814\n",
      "  1.13816837 0.82614919 0.53757479 0.79078599 0.34536902 0.2053241\n",
      "  0.35658241 0.59183225 0.37950671 0.58168729 0.6120686  0.95306008\n",
      "  0.52312109 0.27894652 0.65950907 0.68293976 0.70718321 0.65006968\n",
      "  0.61328479 0.81366984 0.60544219 0.56164934 0.35852594 0.68350865\n",
      "  0.14390757 0.28205742 0.94634836 0.97470794 0.45473064 1.0807623\n",
      "  0.22189882 0.13290638 0.25997008 0.39381274 0.00312552 0.66938288\n",
      "  0.45400004 0.94597336 0.32565442 0.83878602 0.51578346 0.\n",
      "  0.08930864 0.1316289  0.89392006 0.51542601 0.20133342 0.84835601\n",
      "  0.77075921 0.84379141 0.41812994 0.61843365 1.1419742  0.96496927\n",
      "  0.91434965 0.62851647 0.87105927 0.56551914 0.36342823 0.08557769\n",
      "  0.72936126 0.61731729 0.78072718 0.29785223 0.60450847 0.69509654\n",
      "  0.67584927 0.31531434 0.68653368 0.71169976 0.44149505 0.36137901\n",
      "  0.9728071  0.95216111 0.65415777 0.19900251 0.77188643 0.55471025\n",
      "  0.44660064 0.78490917 0.90570029 0.60342126 0.35325649 0.26929814\n",
      "  0.56429917 0.68343005 0.91305344 0.46877563 0.20461066 0.44057513\n",
      "  0.25042622 0.74892701 0.89108194 0.73162135]\n",
      " [0.48335671 0.48921504 0.34851148 0.79261156 0.34732847 0.89277387\n",
      "  1.05636587 0.75276003 0.44826621 0.72594596 0.260859   0.11602195\n",
      "  0.26928522 0.51571564 0.29981498 0.49980927 0.54592881 0.86758291\n",
      "  0.4472873  0.2434519  0.61931995 0.6359001  0.63660597 0.60806747\n",
      "  0.59920833 0.7493344  0.53348933 0.47609269 0.29547171 0.63255164\n",
      "  0.14102729 0.19874063 0.86180175 0.88847288 0.40372229 0.99885466\n",
      "  0.17927731 0.1153396  0.23599161 0.30900934 0.08776052 0.65193618\n",
      "  0.38247075 0.86178032 0.24607346 0.75226464 0.49781834 0.08930864\n",
      "  0.         0.1474596  0.81261252 0.50794843 0.13350065 0.76865177\n",
      "  0.70074082 0.75574786 0.36782519 0.57136239 1.06006167 0.88989438\n",
      "  0.82744032 0.53932589 0.79283823 0.47719715 0.27566891 0.0214255\n",
      "  0.69287464 0.52981805 0.70361062 0.2168605  0.51522448 0.60592889\n",
      "  0.64457479 0.3117573  0.60266565 0.69941158 0.36709097 0.27346703\n",
      "  0.89318295 0.86536928 0.60198456 0.16641928 0.68348283 0.46547443\n",
      "  0.43154241 0.70793685 0.81642517 0.5193267  0.26442294 0.25523651\n",
      "  0.52269808 0.65134967 0.83574097 0.37984395 0.16609619 0.38074197\n",
      "  0.24308072 0.6677697  0.80643907 0.64231287]\n",
      " [0.39779886 0.43226205 0.2940073  0.87820178 0.39358278 0.87974532\n",
      "  1.07538287 0.74521445 0.53388731 0.69532811 0.31332269 0.22543498\n",
      "  0.3369015  0.52141855 0.43249416 0.52740313 0.52167808 0.90587101\n",
      "  0.58240768 0.16664036 0.53926475 0.56796639 0.62257539 0.53127211\n",
      "  0.48217502 0.71718591 0.52565845 0.52212346 0.27421371 0.57225043\n",
      "  0.02977103 0.25304785 0.89516593 0.93101463 0.34838632 1.01874964\n",
      "  0.32510319 0.24857063 0.13904574 0.35902244 0.13406322 0.53875437\n",
      "  0.37884525 0.89336409 0.27946937 0.8600236  0.38579001 0.1316289\n",
      "  0.1474596  0.         0.83184082 0.38382792 0.15396338 0.8951424\n",
      "  0.68410947 0.81318492 0.31242875 0.50430898 1.07951458 0.88605322\n",
      "  0.93270023 0.62859867 0.92173149 0.54293805 0.38779955 0.16332443\n",
      "  0.60611144 0.63564354 0.83473747 0.25917549 0.60174013 0.68069562\n",
      "  0.55004704 0.18378925 0.6365901  0.58026135 0.50485804 0.38483864\n",
      "  1.01911535 0.97090355 0.54455229 0.09781246 0.7807046  0.55523397\n",
      "  0.31624678 0.8392433  0.89871052 0.63846271 0.36917604 0.39094386\n",
      "  0.44628123 0.55799259 0.83982131 0.45649507 0.3105876  0.34616192\n",
      "  0.12047606 0.68848462 0.92080744 0.72327292]\n",
      " [0.58442712 0.48508455 0.56823991 0.40084722 0.46728686 0.1975247\n",
      "  0.24439796 0.16045368 0.45303981 0.28183962 0.55263851 0.70895402\n",
      "  0.55157759 0.31145211 0.69206863 0.31281154 0.34982579 0.12981177\n",
      "  0.70881201 0.68299761 0.53510514 0.47666466 0.25266523 0.52137153\n",
      "  0.72382295 0.28515988 0.31843749 0.34638113 0.55966153 0.44264287\n",
      "  0.80221892 0.6138773  0.10021365 0.16512784 0.5316756  0.18722522\n",
      "  0.85956313 0.88506304 0.71990382 0.50549169 0.89352614 0.71132983\n",
      "  0.45381408 0.09113467 0.56826585 0.54943532 0.68965174 0.89392006\n",
      "  0.81261252 0.83184082 0.         0.75025686 0.69523439 0.71882847\n",
      "  0.22512238 0.2188974  0.55627572 0.48745309 0.24832107 0.14924264\n",
      "  0.55726507 0.42868669 0.75495956 0.37966918 0.61909996 0.82726374\n",
      "  0.56891891 0.51409853 0.73879204 0.59640063 0.42522859 0.34075206\n",
      "  0.60634606 0.76551156 0.21610741 0.76225066 0.72384848 0.61806044\n",
      "  0.77653603 0.57637348 0.43857188 0.73451327 0.4591472  0.4588247\n",
      "  0.70710929 0.74247507 0.385324   0.59515885 0.60663137 0.95411764\n",
      "  0.5387851  0.60065972 0.08693937 0.4732816  0.8664279  0.5041297\n",
      "  0.76457822 0.14499341 0.62350247 0.36257531]\n",
      " [0.16692099 0.26853045 0.26201191 0.96630305 0.50309323 0.70765654\n",
      "  0.96460196 0.60873606 0.67905828 0.50790583 0.47795891 0.51961921\n",
      "  0.51484833 0.48188533 0.70939898 0.53928253 0.40418467 0.86374862\n",
      "  0.8477387  0.27854409 0.25254284 0.3087724  0.49770237 0.25712502\n",
      "  0.10352239 0.5211892  0.44998124 0.57939297 0.33606268 0.33407289\n",
      "  0.37468439 0.46015693 0.84149466 0.89701221 0.25640568 0.91562215\n",
      "  0.68184748 0.62176823 0.27400457 0.49345599 0.51781232 0.16314743\n",
      "  0.3903799  0.83526428 0.43490469 1.01319175 0.06061237 0.51542601\n",
      "  0.50794843 0.38382792 0.75025686 0.         0.41171673 1.10510673\n",
      "  0.53652162 0.83414959 0.25732684 0.27073325 0.96949579 0.73680449\n",
      "  1.07191824 0.76238914 1.13857729 0.63969784 0.62816814 0.52846545\n",
      "  0.28443095 0.81051554 1.06528503 0.44409657 0.73392878 0.7683243\n",
      "  0.21764252 0.20016675 0.63144542 0.19710771 0.78715059 0.62450578\n",
      "  1.21959652 1.10782552 0.32407107 0.34381323 0.9123524  0.70512709\n",
      "  0.08345132 1.07014798 0.97542383 0.84903876 0.60071769 0.76316116\n",
      "  0.21226711 0.22726422 0.71760406 0.6035892  0.67127692 0.30972776\n",
      "  0.26704165 0.63745003 1.08893513 0.81953184]\n",
      " [0.35996396 0.35716041 0.21812347 0.7243551  0.24246062 0.76389104\n",
      "  0.93963206 0.62490875 0.38066937 0.59334397 0.15986935 0.10840223\n",
      "  0.18305934 0.39072786 0.31140506 0.38473531 0.41357973 0.76080336\n",
      "  0.45917522 0.1332621  0.49163007 0.50483338 0.50656781 0.47945814\n",
      "  0.49310182 0.616607   0.40435654 0.37244055 0.16200086 0.50018462\n",
      "  0.12624494 0.09912774 0.7520645  0.78443808 0.27234989 0.8823973\n",
      "  0.27858148 0.24145503 0.14343619 0.20657119 0.20140425 0.54149762\n",
      "  0.25285331 0.75102422 0.12965953 0.71080864 0.39037089 0.20133342\n",
      "  0.13350065 0.15396338 0.69523439 0.41171673 0.         0.75723106\n",
      "  0.57039745 0.66191643 0.23715739 0.44055105 0.94354412 0.76363617\n",
      "  0.78232838 0.4755211  0.78593968 0.3894445  0.24837151 0.1536615\n",
      "  0.56687864 0.48704322 0.70210136 0.10624747 0.44837639 0.52680004\n",
      "  0.52249963 0.23501349 0.4920558  0.59325249 0.38861305 0.24502539\n",
      "  0.87994591 0.82051166 0.46936266 0.08520848 0.62859525 0.40256987\n",
      "  0.32989273 0.70677284 0.74475264 0.49720817 0.22589351 0.37026268\n",
      "  0.39499131 0.5286219  0.71203128 0.30269419 0.27140099 0.24726776\n",
      "  0.17367241 0.55041285 0.77430798 0.56933148]\n",
      " [0.97190866 0.89157304 0.84327901 0.3401032  0.60288806 0.9127301\n",
      "  0.85264393 0.81658897 0.42955338 0.9011517  0.63374623 0.66976882\n",
      "  0.59774074 0.69898209 0.46919262 0.6218379  0.80706836 0.64525117\n",
      "  0.32818441 0.86140375 1.02965412 0.99638392 0.79807911 1.01184704\n",
      "  1.14709805 0.91912251 0.74814003 0.55945919 0.77014426 0.96737592\n",
      "  0.87374794 0.67016168 0.66872838 0.63178628 0.85884597 0.81212424\n",
      "  0.6547161  0.74082607 0.88768183 0.61207924 0.84576703 1.17150638\n",
      "  0.72486752 0.67802144 0.67846761 0.17436753 1.05890076 0.84835601\n",
      "  0.76865177 0.8951424  0.71882847 1.10510673 0.75723106 0.\n",
      "  0.83273456 0.50258229 0.84963587 0.95939817 0.85274279 0.86786175\n",
      "  0.20672756 0.3617796  0.03740259 0.48688832 0.50934193 0.76470681\n",
      "  1.09993898 0.29632046 0.08125902 0.67833358 0.38658384 0.40706623\n",
      "  1.09688562 0.97848211 0.59662762 1.2316755  0.41008104 0.51257342\n",
      "  0.12453673 0.22063666 0.94195755 0.84194983 0.26104759 0.40373395\n",
      "  1.02512229 0.07942315 0.36796439 0.26101633 0.53139992 0.68893453\n",
      "  0.96481233 1.09710061 0.8021185  0.50175714 0.6726317  0.80282041\n",
      "  0.92685065 0.66383305 0.1251654  0.36706984]\n",
      " [0.37500609 0.28280098 0.39564832 0.56302942 0.39105792 0.195638\n",
      "  0.42850949 0.07221493 0.4640608  0.06984061 0.46144442 0.61589838\n",
      "  0.47530202 0.19732317 0.66666804 0.25395704 0.16289548 0.35173523\n",
      "  0.72993056 0.52156219 0.310664   0.25171444 0.0643005  0.2975374\n",
      "  0.50155276 0.08639516 0.16802261 0.31778699 0.41349615 0.21791932\n",
      "  0.6559558  0.51166641 0.32415107 0.38713139 0.34804259 0.37912017\n",
      "  0.79088619 0.79335552 0.55601833 0.42335612 0.77107568 0.48663615\n",
      "  0.31827022 0.31577649 0.45952077 0.68094261 0.47645329 0.77075921\n",
      "  0.70074082 0.68410947 0.22512238 0.53652162 0.57039745 0.83273456\n",
      "  0.         0.38526655 0.37964164 0.26766847 0.4333601  0.20790889\n",
      "  0.70976219 0.48584558 0.87013228 0.38379605 0.57779737 0.71889705\n",
      "  0.34467306 0.57059474 0.8319996  0.48969813 0.46929944 0.42567268\n",
      "  0.38134165 0.58286977 0.23658715 0.53713712 0.71934737 0.57555101\n",
      "  0.9142273  0.7365608  0.21640463 0.58729013 0.57713657 0.48110331\n",
      "  0.50343806 0.83638188 0.55719217 0.64608851 0.55697404 0.89019858\n",
      "  0.32450972 0.37556681 0.18108521 0.44477812 0.79313268 0.33820003\n",
      "  0.59626996 0.17415801 0.76107748 0.46777557]\n",
      " [0.66973721 0.56891251 0.60322257 0.18412019 0.4197305  0.4160346\n",
      "  0.37492479 0.34479586 0.32467233 0.45397042 0.50297416 0.64152081\n",
      "  0.48740127 0.35229498 0.56331281 0.30376034 0.44028964 0.15374839\n",
      "  0.54141332 0.69222021 0.66372466 0.61276756 0.37808822 0.64722236\n",
      "  0.83340652 0.46547751 0.38680304 0.29172049 0.56568663 0.57859386\n",
      "  0.78384696 0.56628245 0.17085742 0.15499667 0.58483405 0.32522557\n",
      "  0.75719849 0.80310715 0.72889765 0.4554226  0.84265435 0.83513932\n",
      "  0.46783767 0.1789314  0.53374482 0.33128777 0.77543086 0.84379141\n",
      "  0.75574786 0.81318492 0.2188974  0.83414959 0.66191643 0.50258229\n",
      "  0.38526655 0.         0.59765208 0.6021415  0.37641806 0.36791104\n",
      "  0.33935468 0.26266475 0.53816328 0.27871823 0.51204265 0.76574321\n",
      "  0.71551943 0.33619475 0.52860479 0.55571296 0.27191291 0.16973534\n",
      "  0.73747676 0.79569908 0.20276334 0.89192528 0.57517104 0.51223929\n",
      "  0.55768684 0.36055405 0.56388117 0.7224473  0.24666292 0.31868817\n",
      "  0.77353718 0.53196256 0.17328901 0.41402609 0.50887634 0.84241333\n",
      "  0.63702627 0.73400245 0.30485677 0.37810311 0.76794312 0.54046306\n",
      "  0.77569074 0.21660283 0.4046182  0.16703253]\n",
      " [0.13589495 0.12253463 0.01940745 0.71568026 0.24676873 0.57415024\n",
      "  0.79243011 0.44572234 0.42209801 0.38418885 0.23495983 0.32643587\n",
      "  0.27077231 0.25290245 0.48158489 0.29467204 0.21747811 0.65260112\n",
      "  0.60844001 0.14590874 0.25578167 0.26808595 0.32193897 0.24286099\n",
      "  0.30189675 0.40554769 0.23784123 0.3262154  0.09368216 0.26578901\n",
      "  0.28652606 0.23755758 0.63530761 0.68294883 0.03660629 0.73797818\n",
      "  0.51016096 0.47855457 0.17785897 0.24106582 0.41920549 0.33673878\n",
      "  0.13538218 0.6311156  0.19730058 0.75607425 0.20930701 0.41812994\n",
      "  0.36782519 0.31242875 0.55627572 0.25732684 0.23715739 0.84963587\n",
      "  0.37964164 0.59765208 0.         0.20360081 0.79693568 0.58630304\n",
      "  0.81574088 0.5051482  0.88364543 0.38327918 0.39238154 0.38882074\n",
      "  0.33245521 0.55415184 0.8128684  0.21613429 0.47664499 0.51495777\n",
      "  0.2945524  0.2092386  0.39719086 0.39490359 0.55695332 0.38879077\n",
      "  0.96291827 0.85199041 0.23607551 0.22086618 0.65590891 0.44817577\n",
      "  0.1826303  0.8177413  0.72707948 0.59626627 0.36434054 0.60522305\n",
      "  0.15990029 0.29941159 0.54770673 0.34792838 0.50511078 0.05721269\n",
      "  0.21666544 0.42324114 0.83161881 0.565741  ]\n",
      " [0.12122236 0.08637575 0.22286583 0.75721835 0.38339876 0.43802309\n",
      "  0.69446832 0.33966333 0.53559551 0.23761305 0.40805818 0.52502758\n",
      "  0.43883524 0.26739698 0.65621158 0.34157966 0.16367168 0.60743265\n",
      "  0.76568597 0.34029766 0.0703895  0.06464139 0.23660818 0.05268232\n",
      "  0.23696764 0.25215615 0.2219616  0.40040575 0.28689866 0.07112706\n",
      "  0.48119779 0.42847381 0.58272832 0.64193358 0.16824619 0.64639572\n",
      "  0.71020929 0.68200552 0.36529715 0.39533674 0.61971347 0.23299999\n",
      "  0.2560372  0.57553665 0.3805604  0.83690556 0.21182041 0.61843365\n",
      "  0.57136239 0.50430898 0.48745309 0.27073325 0.44055105 0.95939817\n",
      "  0.26766847 0.6021415  0.20360081 0.         0.69938878 0.46607807\n",
      "  0.88388667 0.59825107 0.99569797 0.47251294 0.56281552 0.59239519\n",
      "  0.14548326 0.66666097 0.93682377 0.4053337  0.5728316  0.5758298\n",
      "  0.13971014 0.35817501 0.40656337 0.29022053 0.72675463 0.55949614\n",
      "  1.06134756 0.91657763 0.05353958 0.41951666 0.73091393 0.56010914\n",
      "  0.25056807 0.94162367 0.76018183 0.72516193 0.53565032 0.80667974\n",
      "  0.06528496 0.13860824 0.44842781 0.47799349 0.70619969 0.20470798\n",
      "  0.39342937 0.39077631 0.91696015 0.62636218]\n",
      " [0.80822691 0.71370407 0.8101846  0.51264024 0.71363056 0.28266455\n",
      "  0.0050523  0.36126606 0.6781029  0.46655381 0.79956091 0.95479089\n",
      "  0.7966598  0.55828813 0.92087313 0.56042    0.58322995 0.22313495\n",
      "  0.91565493 0.92831456 0.73393317 0.6734552  0.47965578 0.72324981\n",
      "  0.92795243 0.45853718 0.5604094  0.58913435 0.80650392 0.64234291\n",
      "  1.04995369 0.86135229 0.21317419 0.22520068 0.7697251  0.06121812\n",
      "  1.09906315 1.1294484  0.96493385 0.75196552 1.14154381 0.90502432\n",
      "  0.70092543 0.20905562 0.81634477 0.67875861 0.90962526 1.1419742\n",
      "  1.06006167 1.07951458 0.24832107 0.96949579 0.94354412 0.85274279\n",
      "  0.4333601  0.37641806 0.79693568 0.69938878 0.         0.23878188\n",
      "  0.65891174 0.63351982 0.88510549 0.61224878 0.85511708 1.07432613\n",
      "  0.74918127 0.71153066 0.89191164 0.84427119 0.6375185  0.53979367\n",
      "  0.79887043 1.00556259 0.45919599 0.94881792 0.94305021 0.85445286\n",
      "  0.87864324 0.66450278 0.64673561 0.98200186 0.61403484 0.67876359\n",
      "  0.93583825 0.89472523 0.48537771 0.79020093 0.84524849 1.19126447\n",
      "  0.75777597 0.79157254 0.25289389 0.7103824  1.10702796 0.74706453\n",
      "  1.00886261 0.39317877 0.73789607 0.54341689]\n",
      " [0.57951543 0.49018822 0.6017116  0.5485741  0.55757513 0.05538813\n",
      "  0.23373701 0.14105514 0.57833273 0.22980609 0.63772538 0.79560333\n",
      "  0.64408217 0.37419283 0.80897835 0.40332864 0.36883012 0.2552916\n",
      "  0.84148146 0.72612058 0.49654487 0.43610762 0.2647518  0.48655607\n",
      "  0.69067404 0.22020553 0.36096553 0.45252034 0.61260878 0.40589607\n",
      "  0.85732067 0.6942818  0.22418105 0.28606084 0.55547618 0.19485137\n",
      "  0.95990678 0.97411999 0.76130723 0.59401664 0.96501598 0.66646017\n",
      "  0.51145625 0.2132766  0.64426729 0.69867457 0.67771208 0.96496927\n",
      "  0.88989438 0.88605322 0.14924264 0.73680449 0.76363617 0.86786175\n",
      "  0.20790889 0.36791104 0.58630304 0.46607807 0.23878188 0.\n",
      "  0.70525566 0.56680063 0.90407556 0.5001075  0.72860348 0.90669258\n",
      "  0.51043709 0.65356932 0.88631898 0.67404479 0.55984133 0.48313775\n",
      "  0.56040524 0.79070776 0.33042425 0.71004606 0.84865827 0.72704523\n",
      "  0.925276   0.72314664 0.41276251 0.78849898 0.60777338 0.58788885\n",
      "  0.70917162 0.89008828 0.5315182  0.73437454 0.71239022 1.05740083\n",
      "  0.52692944 0.5530028  0.06844471 0.58471924 0.96462961 0.54220453\n",
      "  0.80256522 0.24735839 0.77250603 0.50898508]\n",
      " [0.92140257 0.82933249 0.81405285 0.15673613 0.57858266 0.75477868\n",
      "  0.65930145 0.67913756 0.40695409 0.77960162 0.63456998 0.71595544\n",
      "  0.6032366  0.61652999 0.54654685 0.54435956 0.72197479 0.46431611\n",
      "  0.43895425 0.86227567 0.95185528 0.90940283 0.68816776 0.93425525\n",
      "  1.09594343 0.79412403 0.66254593 0.49422488 0.75155413 0.87724001\n",
      "  0.90720653 0.68543128 0.49123707 0.44531535 0.81612158 0.62342288\n",
      "  0.75230606 0.82763699 0.89400672 0.59985941 0.9122123  1.11042619\n",
      "  0.68154218 0.50142055 0.67765818 0.07687423 1.01908584 0.91434965\n",
      "  0.82744032 0.93270023 0.55726507 1.07191824 0.78232838 0.20672756\n",
      "  0.70976219 0.33935468 0.81574088 0.88388667 0.65891174 0.70525566\n",
      "  0.         0.31446761 0.23320572 0.43246171 0.55195645 0.82879303\n",
      "  1.01458245 0.29814143 0.26976458 0.68659342 0.34328123 0.30860294\n",
      "  1.02357673 0.97861677 0.48590801 1.17003408 0.51115055 0.55430953\n",
      "  0.22237384 0.0382038  0.85629067 0.86202299 0.16002155 0.38265846\n",
      "  0.99807113 0.27061796 0.17718544 0.3191184  0.56604639 0.80807585\n",
      "  0.90278593 1.02204157 0.64380186 0.48756179 0.76850144 0.76219074\n",
      "  0.93793487 0.53560508 0.08230157 0.25762996]\n",
      " [0.61853867 0.53310583 0.50212089 0.25328566 0.26431451 0.60146976\n",
      "  0.63149214 0.48354595 0.09489598 0.55148982 0.32234221 0.42368193\n",
      "  0.29318169 0.337485   0.30551004 0.26024841 0.44543834 0.41120195\n",
      "  0.28291366 0.54823816 0.66837387 0.63462048 0.44380951 0.65055582\n",
      "  0.79425353 0.57143713 0.38675825 0.19789051 0.43744061 0.60580219\n",
      "  0.6016627  0.37685131 0.42108993 0.41719253 0.50882613 0.57827165\n",
      "  0.50766238 0.56495783 0.58052892 0.28569162 0.6268062  0.81466464\n",
      "  0.37334652 0.42655398 0.3644834  0.25109619 0.71175094 0.62851647\n",
      "  0.53932589 0.62859867 0.42868669 0.76238914 0.4755211  0.3617796\n",
      "  0.48584558 0.26266475 0.5051482  0.59825107 0.63351982 0.56680063\n",
      "  0.31446761 0.         0.39849642 0.12647534 0.27067603 0.54479955\n",
      "  0.73818679 0.08721254 0.34853792 0.37553566 0.0288467  0.09384331\n",
      "  0.73646039 0.66427997 0.25191868 0.87483227 0.31251449 0.27188271\n",
      "  0.46434276 0.3519562  0.58019062 0.55203351 0.15547762 0.07407314\n",
      "  0.68646285 0.3530949  0.27766326 0.16760658 0.27595685 0.58682374\n",
      "  0.60679934 0.73636097 0.49836628 0.17468656 0.52033667 0.45360971\n",
      "  0.62503675 0.33058569 0.32676512 0.10839754]\n",
      " [1.00683116 0.92730739 0.87695137 0.3727759  0.63701999 0.94925336\n",
      "  0.88511512 0.8538061  0.46462053 0.93855428 0.66564202 0.696308\n",
      "  0.62940317 0.73584872 0.4930238  0.65866749 0.84389297 0.67949656\n",
      "  0.34858036 0.89234875 1.06598949 1.03311102 0.83543713 1.04818887\n",
      "  1.18183144 0.95651943 0.78504278 0.59600305 0.80317519 1.00423019\n",
      "  0.90094535 0.70041263 0.70341997 0.66523977 0.89345899 0.84546015\n",
      "  0.67310711 0.76061718 0.91798208 0.64523456 0.86841118 1.20684343\n",
      "  0.75984207 0.71282549 0.71028912 0.20830593 1.09295077 0.87105927\n",
      "  0.79283823 0.92173149 0.75495956 1.13857729 0.78593968 0.03740259\n",
      "  0.87013228 0.53816328 0.88364543 0.99569797 0.88510549 0.90407556\n",
      "  0.23320572 0.39849642 0.         0.52324766 0.53764101 0.78811558\n",
      "  1.13653536 0.33137466 0.09194323 0.70927054 0.42300145 0.44446584\n",
      "  1.1329549  1.00917063 0.63402979 1.26699179 0.43064846 0.54094915\n",
      "  0.10530815 0.24251818 0.97867926 0.87088951 0.29788291 0.43892088\n",
      "  1.0582273  0.08840178 0.39979336 0.29185713 0.5604544  0.70263926\n",
      "  1.00043358 1.133254   0.83853569 0.53572418 0.69121538 0.83741827\n",
      "  0.9565186  0.70113973 0.15092082 0.40431348]\n",
      " [0.49287012 0.40663218 0.3818546  0.3425077  0.15435583 0.52592913\n",
      "  0.60933886 0.39525006 0.08078019 0.44498116 0.22963937 0.36280325\n",
      "  0.210035   0.21617038 0.31240923 0.13962862 0.32280468 0.40158195\n",
      "  0.3479758  0.44147503 0.5427674  0.51076759 0.33416098 0.52496172\n",
      "  0.66849298 0.46656746 0.26544591 0.07363329 0.32295291 0.48294263\n",
      "  0.51430952 0.29143972 0.40192712 0.41789267 0.3845772  0.55271977\n",
      "  0.48807337 0.52684932 0.47599623 0.18476181 0.56431834 0.68824712\n",
      "  0.24941477 0.40432625 0.26583823 0.37428233 0.58772756 0.56551914\n",
      "  0.47719715 0.54293805 0.37966918 0.63969784 0.3894445  0.48688832\n",
      "  0.38379605 0.27871823 0.38327918 0.47251294 0.61224878 0.5001075\n",
      "  0.43246171 0.12647534 0.52324766 0.         0.24300002 0.4870265\n",
      "  0.61355831 0.19704924 0.46773536 0.28377816 0.10032611 0.13989231\n",
      "  0.61030927 0.55448493 0.16968339 0.74840559 0.34858273 0.24245576\n",
      "  0.59081796 0.46878215 0.45636503 0.4574741  0.27268396 0.09769315\n",
      "  0.56566231 0.47244653 0.35949137 0.2657241  0.23494383 0.57907706\n",
      "  0.4803346  0.61035287 0.43354408 0.10064046 0.49706172 0.33005048\n",
      "  0.52201885 0.25290951 0.45175771 0.18736129]\n",
      " [0.52782872 0.47848718 0.37963101 0.52225081 0.19143304 0.74682227\n",
      "  0.85215766 0.60822459 0.18812737 0.6257331  0.15798813 0.16486209\n",
      "  0.12431244 0.38163239 0.09394955 0.32871059 0.46111019 0.64367396\n",
      "  0.21959196 0.36209204 0.62885083 0.61882951 0.51719768 0.61270592\n",
      "  0.69115483 0.64945237 0.4206814  0.27629676 0.29984372 0.60099117\n",
      "  0.36514634 0.16945563 0.64485359 0.65822394 0.41485316 0.7953799\n",
      "  0.24586866 0.29474246 0.38399314 0.16914036 0.36143312 0.7289808\n",
      "  0.30838989 0.64732454 0.19600688 0.47714562 0.59244423 0.36342823\n",
      "  0.27566891 0.38779955 0.61909996 0.62816814 0.24837151 0.50934193\n",
      "  0.57779737 0.51204265 0.39238154 0.56281552 0.85511708 0.72860348\n",
      "  0.55195645 0.27067603 0.53764101 0.24300002 0.         0.27820604\n",
      "  0.70685517 0.25415239 0.45391193 0.18407788 0.24989759 0.34870863\n",
      "  0.68072897 0.47634832 0.40385725 0.78662754 0.16515024 0.00366257\n",
      "  0.63260185 0.58995277 0.5696073  0.333458   0.40873034 0.19935897\n",
      "  0.54490957 0.4586067  0.54786154 0.25075787 0.02804171 0.33614951\n",
      "  0.54141729 0.68417593 0.66486805 0.14582086 0.25598312 0.36382927\n",
      "  0.42022502 0.48356486 0.53415279 0.37774593]\n",
      " [0.50476854 0.51002324 0.36953008 0.79796025 0.36089519 0.91035713\n",
      "  1.07068236 0.77009221 0.45492741 0.74505041 0.27476525 0.1242587\n",
      "  0.28090054 0.53252116 0.29552022 0.51449708 0.56496388 0.8799148\n",
      "  0.44117224 0.26485351 0.64062331 0.65690665 0.65469346 0.62931515\n",
      "  0.62018072 0.76850599 0.55137445 0.48870592 0.31541521 0.6533034\n",
      "  0.1593537  0.21372964 0.87474936 0.90022584 0.42463462 1.01314437\n",
      "  0.16182913 0.09409785 0.25701879 0.32252942 0.08341972 0.67308035\n",
      "  0.40070683 0.8749413  0.26245051 0.75320951 0.51891422 0.08557769\n",
      "  0.0214255  0.16332443 0.82726374 0.52846545 0.1536615  0.76470681\n",
      "  0.71889705 0.76574321 0.38882074 0.59239519 1.07432613 0.90669258\n",
      "  0.82879303 0.54479955 0.78811558 0.4870265  0.27820604 0.\n",
      "  0.71425202 0.53189159 0.69830227 0.2328432  0.52133316 0.61370296\n",
      "  0.66600027 0.33161166 0.61620254 0.72033733 0.36019186 0.27623608\n",
      "  0.88922754 0.86659439 0.62265897 0.18759583 0.68686828 0.47124518\n",
      "  0.45244592 0.70256042 0.82231394 0.51812846 0.26898963 0.23473001\n",
      "  0.54398609 0.67277424 0.85188742 0.38862755 0.14775296 0.40089737\n",
      "  0.26298507 0.68259067 0.80571259 0.64889946]\n",
      " [0.21031277 0.22837766 0.35050254 0.88094515 0.52887125 0.46953192\n",
      "  0.74413284 0.40959475 0.67917473 0.28949904 0.55084446 0.65884906\n",
      "  0.5826206  0.40230553 0.79987652 0.47879031 0.2943653  0.69639646\n",
      "  0.91111421 0.4519951  0.07821267 0.10518636 0.33760056 0.09417899\n",
      "  0.2014643  0.292571   0.35403471 0.54053925 0.42260841 0.13788447\n",
      "  0.58692317 0.56660602 0.66855667 0.73180195 0.30080726 0.70309533\n",
      "  0.84246147 0.80650022 0.46964347 0.54020028 0.73102588 0.16146765\n",
      "  0.40125851 0.65994289 0.52086827 0.97161191 0.24301003 0.72936126\n",
      "  0.69287464 0.60611144 0.56891891 0.28443095 0.56687864 1.09993898\n",
      "  0.34467306 0.71551943 0.33245521 0.14548326 0.74918127 0.51043709\n",
      "  1.01458245 0.73818679 1.13653536 0.61355831 0.70685517 0.71425202\n",
      "  0.         0.80918496 1.07984456 0.54398695 0.71361091 0.70892859\n",
      "  0.06684266 0.43742281 0.53031656 0.19971753 0.87126257 0.70348685\n",
      "  1.19899443 1.0458579  0.15888801 0.53219877 0.86521718 0.70331389\n",
      "  0.30669718 1.08462046 0.88082072 0.8694221  0.67946697 0.93676075\n",
      "  0.17256818 0.05721232 0.51177567 0.62319516 0.83701456 0.34506301\n",
      "  0.48764722 0.49913841 1.0521888  0.7583983 ]\n",
      " [0.67559272 0.59639234 0.54850383 0.28304445 0.30748549 0.68863721\n",
      "  0.7097735  0.57031563 0.13326011 0.63522547 0.34700412 0.41782166\n",
      "  0.31293277 0.41315919 0.26155971 0.33631029 0.51977973 0.48841482\n",
      "  0.20560764 0.57694363 0.73704918 0.7071302  0.52624021 0.71930565\n",
      "  0.85079181 0.65567767 0.46246829 0.27067488 0.47738785 0.67976465\n",
      "  0.61074699 0.3922504  0.50077091 0.49100122 0.5626088  0.65790246\n",
      "  0.46972997 0.53753334 0.60624546 0.31969512 0.61526071 0.87548074\n",
      "  0.42855702 0.50692685 0.39150008 0.22441082 0.76323057 0.61731729\n",
      "  0.52981805 0.63564354 0.51409853 0.81051554 0.48704322 0.29632046\n",
      "  0.57059474 0.33619475 0.55415184 0.66666097 0.71153066 0.65356932\n",
      "  0.29814143 0.08721254 0.33137466 0.19704924 0.25415239 0.53189159\n",
      "  0.80918496 0.         0.27087886 0.39615096 0.10143812 0.17451701\n",
      "  0.80281317 0.6944091  0.33832938 0.9356235  0.24957275 0.25640658\n",
      "  0.40916697 0.33624864 0.65280092 0.56869893 0.15877186 0.10756202\n",
      "  0.73154352 0.27561996 0.31233215 0.08106216 0.26794381 0.53932744\n",
      "  0.66931088 0.80341705 0.58512474 0.20718489 0.48437596 0.50660195\n",
      "  0.64837727 0.41766826 0.28824    0.17039239]\n",
      " [0.93961496 0.86470928 0.80494029 0.38317035 0.56780399 0.92814194\n",
      "  0.89140036 0.82284395 0.40137658 0.89879989 0.58889928 0.60958396\n",
      "  0.55221371 0.68356504 0.40400311 0.60647664 0.79053992 0.67749967\n",
      "  0.25769432 0.81257641 1.00720203 0.977993   0.79211801 0.98950094\n",
      "  1.11337377 0.91811816 0.73292098 0.54135971 0.72922358 0.95061332\n",
      "  0.81472269 0.61964684 0.69849052 0.66780708 0.82514159 0.84755598\n",
      "  0.58127815 0.66906494 0.83678628 0.57236899 0.77804528 1.1412882\n",
      "  0.69372353 0.70709999 0.63316343 0.21933533 1.0218257  0.78072718\n",
      "  0.70361062 0.83473747 0.73879204 1.06528503 0.70210136 0.08125902\n",
      "  0.8319996  0.52860479 0.8128684  0.93682377 0.89191164 0.88631898\n",
      "  0.26976458 0.34853792 0.09194323 0.46773536 0.45391193 0.69830227\n",
      "  1.07984456 0.27087886 0.         0.62997285 0.36956298 0.41019732\n",
      "  1.07200613 0.92862873 0.59572845 1.20122424 0.33964366 0.45733105\n",
      "  0.19701306 0.29019445 0.92367393 0.78727278 0.28194412 0.37671512\n",
      "  0.98387758 0.0048732  0.41342299 0.21660308 0.47792161 0.61114361\n",
      "  0.93693144 1.07290776 0.81907768 0.46661272 0.59941294 0.76922289\n",
      "  0.87403883 0.66872822 0.19344562 0.3777329 ]\n",
      " [0.35170295 0.31895801 0.20105961 0.62122253 0.13660304 0.67895789\n",
      "  0.84049924 0.53824769 0.28085124 0.52138641 0.05433846 0.12768338\n",
      "  0.08350392 0.3000269  0.26801998 0.28388072 0.34235003 0.65683198\n",
      "  0.40366555 0.18309106 0.46599537 0.46656968 0.42540804 0.45129391\n",
      "  0.50924594 0.54523768 0.32167585 0.26692187 0.12262727 0.45509637\n",
      "  0.23055272 0.0235761  0.64913597 0.67972371 0.24389637 0.78305367\n",
      "  0.31080283 0.30368901 0.2103613  0.1003252  0.29734955 0.54963597\n",
      "  0.17474888 0.64851842 0.03017839 0.61719248 0.40938088 0.29785223\n",
      "  0.2168605  0.25917549 0.59640063 0.44409657 0.10624747 0.67833358\n",
      "  0.48969813 0.55571296 0.21613429 0.4053337  0.84427119 0.67404479\n",
      "  0.68659342 0.37553566 0.70927054 0.28377816 0.18407788 0.2328432\n",
      "  0.54398695 0.39615096 0.62997285 0.         0.34765702 0.42200154\n",
      "  0.51019137 0.30020645 0.38908101 0.60616413 0.34492628 0.18041588\n",
      "  0.79864203 0.72462899 0.42327008 0.17658038 0.53025282 0.30421147\n",
      "  0.36083272 0.6347744  0.64075117 0.41749135 0.15674804 0.40982806\n",
      "  0.37302644 0.51468479 0.6190648  0.20100838 0.30978972 0.20064745\n",
      "  0.25228643 0.45143569 0.68435226 0.46569569]\n",
      " [0.59090375 0.50643474 0.47346574 0.2780491  0.23546792 0.59240725\n",
      "  0.63528445 0.47075396 0.06796539 0.5337884  0.29424338 0.39933127\n",
      "  0.26568009 0.31432359 0.29179855 0.2371071  0.42185079 0.41660128\n",
      "  0.28359569 0.51959484 0.64307297 0.610495   0.42488743 0.62526482\n",
      "  0.76663355 0.55427297 0.3636858  0.17310287 0.40859619 0.58219555\n",
      "  0.57459206 0.3495126  0.42443015 0.42492961 0.48072845 0.58108776\n",
      "  0.49038668 0.54463905 0.55201652 0.2570507  0.60286696 0.78770279\n",
      "  0.34526106 0.4292456  0.33610842 0.27980042 0.68353934 0.60450847\n",
      "  0.51522448 0.60174013 0.42522859 0.73392878 0.44837639 0.38658384\n",
      "  0.46929944 0.27191291 0.47664499 0.5728316  0.6375185  0.55984133\n",
      "  0.34328123 0.0288467  0.42300145 0.10032611 0.24989759 0.52133316\n",
      "  0.71361091 0.10143812 0.36956298 0.34765702 0.         0.1025455\n",
      "  0.71059791 0.63554228 0.23852587 0.84788815 0.30564626 0.25083731\n",
      "  0.49121527 0.38073351 0.55606534 0.52422134 0.18411219 0.05058072\n",
      "  0.65780767 0.37420735 0.30120883 0.17803816 0.25318252 0.57216477\n",
      "  0.58003612 0.71067088 0.49156645 0.14665914 0.50244099 0.4253884\n",
      "  0.59663903 0.31941515 0.35505903 0.12806179]\n",
      " [0.61427483 0.52095402 0.51547097 0.20314195 0.2942329  0.52132681\n",
      "  0.53780617 0.41270047 0.16087465 0.49414713 0.36766996 0.49004687\n",
      "  0.34481432 0.30846425 0.3943414  0.23576902 0.41500634 0.31736329\n",
      "  0.37611178 0.58107058 0.6443057  0.60383843 0.3926653  0.62662475\n",
      "  0.78810028 0.51206394 0.3553424  0.18902796 0.4609456  0.57254595\n",
      "  0.65241032 0.42798521 0.32763828 0.32369581 0.51191877 0.48487845\n",
      "  0.59163861 0.64281757 0.61578279 0.32409743 0.69365601 0.80183371\n",
      "  0.37959442 0.3333459  0.40526823 0.26294098 0.7138742  0.69509654\n",
      "  0.60592889 0.68069562 0.34075206 0.7683243  0.52680004 0.40706623\n",
      "  0.42567268 0.16973534 0.51495777 0.5758298  0.53979367 0.48313775\n",
      "  0.30860294 0.09384331 0.44446584 0.13989231 0.34870863 0.61370296\n",
      "  0.70892859 0.17451701 0.41019732 0.42200154 0.1025455  0.\n",
      "  0.7155368  0.69328649 0.18977044 0.86143117 0.40581381 0.34930895\n",
      "  0.49344488 0.34250413 0.55012909 0.59682467 0.15653033 0.15096974\n",
      "  0.69746265 0.41435444 0.21961183 0.25529423 0.34896465 0.67451211\n",
      "  0.59429603 0.71422828 0.41486109 0.22697828 0.60323638 0.45959592\n",
      "  0.6618702  0.25868054 0.34372448 0.0514173 ]\n",
      " [0.16257744 0.20799    0.31113331 0.89591517 0.51112731 0.52271802\n",
      "  0.79384193 0.45000781 0.67069842 0.3336223  0.52300757 0.61916309\n",
      "  0.55665993 0.40710648 0.77233928 0.48106238 0.30252531 0.73121597\n",
      "  0.8907312  0.40157617 0.07376372 0.12968978 0.3638392  0.09044032\n",
      "  0.13710091 0.34033344 0.36137648 0.53888476 0.38758542 0.16391491\n",
      "  0.53240403 0.53197259 0.70465639 0.76633926 0.26693907 0.75040059\n",
      "  0.8003874  0.75924283 0.41597874 0.51792328 0.67766221 0.10629718\n",
      "  0.38235049 0.69662083 0.48941113 0.97645061 0.17806448 0.67584927\n",
      "  0.64457479 0.55004704 0.60634606 0.21764252 0.52249963 1.09688562\n",
      "  0.38134165 0.73747676 0.2945524  0.13971014 0.79887043 0.56040524\n",
      "  1.02357673 0.73646039 1.1329549  0.61030927 0.68072897 0.66600027\n",
      "  0.06684266 0.80281317 1.07200613 0.51019137 0.71059791 0.7155368\n",
      "  0.         0.37685528 0.54477111 0.15639656 0.84586079 0.67724624\n",
      "  1.20016623 1.05618978 0.17377445 0.48104748 0.87052929 0.69567677\n",
      "  0.24385337 1.07683261 0.89812541 0.85855489 0.65290922 0.89264014\n",
      "  0.13942719 0.00963038 0.55565712 0.60909316 0.79384227 0.31698621\n",
      "  0.43035472 0.52325116 1.05641033 0.76606835]\n",
      " [0.23970231 0.30423987 0.19798908 0.89642835 0.40164974 0.77436097\n",
      "  1.00101617 0.65126382 0.57210496 0.57781333 0.34740731 0.34199941\n",
      "  0.38206576 0.45998351 0.54586839 0.49249588 0.42351548 0.86004499\n",
      "  0.69221428 0.11750178 0.37830823 0.4173649  0.52817602 0.37372092\n",
      "  0.2987304  0.59701144 0.44707955 0.51089277 0.23281125 0.42920358\n",
      "  0.17505338 0.30901451 0.84359916 0.8896503  0.23613223 0.94687838\n",
      "  0.4890774  0.42381117 0.09257115 0.37878875 0.31767959 0.35598388\n",
      "  0.32822333 0.83966276 0.3029596  0.91209004 0.20496982 0.31531434\n",
      "  0.3117573  0.18378925 0.76551156 0.20016675 0.23501349 0.97848211\n",
      "  0.58286977 0.79569908 0.2092386  0.35817501 1.00556259 0.79070776\n",
      "  0.97861677 0.66427997 1.00917063 0.55448493 0.47634832 0.33161166\n",
      "  0.43742281 0.6944091  0.92862873 0.30020645 0.63554228 0.69328649\n",
      "  0.37685528 0.         0.59949861 0.39647978 0.62336172 0.47280012\n",
      "  1.09880428 1.01621704 0.40616227 0.1549159  0.81961815 0.59707493\n",
      "  0.13526022 0.9333932  0.91151217 0.71754739 0.4511376  0.56604126\n",
      "  0.29421162 0.38546509 0.75522348 0.49169625 0.47719007 0.26273088\n",
      "  0.06868149 0.6313875  0.98188453 0.74182435]\n",
      " [0.46748983 0.36720346 0.40404414 0.35132001 0.25536437 0.35741257\n",
      "  0.45574695 0.23222926 0.24843377 0.30454777 0.34181313 0.49574196\n",
      "  0.33748201 0.14956044 0.48009151 0.10972765 0.24294265 0.26930216\n",
      "  0.51396028 0.50174932 0.47158417 0.42540839 0.20383819 0.45441522\n",
      "  0.63345881 0.32293078 0.1864451  0.1304325  0.37455556 0.39250532\n",
      "  0.60683225 0.40458597 0.26010695 0.29494709 0.38272033 0.39823409\n",
      "  0.64345625 0.67037093 0.53893164 0.29371773 0.68590212 0.63861355\n",
      "  0.27180119 0.25945752 0.36269497 0.44942725 0.57288394 0.68653368\n",
      "  0.60266565 0.6365901  0.21610741 0.63144542 0.4920558  0.59662762\n",
      "  0.23658715 0.20276334 0.39719086 0.40656337 0.45919599 0.33042425\n",
      "  0.48590801 0.25191868 0.63402979 0.16968339 0.40385725 0.61620254\n",
      "  0.53031656 0.33832938 0.59572845 0.38908101 0.23852587 0.18977044\n",
      "  0.54477111 0.59949861 0.         0.69663886 0.51824618 0.40268796\n",
      "  0.68180186 0.51613107 0.37345718 0.54158013 0.343941   0.25978088\n",
      "  0.57112273 0.60007432 0.35362259 0.41654966 0.39068773 0.73819492\n",
      "  0.43673067 0.54222923 0.26401404 0.2581645  0.65036671 0.34024797\n",
      "  0.58540732 0.08340153 0.53018709 0.23443384]\n",
      " [0.26218838 0.34203121 0.40700004 1.04676206 0.63390038 0.66915141\n",
      "  0.94377093 0.60495493 0.80241012 0.48677062 0.6297586  0.69848452\n",
      "  0.66567535 0.55461755 0.87406202 0.62569447 0.45369957 0.88753048\n",
      "  1.00334336 0.46133775 0.22954259 0.28586573 0.52002441 0.24527068\n",
      "  0.10041306 0.49140905 0.51114453 0.67940727 0.4867844  0.32022845\n",
      "  0.56978191 0.62544909 0.86082844 0.9226811  0.37729648 0.90221683\n",
      "  0.86929328 0.81424278 0.46347778 0.63394273 0.71402363 0.06019471\n",
      "  0.50764258 0.85270671 0.5907219  1.11963585 0.20299191 0.71169976\n",
      "  0.69941158 0.58026135 0.76225066 0.19710771 0.59325249 1.2316755\n",
      "  0.53713712 0.89192528 0.39490359 0.29022053 0.94881792 0.71004606\n",
      "  1.17003408 0.87483227 1.26699179 0.74840559 0.78662754 0.72033733\n",
      "  0.19971753 0.9356235  1.20122424 0.60616413 0.84788815 0.86143117\n",
      "  0.15639656 0.39647978 0.69663886 0.         0.95042628 0.78300988\n",
      "  1.33908798 1.20356907 0.32942988 0.53335426 1.01456904 0.82807099\n",
      "  0.26789598 1.20608834 1.05024818 0.98536406 0.75860278 0.95429036\n",
      "  0.26823079 0.16163154 0.70934851 0.73472375 0.85992117 0.43270733\n",
      "  0.46201215 0.67874678 1.19874995 0.91249581]\n",
      " [0.69261992 0.64300199 0.54369088 0.53011693 0.34845817 0.87387518\n",
      "  0.94076213 0.7403151  0.2711541  0.77299635 0.32309092 0.28505534\n",
      "  0.28927249 0.5285418  0.07793386 0.46543592 0.61705348 0.72218039\n",
      "  0.08207907 0.51422553 0.7933883  0.78156909 0.66215719 0.77708421\n",
      "  0.85407679 0.79619618 0.57170845 0.40368209 0.46391562 0.76238751\n",
      "  0.48801292 0.32727462 0.72989707 0.72950873 0.57995661 0.88621067\n",
      "  0.24630462 0.33077667 0.53111145 0.3315731  0.43876963 0.8931957\n",
      "  0.47124636 0.73448094 0.35988336 0.43461705 0.75426054 0.44149505\n",
      "  0.36709097 0.50485804 0.72384848 0.78715059 0.38861305 0.41008104\n",
      "  0.71934737 0.57517104 0.55695332 0.72675463 0.94305021 0.84865827\n",
      "  0.51115055 0.31251449 0.43064846 0.34858273 0.16515024 0.36019186\n",
      "  0.87126257 0.24957275 0.33964366 0.34492628 0.30564626 0.40581381\n",
      "  0.84586079 0.62336172 0.51824618 0.95042628 0.         0.16865566\n",
      "  0.53381129 0.54639682 0.73133072 0.47213951 0.40156062 0.26566002\n",
      "  0.70369927 0.34373626 0.56032859 0.19474111 0.19305572 0.29736037\n",
      "  0.70652478 0.84926701 0.78186692 0.27468566 0.26378811 0.52892306\n",
      "  0.56176734 0.60148823 0.47006739 0.41539625]\n",
      " [0.52425635 0.47511437 0.37601538 0.52371328 0.18871006 0.74503261\n",
      "  0.85147619 0.60631124 0.18860651 0.62324967 0.15445435 0.16222434\n",
      "  0.12090557 0.3792601  0.09708662 0.32681385 0.45828523 0.64336113\n",
      "  0.22325324 0.35849161 0.62547047 0.61559973 0.5148399  0.60934304\n",
      "  0.68751625 0.6469841  0.4181042  0.27485481 0.29622551 0.59784935\n",
      "  0.36207862 0.16582101 0.64436292 0.65809263 0.4113235  0.79465786\n",
      "  0.24605152 0.29386295 0.38045903 0.16603366 0.35940422 0.72537723\n",
      "  0.30518757 0.64677421 0.1923751  0.47959488 0.58879061 0.36137901\n",
      "  0.27346703 0.38483864 0.61806044 0.62450578 0.24502539 0.51257342\n",
      "  0.57555101 0.51223929 0.38879077 0.55949614 0.85445286 0.72704523\n",
      "  0.55430953 0.27188271 0.54094915 0.24245576 0.00366257 0.27623608\n",
      "  0.70348685 0.25640658 0.45733105 0.18041588 0.25083731 0.34930895\n",
      "  0.67724624 0.47280012 0.40268796 0.78300988 0.16865566 0.\n",
      "  0.63577729 0.59232485 0.56644802 0.33008749 0.41064033 0.20027234\n",
      "  0.54124775 0.46202953 0.54920217 0.25380687 0.02445527 0.33685564\n",
      "  0.5379456  0.68070848 0.66343046 0.14479584 0.25593966 0.36036475\n",
      "  0.41677159 0.482202   0.53689365 0.37876201]\n",
      " [1.08157853 0.9974476  0.95759954 0.37816155 0.71650404 0.97369013\n",
      "  0.87925391 0.89025107 0.54087631 0.98372718 0.75259644 0.79383398\n",
      "  0.71707838 0.79668897 0.59371952 0.72046127 0.90471165 0.68666184\n",
      "  0.45177414 0.98145837 1.13113875 1.09440731 0.88554516 1.11332624\n",
      "  1.2572505  1.00003987 0.84514158 0.66131392 0.8863206  1.06406432\n",
      "  0.9974339  0.79139342 0.71339177 0.66752845 0.97000946 0.84496862\n",
      "  0.7774606  0.86434444 1.00861116 0.72835808 0.97020902 1.27890669\n",
      "  0.83497556 0.72350435 0.79735569 0.23333324 1.17168073 0.9728071\n",
      "  0.89318295 1.01911535 0.77653603 1.21959652 0.87994591 0.12453673\n",
      "  0.9142273  0.55768684 0.96291827 1.06134756 0.87864324 0.925276\n",
      "  0.22237384 0.46434276 0.10530815 0.59081796 0.63260185 0.88922754\n",
      "  1.19899443 0.40916697 0.19701306 0.79864203 0.49121527 0.49344488\n",
      "  1.20016623 1.09880428 0.68180186 1.33908798 0.53381129 0.63577729\n",
      "  0.         0.21434321 1.04020694 0.96440344 0.33786259 0.51480438\n",
      "  1.14069768 0.19361929 0.39955839 0.38280789 0.65405846 0.80794546\n",
      "  1.07112942 1.1997935  0.86247889 0.61632968 0.7954955  0.91418288\n",
      "  1.04851048 0.74140137 0.15414979 0.44741991]\n",
      " [0.95630459 0.86345436 0.85057276 0.1764373  0.61584821 0.77374222\n",
      "  0.66517915 0.7033315  0.44478736 0.80634042 0.67251361 0.75404029\n",
      "  0.64129896 0.64943157 0.58337033 0.57815829 0.75412203 0.47757028\n",
      "  0.47295937 0.89999162 0.98413633 0.94073147 0.71719477 0.96659961\n",
      "  1.13050675 0.82019504 0.69488405 0.52940321 0.78870333 0.90827033\n",
      "  0.94540788 0.72356527 0.50561754 0.45627407 0.85180667 0.63197866\n",
      "  0.78855237 0.86459135 0.93184555 0.63751414 0.95001032 1.14410028\n",
      "  0.71751811 0.5160495  0.7155145  0.11374721 1.05461893 0.95216111\n",
      "  0.86536928 0.97090355 0.57637348 1.10782552 0.82051166 0.22063666\n",
      "  0.7365608  0.36055405 0.85199041 0.91657763 0.66450278 0.72314664\n",
      "  0.0382038  0.3519562  0.24251818 0.46878215 0.58995277 0.86659439\n",
      "  1.0458579  0.33624864 0.29019445 0.72462899 0.38073351 0.34250413\n",
      "  1.05618978 1.01621704 0.51613107 1.20356907 0.54639682 0.59232485\n",
      "  0.21434321 0.         0.88792215 0.90013645 0.19697823 0.42060504\n",
      "  1.03444054 0.29048703 0.19171988 0.35547558 0.60417593 0.84287141\n",
      "  0.93675306 1.05447146 0.66323596 0.52539336 0.80488073 0.79813437\n",
      "  0.9758584  0.56254137 0.09685919 0.29121834]\n",
      " [0.17289462 0.1135446  0.25544198 0.72472496 0.38372936 0.38449528\n",
      "  0.64179913 0.28799322 0.52436139 0.18407812 0.41923221 0.54697993\n",
      "  0.44728063 0.24356586 0.66353463 0.32030935 0.13550453 0.5607142\n",
      "  0.76498972 0.37864816 0.10004414 0.05443458 0.19092583 0.08426635\n",
      "  0.28545031 0.19876629 0.19515228 0.38299542 0.31045188 0.03186269\n",
      "  0.52017921 0.44678131 0.53516725 0.59554513 0.19950996 0.59427082\n",
      "  0.7323692  0.71007417 0.4061991  0.40053387 0.65525618 0.27497851\n",
      "  0.26142697 0.52762436 0.39651771 0.81274637 0.26533305 0.65415777\n",
      "  0.60198456 0.54455229 0.43857188 0.32407107 0.46936266 0.94195755\n",
      "  0.21640463 0.56388117 0.23607551 0.05353958 0.64673561 0.41276251\n",
      "  0.85629067 0.58019062 0.97867926 0.45636503 0.5696073  0.62265897\n",
      "  0.15888801 0.65280092 0.92367393 0.42327008 0.55606534 0.55012909\n",
      "  0.17377445 0.40616227 0.37345718 0.32942988 0.73133072 0.56644802\n",
      "  1.04020694 0.88792215 0.         0.45623203 0.70636176 0.54790438\n",
      "  0.30306994 0.92841956 0.72588657 0.71538167 0.54323431 0.83019948\n",
      "  0.11742172 0.17012128 0.39649822 0.47301582 0.72958105 0.2249752\n",
      "  0.43729018 0.34949497 0.89330791 0.5997468 ]\n",
      " [0.32188625 0.34286207 0.20179897 0.79724    0.3048158  0.78287364\n",
      "  0.97784899 0.64774567 0.45725814 0.60055905 0.23043139 0.18824818\n",
      "  0.25912869 0.42378916 0.39541862 0.43202978 0.42526303 0.81061441\n",
      "  0.54386358 0.08030713 0.46111527 0.4839813  0.52538335 0.45132373\n",
      "  0.43304963 0.62277603 0.42793652 0.4307362  0.17640425 0.4851604\n",
      "  0.06882267 0.17670318 0.79919747 0.83642687 0.25739954 0.92129862\n",
      "  0.33805819 0.28169361 0.07001292 0.27276078 0.20036418 0.48551776\n",
      "  0.28116655 0.79716321 0.19163587 0.79157974 0.33143636 0.19900251\n",
      "  0.16641928 0.09781246 0.73451327 0.34381323 0.08520848 0.84194983\n",
      "  0.58729013 0.7224473  0.22086618 0.41951666 0.98200186 0.78849898\n",
      "  0.86202299 0.55203351 0.87088951 0.4574741  0.333458   0.18759583\n",
      "  0.53219877 0.56869893 0.78727278 0.17658038 0.52422134 0.59682467\n",
      "  0.48104748 0.1549159  0.54158013 0.53335426 0.47213951 0.33008749\n",
      "  0.96440344 0.90013645 0.45623203 0.         0.70649474 0.48027467\n",
      "  0.26568565 0.79194876 0.81614987 0.581597   0.31055664 0.42093733\n",
      "  0.3655143  0.4882004  0.74201443 0.37758413 0.32753322 0.25006163\n",
      "  0.08979523 0.59152311 0.85662237 0.64154412]\n",
      " [0.76333478 0.6729386  0.65407083 0.13000265 0.41890352 0.65190942\n",
      "  0.61320688 0.55690967 0.24946803 0.64641891 0.47743436 0.56941348\n",
      "  0.44737171 0.46392386 0.42007549 0.3895772  0.57106436 0.39646223\n",
      "  0.34377162 0.7036994  0.79982733 0.76018392 0.54771141 0.78209575\n",
      "  0.9383893  0.66322666 0.51136263 0.33621158 0.59172515 0.72902259\n",
      "  0.75436266 0.53054333 0.41672145 0.38891163 0.65687882 0.56740685\n",
      "  0.62835001 0.69597361 0.73598992 0.44115151 0.76995561 0.95470243\n",
      "  0.52199812 0.42522926 0.51986619 0.10642838 0.85997569 0.77188643\n",
      "  0.68348283 0.7807046  0.4591472  0.9123524  0.62859525 0.26104759\n",
      "  0.57713657 0.24666292 0.65590891 0.73091393 0.61403484 0.60777338\n",
      "  0.16002155 0.15547762 0.29788291 0.27268396 0.40873034 0.68686828\n",
      "  0.86521718 0.15877186 0.28194412 0.53025282 0.18411219 0.15653033\n",
      "  0.87052929 0.81961815 0.343941   1.01456904 0.40156062 0.41064033\n",
      "  0.33786259 0.19697823 0.70636176 0.70649474 0.         0.22625958\n",
      "  0.83814745 0.28530252 0.16141084 0.20981839 0.4192827  0.69583787\n",
      "  0.7466355  0.86947465 0.54153344 0.3298572  0.64310407 0.60265366\n",
      "  0.78041251 0.40550983 0.18719469 0.10958789]\n",
      " [0.56822224 0.48896892 0.44329633 0.32720997 0.20234056 0.61708671\n",
      "  0.67632881 0.48981965 0.02607778 0.54266124 0.25191264 0.34973153\n",
      "  0.22114711 0.31152622 0.24488093 0.23613581 0.41635961 0.45977102\n",
      "  0.25419869 0.48021541 0.63048885 0.60206855 0.43184604 0.61278589\n",
      "  0.74355528 0.56419253 0.36042033 0.16924812 0.37442474 0.5755446\n",
      "  0.52854547 0.30430844 0.46566027 0.47000909 0.45559252 0.62126466\n",
      "  0.44074348 0.4940997  0.5114754  0.21869592 0.55302868 0.76792455\n",
      "  0.32117944 0.46981383 0.29512614 0.31502076 0.65688239 0.55471025\n",
      "  0.46547443 0.55523397 0.4588247  0.70512709 0.40256987 0.40373395\n",
      "  0.48110331 0.31868817 0.44817577 0.56010914 0.67876359 0.58788885\n",
      "  0.38265846 0.07407314 0.43892088 0.09769315 0.19935897 0.47124518\n",
      "  0.70331389 0.10756202 0.37671512 0.30421147 0.05058072 0.15096974\n",
      "  0.69567677 0.59707493 0.25978088 0.82807099 0.26566002 0.20027234\n",
      "  0.51480438 0.42060504 0.54790438 0.48027467 0.22625958 0.\n",
      "  0.62708715 0.38151454 0.35107628 0.1689554  0.20277626 0.52389509\n",
      "  0.56179894 0.69641232 0.52019507 0.10538529 0.45253005 0.39964736\n",
      "  0.55527755 0.34286106 0.38639701 0.17862085]\n",
      " [0.13052425 0.22262604 0.18434272 0.8976593  0.42474722 0.68548562\n",
      "  0.9310611  0.57500228 0.60107639 0.48499415 0.39568223 0.43734757\n",
      "  0.43256205 0.42245891 0.62595026 0.47351882 0.35731288 0.81455615\n",
      "  0.76449819 0.1966537  0.25497765 0.30208275 0.45736754 0.25374544\n",
      "  0.16788654 0.50129688 0.3961414  0.50857121 0.25505581 0.32039562\n",
      "  0.30337648 0.37673082 0.79420691 0.84675179 0.18894927 0.87976239\n",
      "  0.60278013 0.54634887 0.19571239 0.41304833 0.44877834 0.22281027\n",
      "  0.31788415 0.78875658 0.35226899 0.93755332 0.06979495 0.44660064\n",
      "  0.43154241 0.31624678 0.70710929 0.08345132 0.32989273 1.02512229\n",
      "  0.50343806 0.77353718 0.1826303  0.25056807 0.93583825 0.70917162\n",
      "  0.99807113 0.68646285 1.0582273  0.56566231 0.54490957 0.45244592\n",
      "  0.30669718 0.73154352 0.98387758 0.36083272 0.65780767 0.69746265\n",
      "  0.24385337 0.13526022 0.57112273 0.26789598 0.70369927 0.54124775\n",
      "  1.14069768 1.03444054 0.30306994 0.26568565 0.83814745 0.62708715\n",
      "  0.         0.98873411 0.9083589  0.76793845 0.51752183 0.68653671\n",
      "  0.18565616 0.25279056 0.68294661 0.52436806 0.59287689 0.23809424\n",
      "  0.19618695 0.58555214 1.01229843 0.74831632]\n",
      " [0.94448329 0.86954689 0.80981083 0.38555274 0.57267482 0.93203138\n",
      "  0.8942363  0.82702605 0.40619312 0.90323089 0.59374115 0.61411915\n",
      "  0.55705174 0.68824793 0.40837759 0.61114873 0.79525101 0.68062232\n",
      "  0.2618305  0.8173615  1.01200298 0.98274268 0.79662401 0.99430018\n",
      "  1.11824608 0.92251687 0.73760563 0.54606782 0.73408623 0.95533809\n",
      "  0.81927643 0.62441753 0.70173836 0.67073657 0.83001248 0.85055942\n",
      "  0.5850595  0.67297858 0.84153698 0.57723916 0.78222213 1.14615084\n",
      "  0.69858335 0.71038208 0.637999   0.22130629 1.02669745 0.78490917\n",
      "  0.70793685 0.8392433  0.74247507 1.07014798 0.70677284 0.07942315\n",
      "  0.83638188 0.53196256 0.8177413  0.94162367 0.89472523 0.89008828\n",
      "  0.27061796 0.3530949  0.08840178 0.47244653 0.4586067  0.70256042\n",
      "  1.08462046 0.27561996 0.0048732  0.6347744  0.37420735 0.41435444\n",
      "  1.07683261 0.9333932  0.60007432 1.20608834 0.34373626 0.46202953\n",
      "  0.19361929 0.29048703 0.92841956 0.79194876 0.28530252 0.38151454\n",
      "  0.98873411 0.         0.41569137 0.22147583 0.48265448 0.61438985\n",
      "  0.94177824 1.07772804 0.8228932  0.47148123 0.6032117  0.77409304\n",
      "  0.87875105 0.6729244  0.1936637  0.38161381]\n",
      " [0.81558986 0.71748334 0.72928388 0.0320116  0.51379551 0.58243048\n",
      "  0.48545503 0.51807483 0.3685393  0.62634052 0.58642779 0.70053943\n",
      "  0.56193419 0.49865499 0.57225331 0.43614498 0.59656229 0.28721036\n",
      "  0.50500162 0.80024541 0.82473699 0.7766999  0.54536032 0.80770475\n",
      "  0.98521762 0.63840882 0.53949198 0.40221419 0.67876877 0.74307055\n",
      "  0.87074326 0.64567165 0.31451349 0.2683931  0.72028236 0.4473826\n",
      "  0.779251   0.84115268 0.83518019 0.54354541 0.90404532 0.99209954\n",
      "  0.59221126 0.32482427 0.62471226 0.19531882 0.91878244 0.90570029\n",
      "  0.81642517 0.89871052 0.385324   0.97542383 0.74475264 0.36796439\n",
      "  0.55719217 0.17328901 0.72707948 0.76018183 0.48537771 0.5315182\n",
      "  0.17718544 0.27766326 0.39979336 0.35949137 0.54786154 0.82231394\n",
      "  0.88082072 0.31233215 0.41342299 0.64075117 0.30120883 0.21961183\n",
      "  0.89812541 0.91151217 0.35362259 1.05024818 0.56032859 0.54920217\n",
      "  0.39955839 0.19171988 0.72588657 0.81614987 0.16141084 0.35107628\n",
      "  0.9083589  0.41569137 0.         0.3707995  0.55359938 0.8515608\n",
      "  0.78867963 0.8953698  0.47225898 0.44262488 0.79303752 0.67054231\n",
      "  0.88135807 0.38552571 0.25316066 0.17553586]\n",
      " [0.72349527 0.65073246 0.58839282 0.33970244 0.35155755 0.76890238\n",
      "  0.78856638 0.64877837 0.19123225 0.70935001 0.37400968 0.41422202\n",
      "  0.33764172 0.4804771  0.22843472 0.40495156 0.58489841 0.56710202\n",
      "  0.13437654 0.60058236 0.79537413 0.76931998 0.59921767 0.77780204\n",
      "  0.89691674 0.73037126 0.52932602 0.33814345 0.51304127 0.74351029\n",
      "  0.61588502 0.40914903 0.58039444 0.5682027  0.60883103 0.73732038\n",
      "  0.43318777 0.50971165 0.6266663  0.35584785 0.60107458 0.92553501\n",
      "  0.47834204 0.58678964 0.4185839  0.24224642 0.80523849 0.60342126\n",
      "  0.5193267  0.63846271 0.59515885 0.84903876 0.49720817 0.26101633\n",
      "  0.64608851 0.41402609 0.59626627 0.72516193 0.79020093 0.73437454\n",
      "  0.3191184  0.16760658 0.29185713 0.2657241  0.25075787 0.51812846\n",
      "  0.8694221  0.08106216 0.21660308 0.41749135 0.17803816 0.25529423\n",
      "  0.85855489 0.71754739 0.41654966 0.98536406 0.19474111 0.25380687\n",
      "  0.38280789 0.35547558 0.71538167 0.581597   0.20981839 0.1689554\n",
      "  0.76793845 0.22147583 0.3707995  0.         0.27137728 0.49186373\n",
      "  0.72229101 0.8598341  0.66593455 0.25068531 0.44942417 0.55298619\n",
      "  0.66595853 0.49698623 0.28774078 0.24708482]\n",
      " [0.49980131 0.45108953 0.3516039  0.52899724 0.16792905 0.72900231\n",
      "  0.84216396 0.58962058 0.18828392 0.60335196 0.1300356  0.15028004\n",
      "  0.09685321 0.36011111 0.1205856  0.3105006  0.43666328 0.63652514\n",
      "  0.24704807 0.33614605 0.60141421 0.5920905  0.49567277 0.58534423\n",
      "  0.66319824 0.62716063 0.39779623 0.26145756 0.27182173 0.57470659\n",
      "  0.34547928 0.14303543 0.63638092 0.65242489 0.38690405 0.78511445\n",
      "  0.25381577 0.294451   0.35901499 0.14325889 0.35144279 0.70094094\n",
      "  0.28184563 0.6384086  0.16802803 0.49212981 0.56461705 0.35325649\n",
      "  0.26442294 0.36917604 0.60663137 0.60071769 0.22589351 0.53139992\n",
      "  0.55697404 0.50887634 0.36434054 0.53565032 0.84524849 0.71239022\n",
      "  0.56604639 0.27595685 0.5604544  0.23494383 0.02804171 0.26898963\n",
      "  0.67946697 0.26794381 0.47792161 0.15674804 0.25318252 0.34896465\n",
      "  0.65290922 0.4511376  0.39068773 0.75860278 0.19305572 0.02445527\n",
      "  0.65405846 0.60417593 0.54323431 0.31055664 0.4192827  0.20277626\n",
      "  0.51752183 0.48265448 0.55359938 0.27137728 0.         0.34750814\n",
      "  0.51363528 0.65640602 0.6495314  0.13501139 0.2622293  0.33607701\n",
      "  0.39626405 0.46889731 0.55163434 0.38117709]\n",
      " [0.73016922 0.72130714 0.58667943 0.82235884 0.50162882 1.07084304\n",
      "  1.18830714 0.93011463 0.51848719 0.92804831 0.42931046 0.28343527\n",
      "  0.41566846 0.69379537 0.28140581 0.65409198 0.75084451 0.97871268\n",
      "  0.37070285 0.4953308  0.86086424 0.87006107 0.82666098 0.84807586\n",
      "  0.85398249 0.95202531 0.72401332 0.60871044 0.52038104 0.86179651\n",
      "  0.39215346 0.38635469 0.98071032 0.99187082 0.63902127 1.13151231\n",
      "  0.0995642  0.14266653 0.49083699 0.46730073 0.26624118 0.90592486\n",
      "  0.58350212 0.98333822 0.43877038 0.73173227 0.75217433 0.26929814\n",
      "  0.25523651 0.39094386 0.95411764 0.76316116 0.37026268 0.68893453\n",
      "  0.89019858 0.84241333 0.60522305 0.80667974 1.19126447 1.05740083\n",
      "  0.80807585 0.58682374 0.70263926 0.57907706 0.33614951 0.23473001\n",
      "  0.93676075 0.53932744 0.61114361 0.40982806 0.57216477 0.67451211\n",
      "  0.89264014 0.56604126 0.73819492 0.95429036 0.29736037 0.33685564\n",
      "  0.80794546 0.84287141 0.83019948 0.42093733 0.69583787 0.52389509\n",
      "  0.68653671 0.61438985 0.8515608  0.49186373 0.34750814 0.\n",
      "  0.76446868 0.89884346 0.99575687 0.4813877  0.10062298 0.60527\n",
      "  0.49751486 0.81590389 0.76327522 0.69474303]\n",
      " [0.05594244 0.073801   0.17796011 0.7832786  0.37295015 0.50093803\n",
      "  0.75290555 0.39671159 0.53640194 0.30027485 0.38383413 0.48632666\n",
      "  0.41728486 0.29017026 0.6332717  0.35860313 0.19798127 0.65470327\n",
      "  0.75147998 0.28536028 0.09670364 0.12351479 0.28612526 0.08581714\n",
      "  0.19673333 0.31591696 0.25047107 0.41119214 0.25089325 0.13614704\n",
      "  0.42448332 0.39530029 0.63145715 0.68854117 0.1291382  0.70350208\n",
      "  0.66991816 0.6354585  0.30743335 0.37865597 0.565753   0.20818006\n",
      "  0.24440931 0.62486929 0.35116363 0.85151059 0.15198398 0.56429917\n",
      "  0.52269808 0.44628123 0.5387851  0.21226711 0.39499131 0.96481233\n",
      "  0.32450972 0.63702627 0.15990029 0.06528496 0.75777597 0.52692944\n",
      "  0.90278593 0.60679934 1.00043358 0.4803346  0.54141729 0.54398609\n",
      "  0.17256818 0.66931088 0.93693144 0.37302644 0.58003612 0.59429603\n",
      "  0.13942719 0.29421162 0.43673067 0.26823079 0.70652478 0.5379456\n",
      "  1.07112942 0.93675306 0.11742172 0.3655143  0.7466355  0.56179894\n",
      "  0.18565616 0.94177824 0.78867963 0.72229101 0.51363528 0.76446868\n",
      "  0.         0.14277767 0.50553789 0.47200636 0.66458827 0.177605\n",
      "  0.33258449 0.43180556 0.93053661 0.64553524]\n",
      " [0.16867594 0.20976453 0.31625857 0.89349037 0.51321002 0.5148739\n",
      "  0.78654031 0.44381135 0.67154165 0.32680817 0.52660964 0.62461639\n",
      "  0.56000661 0.40576529 0.77603566 0.48018785 0.30047288 0.72594439\n",
      "  0.89341284 0.40856725 0.07064714 0.12427649 0.35943397 0.08793366\n",
      "  0.14622912 0.33306443 0.35958782 0.53863785 0.39214449 0.15872059\n",
      "  0.5401035  0.53660936 0.69919746 0.76111961 0.27108727 0.74341783\n",
      "  0.80626322 0.76589006 0.42349526 0.52068722 0.68522064 0.11345809\n",
      "  0.3844409  0.69107892 0.49353202 0.97549811 0.18734596 0.68343005\n",
      "  0.65134967 0.55799259 0.60065972 0.22726422 0.5286219  1.09710061\n",
      "  0.37556681 0.73400245 0.29941159 0.13860824 0.79157254 0.5530028\n",
      "  1.02204157 0.73636097 1.133254   0.61035287 0.68417593 0.67277424\n",
      "  0.05721232 0.80341705 1.07290776 0.51468479 0.71067088 0.71422828\n",
      "  0.00963038 0.38546509 0.54222923 0.16163154 0.84926701 0.68070848\n",
      "  1.1997935  1.05447146 0.17012128 0.4882004  0.86947465 0.69641232\n",
      "  0.25279056 1.07772804 0.8953698  0.8598341  0.65640602 0.89884346\n",
      "  0.14277767 0.         0.54906824 0.61071928 0.79988154 0.32034779\n",
      "  0.43845623 0.51933936 1.05556774 0.76463318]\n",
      " [0.55547649 0.46090243 0.56188992 0.48754426 0.49824929 0.11122836\n",
      "  0.24811472 0.10887665 0.51115491 0.22258979 0.58030092 0.73826594\n",
      "  0.58453569 0.32131129 0.74369687 0.3427514  0.33182758 0.20794036\n",
      "  0.77352411 0.68336406 0.48754825 0.42743308 0.22750395 0.47560719\n",
      "  0.68044366 0.22009536 0.31474438 0.38857688 0.56561048 0.39489448\n",
      "  0.81067732 0.6385221  0.17655238 0.24167831 0.51909238 0.19804323\n",
      "  0.89893955 0.91644793 0.71936271 0.53538061 0.91295192 0.66184812\n",
      "  0.46202187 0.16598643 0.58966878 0.63418696 0.65750553 0.91305344\n",
      "  0.83574097 0.83982131 0.08693937 0.71760406 0.71203128 0.8021185\n",
      "  0.18108521 0.30485677 0.54770673 0.44842781 0.25289389 0.06844471\n",
      "  0.64380186 0.49836628 0.83853569 0.43354408 0.66486805 0.85188742\n",
      "  0.51177567 0.58512474 0.81907768 0.6190648  0.49156645 0.41486109\n",
      "  0.55565712 0.75522348 0.26401404 0.70934851 0.78186692 0.66343046\n",
      "  0.86247889 0.66323596 0.39649822 0.74201443 0.54153344 0.52019507\n",
      "  0.68294661 0.8228932  0.47225898 0.66593455 0.6495314  0.99575687\n",
      "  0.50553789 0.54906824 0.         0.52017819 0.90426642 0.50013193\n",
      "  0.76209932 0.18169742 0.70911899 0.44148257]\n",
      " [0.47300251 0.40110325 0.34162118 0.42170871 0.10140277 0.60523345\n",
      "  0.7073322  0.46863729 0.08060831 0.49860354 0.14765573 0.26444014\n",
      "  0.1196364  0.25483924 0.22503121 0.19107633 0.3492419  0.5018763\n",
      "  0.29411233 0.37490396 0.54773483 0.52592671 0.38756258 0.5303755\n",
      "  0.64701007 0.52169019 0.2997727  0.13250061 0.27034796 0.50264107\n",
      "  0.42891854 0.20359182 0.5013904  0.51852295 0.35862274 0.65036423\n",
      "  0.38875962 0.42623382 0.40645271 0.11346192 0.46742248 0.67486496\n",
      "  0.22776405 0.50339734 0.19013138 0.42040575 0.55722959 0.46877563\n",
      "  0.37984395 0.45649507 0.4732816  0.6035892  0.30269419 0.50175714\n",
      "  0.44477812 0.37810311 0.34792838 0.47799349 0.7103824  0.58471924\n",
      "  0.48756179 0.17468656 0.53572418 0.10064046 0.14582086 0.38862755\n",
      "  0.62319516 0.20718489 0.46661272 0.20100838 0.14665914 0.22697828\n",
      "  0.60909316 0.49169625 0.2581645  0.73472375 0.27468566 0.14479584\n",
      "  0.61632968 0.52539336 0.47301582 0.37758413 0.3298572  0.10538529\n",
      "  0.52436806 0.47148123 0.44262488 0.25068531 0.13501139 0.4813877\n",
      "  0.47200636 0.61071928 0.52017819 0.         0.3972139  0.30265354\n",
      "  0.45060598 0.33857048 0.49131565 0.26708908]\n",
      " [0.63127521 0.62074654 0.48668312 0.76532382 0.40724008 0.97613391\n",
      "  1.10387801 0.83511232 0.44354063 0.82938583 0.33169179 0.18294065\n",
      "  0.32076255 0.59759669 0.2233898  0.56162955 0.65149292 0.89860173\n",
      "  0.34481073 0.39917631 0.76085423 0.76950663 0.72931029 0.74790737\n",
      "  0.75950939 0.85333664 0.6262133  0.52005581 0.41978622 0.76117446\n",
      "  0.30691476 0.28640034 0.89860285 0.9139007  0.53868606 1.04669695\n",
      "  0.01845302 0.07388884 0.39750137 0.37170477 0.20150843 0.81024583\n",
      "  0.48395641 0.9005764  0.33899194 0.69162856 0.65718547 0.20461066\n",
      "  0.16609619 0.3105876  0.8664279  0.67127692 0.27140099 0.6726317\n",
      "  0.79313268 0.76794312 0.50511078 0.70619969 1.10702796 0.96462961\n",
      "  0.76850144 0.52033667 0.69121538 0.49706172 0.25598312 0.14775296\n",
      "  0.83701456 0.48437596 0.59941294 0.30978972 0.50244099 0.60323638\n",
      "  0.79384227 0.47719007 0.65036671 0.85992117 0.26378811 0.25593966\n",
      "  0.7954955  0.80488073 0.72958105 0.32753322 0.64310407 0.45253005\n",
      "  0.59287689 0.6032117  0.79303752 0.44942417 0.2622293  0.10062298\n",
      "  0.66458827 0.79988154 0.90426642 0.3972139  0.         0.5046474\n",
      "  0.40853979 0.72596077 0.73250034 0.62868077]\n",
      " [0.17057582 0.11834169 0.06477338 0.65957564 0.20143771 0.53380759\n",
      "  0.74264549 0.40115386 0.37363908 0.3510043  0.20644481 0.32222062\n",
      "  0.23968101 0.19737173 0.45591688 0.23748067 0.17553645 0.59745704\n",
      "  0.57479515 0.18391659 0.26685446 0.26616512 0.27760878 0.2515467\n",
      "  0.34448338 0.37355515 0.18665633 0.27059976 0.08592989 0.25652893\n",
      "  0.31836886 0.2238529  0.58087136 0.62738217 0.0560424  0.68753592\n",
      "  0.50766602 0.48623324 0.21937955 0.20241013 0.44128328 0.3731586\n",
      "  0.08065668 0.57698148 0.17610279 0.70394659 0.25815143 0.44057513\n",
      "  0.38074197 0.34616192 0.5041297  0.30972776 0.24726776 0.80282041\n",
      "  0.33820003 0.54046306 0.05721269 0.20470798 0.74706453 0.54220453\n",
      "  0.76219074 0.45360971 0.83741827 0.33005048 0.36382927 0.40089737\n",
      "  0.34506301 0.50660195 0.76922289 0.20064745 0.4253884  0.45959592\n",
      "  0.31698621 0.26273088 0.34024797 0.43270733 0.52892306 0.36036475\n",
      "  0.91418288 0.79813437 0.2249752  0.25006163 0.60265366 0.39964736\n",
      "  0.23809424 0.77409304 0.67054231 0.55298619 0.33607701 0.60527\n",
      "  0.177605   0.32034779 0.50013193 0.30265354 0.5046474  0.\n",
      "  0.26207701 0.36865859 0.78037419 0.51059124]\n",
      " [0.28156476 0.32829025 0.20085406 0.86436488 0.36766819 0.79077843\n",
      "  1.0044771  0.66174356 0.53115668 0.59909237 0.30337631 0.27803159\n",
      "  0.33572516 0.45410408 0.48486029 0.47620821 0.43382278 0.8512465\n",
      "  0.63284507 0.08370975 0.42303026 0.45572506 0.53789915 0.41618861\n",
      "  0.3630711  0.61973999 0.44855793 0.48587706 0.21094238 0.46317008\n",
      "  0.10778864 0.25727393 0.83701286 0.8792345  0.24969133 0.94909972\n",
      "  0.42052616 0.35543089 0.04679473 0.34026642 0.25262301 0.41895667\n",
      "  0.31475995 0.83391844 0.26055406 0.86925117 0.2655198  0.25042622\n",
      "  0.24308072 0.12047606 0.76457822 0.26704165 0.17367241 0.92685065\n",
      "  0.59626996 0.77569074 0.21666544 0.39342937 1.00886261 0.80256522\n",
      "  0.93793487 0.62503675 0.9565186  0.52201885 0.42022502 0.26298507\n",
      "  0.48764722 0.64837727 0.87403883 0.25228643 0.59663903 0.6618702\n",
      "  0.43035472 0.06868149 0.58540732 0.46201215 0.56176734 0.41677159\n",
      "  1.04851048 0.9758584  0.43729018 0.08979523 0.78041251 0.55527755\n",
      "  0.19618695 0.87875105 0.88135807 0.66595853 0.39626405 0.49751486\n",
      "  0.33258449 0.43845623 0.76209932 0.45060598 0.40853979 0.26207701\n",
      "  0.         0.62566808 0.9366059  0.70875978]\n",
      " [0.47063697 0.36892489 0.43340346 0.3897677  0.32337931 0.27422844\n",
      "  0.3893129  0.15416631 0.33183307 0.24399666 0.40817337 0.565061\n",
      "  0.40850845 0.17183917 0.5620323  0.16811665 0.23410247 0.22975569\n",
      "  0.59705598 0.5430907  0.44953908 0.39702646 0.16156073 0.43349046\n",
      "  0.62581846 0.25898882 0.18943851 0.20748517 0.41801586 0.36267778\n",
      "  0.65878896 0.46906256 0.21221308 0.26127567 0.40237019 0.33200456\n",
      "  0.71991629 0.7419422  0.58023664 0.36140514 0.74853291 0.62315124\n",
      "  0.31214129 0.20849523 0.42327267 0.50808046 0.57729532 0.74892701\n",
      "  0.6677697  0.68848462 0.14499341 0.63745003 0.55041285 0.66383305\n",
      "  0.17415801 0.21660283 0.42324114 0.39077631 0.39317877 0.24735839\n",
      "  0.53560508 0.33058569 0.70113973 0.25290951 0.48356486 0.68259067\n",
      "  0.49913841 0.41766826 0.66872822 0.45143569 0.31941515 0.25868054\n",
      "  0.52325116 0.6313875  0.08340153 0.67874678 0.60148823 0.482202\n",
      "  0.74140137 0.56254137 0.34949497 0.59152311 0.40550983 0.34286106\n",
      "  0.58555214 0.6729244  0.38552571 0.49698623 0.46889731 0.81590389\n",
      "  0.43180556 0.51933936 0.18169742 0.33857048 0.72596077 0.36865859\n",
      "  0.62566808 0.         0.58784034 0.29698382]\n",
      " [0.94462638 0.85673849 0.82803837 0.22864184 0.58810571 0.82034728\n",
      "  0.73811646 0.73617653 0.41212328 0.8307057  0.63468785 0.69895247\n",
      "  0.60104579 0.65046692 0.51511995 0.57538185 0.75791613 0.53800287\n",
      "  0.39271519 0.86453691 0.9861793  0.94721377 0.73401549 0.96841525\n",
      "  1.12022353 0.8466851  0.6982137  0.51934479 0.76074906 0.916164\n",
      "  0.89678502 0.68037386 0.56364518 0.52114406 0.83556124 0.70052465\n",
      "  0.71550628 0.79561296 0.89430358 0.60477382 0.88875334 1.13871481\n",
      "  0.70008719 0.57351148 0.67895486 0.08085748 1.03851582 0.89108194\n",
      "  0.80643907 0.92080744 0.62350247 1.08893513 0.77430798 0.1251654\n",
      "  0.76107748 0.4046182  0.83161881 0.91696015 0.73789607 0.77250603\n",
      "  0.08230157 0.32676512 0.15092082 0.45175771 0.53415279 0.80571259\n",
      "  1.0521888  0.28824    0.19344562 0.68435226 0.35505903 0.34372448\n",
      "  1.05641033 0.98188453 0.53018709 1.19874995 0.47006739 0.53689365\n",
      "  0.15414979 0.09685919 0.89330791 0.85662237 0.18719469 0.38639701\n",
      "  1.01229843 0.1936637  0.25316066 0.28774078 0.55163434 0.76327522\n",
      "  0.93053661 1.05556774 0.70911899 0.49131565 0.73250034 0.78037419\n",
      "  0.9366059  0.58784034 0.         0.29593318]\n",
      " [0.66569213 0.57225003 0.56593215 0.15577825 0.34127915 0.5504177\n",
      "  0.54187828 0.44952772 0.19405397 0.53695586 0.41142313 0.52630495\n",
      "  0.38643562 0.35897012 0.41333873 0.28694699 0.46492949 0.32049843\n",
      "  0.37599808 0.62868875 0.69456775 0.65323723 0.43825488 0.67692534\n",
      "  0.83948391 0.55395705 0.40535715 0.24014906 0.50997828 0.62159781\n",
      "  0.69539715 0.47022507 0.33531168 0.32117088 0.56313074 0.49146225\n",
      "  0.61605675 0.6724239  0.66294974 0.36943821 0.73004155 0.85295653\n",
      "  0.43043487 0.34235845 0.45048027 0.21510278 0.76521257 0.73162135\n",
      "  0.64231287 0.72327292 0.36257531 0.81953184 0.56933148 0.36706984\n",
      "  0.46777557 0.16703253 0.565741   0.62636218 0.54341689 0.50898508\n",
      "  0.25762996 0.10839754 0.40431348 0.18736129 0.37774593 0.64889946\n",
      "  0.7583983  0.17039239 0.3777329  0.46569569 0.12806179 0.0514173\n",
      "  0.76606835 0.74182435 0.23443384 0.91249581 0.41539625 0.37876201\n",
      "  0.44741991 0.29121834 0.5997468  0.64154412 0.10958789 0.17862085\n",
      "  0.74831632 0.38161381 0.17553586 0.24708482 0.38117709 0.69474303\n",
      "  0.64553524 0.76463318 0.44148257 0.26708908 0.62868077 0.51059124\n",
      "  0.70875978 0.29698382 0.29593318 0.        ]]\n"
     ]
    }
   ],
   "source": [
    "#### 52. Consider a random vector with shape (100,2) representing coordinates, find point by point distances (★★☆)\n",
    "\n",
    "coordinates = np.random.random((100, 2))\n",
    "distances = np.linalg.norm(coordinates[:, np.newaxis, :] - coordinates, axis=2)\n",
    "print(distances)\n"
   ]
  },
  {
   "cell_type": "code",
   "execution_count": 68,
   "metadata": {},
   "outputs": [
    {
     "name": "stdout",
     "output_type": "stream",
     "text": [
      "[1061020589 1055712906 1060847237 1060482991 1037673659 1063058134\n",
      " 1062982014 1058774602 1027929492 1063290162]\n"
     ]
    }
   ],
   "source": [
    "#### 53. How to convert a float (32 bits) array into an integer (32 bits) in place?\n",
    "\n",
    "float_array = np.random.random(10).astype(np.float32)\n",
    "integer_array = float_array.view(np.int32)\n",
    "print(integer_array)"
   ]
  },
  {
   "cell_type": "code",
   "execution_count": 72,
   "metadata": {},
   "outputs": [
    {
     "ename": "OSError",
     "evalue": "data.txt not found.",
     "output_type": "error",
     "traceback": [
      "\u001b[1;31m---------------------------------------------------------------------------\u001b[0m",
      "\u001b[1;31mOSError\u001b[0m                                   Traceback (most recent call last)",
      "\u001b[1;32m<ipython-input-72-f59df6c2cb6d>\u001b[0m in \u001b[0;36m<module>\u001b[1;34m\u001b[0m\n\u001b[0;32m      7\u001b[0m \u001b[1;33m\u001b[0m\u001b[0m\n\u001b[0;32m      8\u001b[0m \u001b[1;31m# Assuming the data is saved in a file named 'data.txt'\u001b[0m\u001b[1;33m\u001b[0m\u001b[1;33m\u001b[0m\u001b[1;33m\u001b[0m\u001b[0m\n\u001b[1;32m----> 9\u001b[1;33m \u001b[0mdata\u001b[0m \u001b[1;33m=\u001b[0m \u001b[0mnp\u001b[0m\u001b[1;33m.\u001b[0m\u001b[0mgenfromtxt\u001b[0m\u001b[1;33m(\u001b[0m\u001b[1;34m'data.txt'\u001b[0m\u001b[1;33m,\u001b[0m \u001b[0mdelimiter\u001b[0m\u001b[1;33m=\u001b[0m\u001b[1;34m','\u001b[0m\u001b[1;33m,\u001b[0m \u001b[0mfilling_values\u001b[0m\u001b[1;33m=\u001b[0m\u001b[0mnp\u001b[0m\u001b[1;33m.\u001b[0m\u001b[0mnan\u001b[0m\u001b[1;33m)\u001b[0m\u001b[1;33m\u001b[0m\u001b[1;33m\u001b[0m\u001b[0m\n\u001b[0m\u001b[0;32m     10\u001b[0m \u001b[0mprint\u001b[0m\u001b[1;33m(\u001b[0m\u001b[0mdata\u001b[0m\u001b[1;33m)\u001b[0m\u001b[1;33m\u001b[0m\u001b[1;33m\u001b[0m\u001b[0m\n\u001b[0;32m     11\u001b[0m \u001b[1;33m\u001b[0m\u001b[0m\n",
      "\u001b[1;32m~\\anaconda3\\lib\\site-packages\\numpy\\lib\\npyio.py\u001b[0m in \u001b[0;36mgenfromtxt\u001b[1;34m(fname, dtype, comments, delimiter, skip_header, skip_footer, converters, missing_values, filling_values, usecols, names, excludelist, deletechars, replace_space, autostrip, case_sensitive, defaultfmt, unpack, usemask, loose, invalid_raise, max_rows, encoding)\u001b[0m\n\u001b[0;32m   1770\u001b[0m             \u001b[0mfname\u001b[0m \u001b[1;33m=\u001b[0m \u001b[0mos_fspath\u001b[0m\u001b[1;33m(\u001b[0m\u001b[0mfname\u001b[0m\u001b[1;33m)\u001b[0m\u001b[1;33m\u001b[0m\u001b[1;33m\u001b[0m\u001b[0m\n\u001b[0;32m   1771\u001b[0m         \u001b[1;32mif\u001b[0m \u001b[0misinstance\u001b[0m\u001b[1;33m(\u001b[0m\u001b[0mfname\u001b[0m\u001b[1;33m,\u001b[0m \u001b[0mbasestring\u001b[0m\u001b[1;33m)\u001b[0m\u001b[1;33m:\u001b[0m\u001b[1;33m\u001b[0m\u001b[1;33m\u001b[0m\u001b[0m\n\u001b[1;32m-> 1772\u001b[1;33m             \u001b[0mfid\u001b[0m \u001b[1;33m=\u001b[0m \u001b[0mnp\u001b[0m\u001b[1;33m.\u001b[0m\u001b[0mlib\u001b[0m\u001b[1;33m.\u001b[0m\u001b[0m_datasource\u001b[0m\u001b[1;33m.\u001b[0m\u001b[0mopen\u001b[0m\u001b[1;33m(\u001b[0m\u001b[0mfname\u001b[0m\u001b[1;33m,\u001b[0m \u001b[1;34m'rt'\u001b[0m\u001b[1;33m,\u001b[0m \u001b[0mencoding\u001b[0m\u001b[1;33m=\u001b[0m\u001b[0mencoding\u001b[0m\u001b[1;33m)\u001b[0m\u001b[1;33m\u001b[0m\u001b[1;33m\u001b[0m\u001b[0m\n\u001b[0m\u001b[0;32m   1773\u001b[0m             \u001b[0mfid_ctx\u001b[0m \u001b[1;33m=\u001b[0m \u001b[0mcontextlib\u001b[0m\u001b[1;33m.\u001b[0m\u001b[0mclosing\u001b[0m\u001b[1;33m(\u001b[0m\u001b[0mfid\u001b[0m\u001b[1;33m)\u001b[0m\u001b[1;33m\u001b[0m\u001b[1;33m\u001b[0m\u001b[0m\n\u001b[0;32m   1774\u001b[0m         \u001b[1;32melse\u001b[0m\u001b[1;33m:\u001b[0m\u001b[1;33m\u001b[0m\u001b[1;33m\u001b[0m\u001b[0m\n",
      "\u001b[1;32m~\\anaconda3\\lib\\site-packages\\numpy\\lib\\_datasource.py\u001b[0m in \u001b[0;36mopen\u001b[1;34m(path, mode, destpath, encoding, newline)\u001b[0m\n\u001b[0;32m    267\u001b[0m \u001b[1;33m\u001b[0m\u001b[0m\n\u001b[0;32m    268\u001b[0m     \u001b[0mds\u001b[0m \u001b[1;33m=\u001b[0m \u001b[0mDataSource\u001b[0m\u001b[1;33m(\u001b[0m\u001b[0mdestpath\u001b[0m\u001b[1;33m)\u001b[0m\u001b[1;33m\u001b[0m\u001b[1;33m\u001b[0m\u001b[0m\n\u001b[1;32m--> 269\u001b[1;33m     \u001b[1;32mreturn\u001b[0m \u001b[0mds\u001b[0m\u001b[1;33m.\u001b[0m\u001b[0mopen\u001b[0m\u001b[1;33m(\u001b[0m\u001b[0mpath\u001b[0m\u001b[1;33m,\u001b[0m \u001b[0mmode\u001b[0m\u001b[1;33m,\u001b[0m \u001b[0mencoding\u001b[0m\u001b[1;33m=\u001b[0m\u001b[0mencoding\u001b[0m\u001b[1;33m,\u001b[0m \u001b[0mnewline\u001b[0m\u001b[1;33m=\u001b[0m\u001b[0mnewline\u001b[0m\u001b[1;33m)\u001b[0m\u001b[1;33m\u001b[0m\u001b[1;33m\u001b[0m\u001b[0m\n\u001b[0m\u001b[0;32m    270\u001b[0m \u001b[1;33m\u001b[0m\u001b[0m\n\u001b[0;32m    271\u001b[0m \u001b[1;33m\u001b[0m\u001b[0m\n",
      "\u001b[1;32m~\\anaconda3\\lib\\site-packages\\numpy\\lib\\_datasource.py\u001b[0m in \u001b[0;36mopen\u001b[1;34m(self, path, mode, encoding, newline)\u001b[0m\n\u001b[0;32m    621\u001b[0m                                       encoding=encoding, newline=newline)\n\u001b[0;32m    622\u001b[0m         \u001b[1;32melse\u001b[0m\u001b[1;33m:\u001b[0m\u001b[1;33m\u001b[0m\u001b[1;33m\u001b[0m\u001b[0m\n\u001b[1;32m--> 623\u001b[1;33m             \u001b[1;32mraise\u001b[0m \u001b[0mIOError\u001b[0m\u001b[1;33m(\u001b[0m\u001b[1;34m\"%s not found.\"\u001b[0m \u001b[1;33m%\u001b[0m \u001b[0mpath\u001b[0m\u001b[1;33m)\u001b[0m\u001b[1;33m\u001b[0m\u001b[1;33m\u001b[0m\u001b[0m\n\u001b[0m\u001b[0;32m    624\u001b[0m \u001b[1;33m\u001b[0m\u001b[0m\n\u001b[0;32m    625\u001b[0m \u001b[1;33m\u001b[0m\u001b[0m\n",
      "\u001b[1;31mOSError\u001b[0m: data.txt not found."
     ]
    }
   ],
   "source": [
    "\n",
    "#### 54. How to read the following file? (★★☆)\n",
    "\n",
    "# 1, 2, 3, 4, 5\n",
    "# 6,  ,  , 7, 8\n",
    "# ,  , 9,10,11 \n",
    "\n",
    "\n",
    "# Assuming the data is saved in a file named 'data.txt'\n",
    "data = np.genfromtxt('data.txt', delimiter=',', filling_values=np.nan)\n",
    "print(data)\n",
    "\n"
   ]
  },
  {
   "cell_type": "code",
   "execution_count": 73,
   "metadata": {},
   "outputs": [
    {
     "name": "stdout",
     "output_type": "stream",
     "text": [
      "(0,) a\n",
      "(1,) b\n",
      "(2,) c\n"
     ]
    }
   ],
   "source": [
    "\n",
    "#### 55. What is the equivalent of enumerate for numpy arrays? (★★☆)\n",
    "\n",
    "array = np.array(['a', 'b', 'c'])\n",
    "for index, value in np.ndenumerate(array):\n",
    "    print(index, value)\n"
   ]
  },
  {
   "cell_type": "code",
   "execution_count": 74,
   "metadata": {},
   "outputs": [
    {
     "name": "stdout",
     "output_type": "stream",
     "text": [
      "[[0.36787944 0.53526143 0.60653066 0.53526143 0.36787944]\n",
      " [0.53526143 0.77880078 0.8824969  0.77880078 0.53526143]\n",
      " [0.60653066 0.8824969  1.         0.8824969  0.60653066]\n",
      " [0.53526143 0.77880078 0.8824969  0.77880078 0.53526143]\n",
      " [0.36787944 0.53526143 0.60653066 0.53526143 0.36787944]]\n"
     ]
    }
   ],
   "source": [
    "#### 56. Generate a generic 2D Gaussian-like array (★★☆)\n",
    "\n",
    "x, y = np.meshgrid(np.linspace(-1, 1, 5), np.linspace(-1, 1, 5))\n",
    "d = np.sqrt(x*x + y*y)\n",
    "sigma, mu = 1.0, 0.0\n",
    "gaussian_array = np.exp(-( (d-mu)**2 / ( 2.0 * sigma**2 ) ) )\n",
    "print(gaussian_array)\n"
   ]
  },
  {
   "cell_type": "code",
   "execution_count": 75,
   "metadata": {},
   "outputs": [
    {
     "name": "stdout",
     "output_type": "stream",
     "text": [
      "[[0. 1. 0. 0. 1.]\n",
      " [0. 0. 0. 0. 0.]\n",
      " [0. 0. 0. 0. 0.]\n",
      " [0. 0. 0. 0. 0.]\n",
      " [1. 0. 0. 0. 0.]]\n"
     ]
    }
   ],
   "source": [
    "#### 57. How to randomly place p elements in a 2D array? (★★☆)\n",
    "\n",
    "p = 3\n",
    "array_2d = np.zeros((5, 5))\n",
    "np.put(array_2d, np.random.choice(range(5*5), p, replace=False), 1)\n",
    "print(array_2d)\n"
   ]
  },
  {
   "cell_type": "code",
   "execution_count": 76,
   "metadata": {},
   "outputs": [
    {
     "name": "stdout",
     "output_type": "stream",
     "text": [
      "[[-0.22909674  0.07484821  0.15424853]\n",
      " [ 0.16504008 -0.26858657  0.1035465 ]\n",
      " [ 0.12366033 -0.13046376  0.00680343]]\n"
     ]
    }
   ],
   "source": [
    "#### 58. Subtract the mean of each row of a matrix (★★☆)\n",
    "\n",
    "matrix = np.random.random((3, 3))\n",
    "mean_subtracted_matrix = matrix - matrix.mean(axis=1, keepdims=True)\n",
    "print(mean_subtracted_matrix)\n"
   ]
  },
  {
   "cell_type": "code",
   "execution_count": 77,
   "metadata": {},
   "outputs": [
    {
     "name": "stdout",
     "output_type": "stream",
     "text": [
      "[[0.97346465 0.31992578 0.9874473 ]\n",
      " [0.26533134 0.36649811 0.9654544 ]\n",
      " [0.35415872 0.42032119 0.81556897]]\n"
     ]
    }
   ],
   "source": [
    "#### 59. How to sort an array by the nth column? (★★☆)\n",
    "\n",
    "array_2d = np.random.random((3, 3))\n",
    "n = 1\n",
    "sorted_array = array_2d[array_2d[:, n].argsort()]\n",
    "print(sorted_array)\n"
   ]
  },
  {
   "cell_type": "code",
   "execution_count": 78,
   "metadata": {},
   "outputs": [
    {
     "name": "stdout",
     "output_type": "stream",
     "text": [
      "True\n"
     ]
    }
   ],
   "source": [
    "#### 60. How to tell if a given 2D array has null columns? (★★☆)\n",
    "\n",
    "array_2d = np.array([[1, 2, 0], [0, 0, 0], [3, 4, 0]])\n",
    "has_null_columns = np.any(np.all(array_2d == 0, axis=0))\n",
    "print(has_null_columns)\n"
   ]
  },
  {
   "cell_type": "code",
   "execution_count": 79,
   "metadata": {},
   "outputs": [
    {
     "name": "stdout",
     "output_type": "stream",
     "text": [
      "0.522468191843241\n"
     ]
    }
   ],
   "source": [
    "#### 61. Find the nearest value from a given value in an array (★★☆)\n",
    "\n",
    "array = np.random.random(10)\n",
    "given_value = 0.5\n",
    "nearest_value = array[np.abs(array - given_value).argmin()]\n",
    "print(nearest_value)\n"
   ]
  },
  {
   "cell_type": "code",
   "execution_count": 80,
   "metadata": {},
   "outputs": [
    {
     "name": "stdout",
     "output_type": "stream",
     "text": [
      "[[0 1 2]\n",
      " [1 2 3]\n",
      " [2 3 4]]\n"
     ]
    }
   ],
   "source": [
    "#### 62. Considering two arrays with shape (1,3) and (3,1), how to compute their sum using an iterator? (★★☆)\n",
    "\n",
    "array1 = np.arange(3).reshape(1, 3)\n",
    "array2 = np.arange(3).reshape(3, 1)\n",
    "iterator = np.nditer([array1, array2, None])\n",
    "for a, b, c in iterator:\n",
    "    c[...] = a + b\n",
    "print(iterator.operands[2])\n"
   ]
  },
  {
   "cell_type": "code",
   "execution_count": 81,
   "metadata": {},
   "outputs": [
    {
     "name": "stdout",
     "output_type": "stream",
     "text": [
      "[0 1 2 3 4]\n",
      "example_array\n"
     ]
    }
   ],
   "source": [
    "\n",
    "#### 63. Create an array class that has a name attribute (★★☆)\n",
    "\n",
    "class NamedArray(np.ndarray):\n",
    "    def __new__(cls, array, name=\"\"):\n",
    "        obj = np.asarray(array).view(cls)\n",
    "        obj.name = name\n",
    "        return obj\n",
    "\n",
    "named_array = NamedArray(np.arange(5), name=\"example_array\")\n",
    "print(named_array)\n",
    "print(named_array.name)"
   ]
  },
  {
   "cell_type": "code",
   "execution_count": 82,
   "metadata": {},
   "outputs": [
    {
     "name": "stdout",
     "output_type": "stream",
     "text": [
      "[1. 3. 2. 1. 1. 2. 1. 1. 2. 1.]\n"
     ]
    }
   ],
   "source": [
    "\n",
    "#### 64. Consider a given vector, how to add 1 to each element indexed by a second vector (be careful with repeated indices)? (★★★)\n",
    "\n",
    "vector = np.ones(10)\n",
    "indices = np.random.randint(0, len(vector), 5)\n",
    "np.add.at(vector, indices, 1)\n",
    "print(vector)\n"
   ]
  },
  {
   "cell_type": "code",
   "execution_count": 83,
   "metadata": {},
   "outputs": [
    {
     "name": "stdout",
     "output_type": "stream",
     "text": [
      "[0. 7. 0. 6. 5. 0. 0. 0. 0. 3.]\n"
     ]
    }
   ],
   "source": [
    "#### 65. How to accumulate elements of a vector (X) to an array (F) based on an index list (I)? (★★★)\n",
    "\n",
    "X = np.array([1, 2, 3, 4, 5, 6])\n",
    "I = np.array([1, 3, 9, 3, 4, 1])\n",
    "F = np.bincount(I, weights=X)\n",
    "print(F)"
   ]
  },
  {
   "cell_type": "code",
   "execution_count": 84,
   "metadata": {},
   "outputs": [
    {
     "name": "stdout",
     "output_type": "stream",
     "text": [
      "100\n"
     ]
    }
   ],
   "source": [
    "\n",
    "#### 66. Considering a (w,h,3) image of (dtype=ubyte), compute the number of unique colors (★★☆)\n",
    "\n",
    "image = np.random.randint(0, 256, (10, 10, 3), dtype=np.ubyte)\n",
    "unique_colors = len(np.unique(image.reshape(-1, 3), axis=0))\n",
    "print(unique_colors)"
   ]
  },
  {
   "cell_type": "code",
   "execution_count": 85,
   "metadata": {},
   "outputs": [
    {
     "name": "stdout",
     "output_type": "stream",
     "text": [
      "[[ 9.12347855  9.87012443 11.21831968]\n",
      " [ 7.40856586 10.0942098   8.95779242]]\n"
     ]
    }
   ],
   "source": [
    "#### 67. Considering a four dimensions array, how to get the sum over the last two axes at once? (★★★)\n",
    "\n",
    "four_dimensions_array = np.random.random((2, 3, 4, 5))\n",
    "sum_last_two_axes = np.sum(four_dimensions_array, axis=(-2, -1))\n",
    "print(sum_last_two_axes)"
   ]
  },
  {
   "cell_type": "code",
   "execution_count": 86,
   "metadata": {},
   "outputs": [
    {
     "name": "stdout",
     "output_type": "stream",
     "text": [
      "[0.63590823 0.51929897 0.3563862 ]\n"
     ]
    }
   ],
   "source": [
    "\n",
    "#### 68. Considering a one-dimensional vector D, how to compute means of subsets of D using a vector S of the same size describing subset indices? (★★★)\n",
    "\n",
    "D = np.random.random(10)\n",
    "S = np.random.randint(0, 3, 10)\n",
    "means = np.bincount(S, weights=D) / np.bincount(S)\n",
    "print(means)"
   ]
  },
  {
   "cell_type": "code",
   "execution_count": 87,
   "metadata": {},
   "outputs": [
    {
     "name": "stdout",
     "output_type": "stream",
     "text": [
      "[0.4814453  0.16660685 1.00032105]\n"
     ]
    }
   ],
   "source": [
    "#### 69. How to get the diagonal of a dot product? (★★★)\n",
    "\n",
    "A = np.random.random((3, 3))\n",
    "B = np.random.random((3, 3))\n",
    "dot_product_diagonal = np.diag(np.dot(A, B))\n",
    "print(dot_product_diagonal)\n"
   ]
  },
  {
   "cell_type": "code",
   "execution_count": 88,
   "metadata": {},
   "outputs": [
    {
     "name": "stdout",
     "output_type": "stream",
     "text": [
      "[1. 0. 0. 0. 2. 0. 0. 0. 3. 0. 0. 0. 4. 0. 0. 0. 5.]\n"
     ]
    }
   ],
   "source": [
    "#### 70. Consider the vector [1, 2, 3, 4, 5], how to build a new vector with 3 consecutive zeros interleaved between each value? (★★★)\n",
    "\n",
    "original_vector = np.array([1, 2, 3, 4, 5])\n",
    "new_vector = np.zeros(len(original_vector) + 3 * (len(original_vector) - 1))\n",
    "new_vector[::4] = original_vector\n",
    "print(new_vector)\n"
   ]
  },
  {
   "cell_type": "code",
   "execution_count": 89,
   "metadata": {},
   "outputs": [
    {
     "name": "stdout",
     "output_type": "stream",
     "text": [
      "[[[4.07795475e-01 4.18687309e-01 2.75068245e-01]\n",
      "  [1.43872908e-02 5.48526473e-02 9.47669904e-02]\n",
      "  [6.41010418e-01 1.97465263e-01 3.04528187e-01]\n",
      "  [2.24545441e-04 2.17991106e-04 1.14481770e-03]\n",
      "  [5.66188692e-02 2.42298634e-02 3.27661863e-02]]\n",
      "\n",
      " [[4.65121412e-01 1.36507955e-01 3.89387659e-02]\n",
      "  [3.23814658e-02 6.04476728e-02 3.32612917e-02]\n",
      "  [2.72996090e-02 1.34487617e-01 3.27636264e-02]\n",
      "  [3.00335668e-01 3.39583248e-01 1.94339930e-01]\n",
      "  [1.30757284e-02 7.39661152e-02 3.20113540e-03]]\n",
      "\n",
      " [[4.87591315e-01 4.43888526e-01 2.01049103e-01]\n",
      "  [2.72079314e-01 4.27007143e-01 3.82376213e-01]\n",
      "  [5.40521117e-01 4.14458739e-02 1.79466716e-01]\n",
      "  [3.99131378e-01 4.07761253e-01 5.96646504e-01]\n",
      "  [4.49344623e-02 9.28551967e-02 4.28399437e-01]]\n",
      "\n",
      " [[1.36244688e-01 4.11188077e-01 6.32115110e-02]\n",
      "  [1.96009852e-02 1.39165041e-02 1.61478040e-02]\n",
      "  [1.90296305e-02 9.64834560e-02 1.22826145e-01]\n",
      "  [2.04182612e-01 3.62739684e-01 5.02294988e-01]\n",
      "  [1.81502282e-01 5.44039161e-02 9.24552860e-02]]\n",
      "\n",
      " [[1.60992286e-01 2.46379542e-01 9.03543095e-02]\n",
      "  [3.87245523e-03 3.66968656e-01 2.68595197e-01]\n",
      "  [8.52516997e-01 9.26777754e-01 6.64374089e-01]\n",
      "  [7.71570143e-02 1.15082305e-01 1.71355087e-01]\n",
      "  [1.22374156e-01 1.88456992e-01 8.03890371e-01]]]\n"
     ]
    }
   ],
   "source": [
    "#### 71. Consider an array of dimension (5,5,3), how to multiply it by an array with dimensions (5,5)? (★★★)\n",
    "\n",
    "array_3d = np.random.random((5, 5, 3))\n",
    "array_2d = np.random.random((5, 5))\n",
    "result = array_3d * array_2d[:, :, np.newaxis]\n",
    "print(result)"
   ]
  },
  {
   "cell_type": "code",
   "execution_count": 90,
   "metadata": {},
   "outputs": [
    {
     "name": "stdout",
     "output_type": "stream",
     "text": [
      "[[0.51014704 0.17561896 0.39761551]\n",
      " [0.69972386 0.55850053 0.55444268]\n",
      " [0.84503549 0.74572203 0.77401391]]\n"
     ]
    }
   ],
   "source": [
    "#### 72. How to swap two rows of an array? (★★★)\n",
    "\n",
    "matrix = np.random.random((3, 3))\n",
    "matrix[[0, 1]] = matrix[[1, 0]]\n",
    "print(matrix)\n"
   ]
  },
  {
   "cell_type": "code",
   "execution_count": 91,
   "metadata": {},
   "outputs": [
    {
     "name": "stdout",
     "output_type": "stream",
     "text": [
      "[[ 9 85]\n",
      " [11 13]\n",
      " [11 19]\n",
      " [13 44]\n",
      " [19 35]\n",
      " [20 85]\n",
      " [35 11]\n",
      " [38 73]\n",
      " [44 11]\n",
      " [50 58]\n",
      " [51 70]\n",
      " [54  9]\n",
      " [54 73]\n",
      " [57 85]\n",
      " [58 54]\n",
      " [58 88]\n",
      " [61 57]\n",
      " [70 98]\n",
      " [73 58]\n",
      " [73 95]\n",
      " [81 97]\n",
      " [85 54]\n",
      " [85 61]\n",
      " [85 92]\n",
      " [88 50]\n",
      " [92 20]\n",
      " [95 38]\n",
      " [97 98]\n",
      " [98 51]\n",
      " [98 81]]\n"
     ]
    }
   ],
   "source": [
    "#### 73. Consider a set of 10 triplets describing 10 triangles (with shared vertices), find the set of unique line segments composing all the triangles (★★★)\n",
    "\n",
    "triangles = np.random.randint(0, 100, (10, 3))\n",
    "lines = np.roll(triangles.repeat(2, axis=1), -1, axis=1)\n",
    "lines = lines.reshape(-1, 2)\n",
    "unique_lines = np.unique(lines, axis=0)\n",
    "print(unique_lines)\n"
   ]
  },
  {
   "cell_type": "code",
   "execution_count": 92,
   "metadata": {},
   "outputs": [
    {
     "name": "stdout",
     "output_type": "stream",
     "text": [
      "[1 1 2 3 4 4 6]\n"
     ]
    }
   ],
   "source": [
    "#### 74. Given a sorted array C that corresponds to a bincount, how to produce an array A such that np.bincount(A) == C? (★★★)\n",
    "\n",
    "C = np.bincount([1, 1, 2, 3, 4, 4, 6])\n",
    "A = np.repeat(np.arange(len(C)), C)\n",
    "print(A)\n"
   ]
  },
  {
   "cell_type": "code",
   "execution_count": 93,
   "metadata": {},
   "outputs": [
    {
     "name": "stdout",
     "output_type": "stream",
     "text": [
      "[1. 2. 3. 4. 5. 6. 7. 8.]\n"
     ]
    }
   ],
   "source": [
    "#### 75. How to compute averages using a sliding window over an array? (★★★)\n",
    "\n",
    "array = np.arange(10)\n",
    "window_size = 3\n",
    "averages = np.convolve(array, np.ones(window_size)/window_size, mode='valid')\n",
    "print(averages)\n"
   ]
  },
  {
   "cell_type": "code",
   "execution_count": 94,
   "metadata": {},
   "outputs": [
    {
     "ename": "AttributeError",
     "evalue": "module 'numpy.lib.stride_tricks' has no attribute 'sliding_window_view'",
     "output_type": "error",
     "traceback": [
      "\u001b[1;31m---------------------------------------------------------------------------\u001b[0m",
      "\u001b[1;31mAttributeError\u001b[0m                            Traceback (most recent call last)",
      "\u001b[1;32m<ipython-input-94-f688315c4408>\u001b[0m in \u001b[0;36m<module>\u001b[1;34m\u001b[0m\n\u001b[0;32m      2\u001b[0m \u001b[1;33m\u001b[0m\u001b[0m\n\u001b[0;32m      3\u001b[0m \u001b[0mZ\u001b[0m \u001b[1;33m=\u001b[0m \u001b[0mnp\u001b[0m\u001b[1;33m.\u001b[0m\u001b[0marange\u001b[0m\u001b[1;33m(\u001b[0m\u001b[1;36m10\u001b[0m\u001b[1;33m)\u001b[0m\u001b[1;33m\u001b[0m\u001b[1;33m\u001b[0m\u001b[0m\n\u001b[1;32m----> 4\u001b[1;33m \u001b[0mshifted_matrix\u001b[0m \u001b[1;33m=\u001b[0m \u001b[0mnp\u001b[0m\u001b[1;33m.\u001b[0m\u001b[0mlib\u001b[0m\u001b[1;33m.\u001b[0m\u001b[0mstride_tricks\u001b[0m\u001b[1;33m.\u001b[0m\u001b[0msliding_window_view\u001b[0m\u001b[1;33m(\u001b[0m\u001b[0mZ\u001b[0m\u001b[1;33m,\u001b[0m \u001b[1;33m(\u001b[0m\u001b[1;36m3\u001b[0m\u001b[1;33m,\u001b[0m\u001b[1;33m)\u001b[0m\u001b[1;33m)\u001b[0m\u001b[1;33m\u001b[0m\u001b[1;33m\u001b[0m\u001b[0m\n\u001b[0m\u001b[0;32m      5\u001b[0m \u001b[0mprint\u001b[0m\u001b[1;33m(\u001b[0m\u001b[0mshifted_matrix\u001b[0m\u001b[1;33m)\u001b[0m\u001b[1;33m\u001b[0m\u001b[1;33m\u001b[0m\u001b[0m\n",
      "\u001b[1;31mAttributeError\u001b[0m: module 'numpy.lib.stride_tricks' has no attribute 'sliding_window_view'"
     ]
    }
   ],
   "source": [
    "#### 76. Consider a one-dimensional array Z, build a two-dimensional array whose first row is (Z[0],Z[1],Z[2]) and each subsequent row is shifted by 1 (last row should be (Z[-3],Z[-2],Z[-1])) (★★★)\n",
    "\n",
    "Z = np.arange(10)\n",
    "shifted_matrix = np.lib.stride_tricks.sliding_window_view(Z, (3,))\n",
    "print(shifted_matrix)\n"
   ]
  },
  {
   "cell_type": "code",
   "execution_count": 95,
   "metadata": {},
   "outputs": [
    {
     "name": "stdout",
     "output_type": "stream",
     "text": [
      "[False False  True False  True  True False False False  True]\n",
      "[-0.63534572 -0.03499553 -0.06211414 -0.03657955 -0.82263311]\n"
     ]
    }
   ],
   "source": [
    "#### 77. How to negate a boolean, or to change the sign of a float inplace? (★★★)\n",
    "boolean_array = np.random.choice([True, False], 10)\n",
    "np.logical_not(boolean_array, out=boolean_array)\n",
    "print(boolean_array)\n",
    "\n",
    "float_array = np.random.random(5)\n",
    "np.negative(float_array, out=float_array)\n",
    "print(float_array)"
   ]
  },
  {
   "cell_type": "code",
   "execution_count": 96,
   "metadata": {},
   "outputs": [
    {
     "name": "stdout",
     "output_type": "stream",
     "text": [
      "[0.72974971 0.52094281 0.56657654 0.39642278 0.94715339]\n"
     ]
    }
   ],
   "source": [
    "#### 78. Consider 2 sets of points P0, P1 describing lines (2d) and a point p, how to compute distance from p to each line i (P0[i],P1[i])? (★★★)\n",
    "\n",
    "P0 = np.random.random((5, 2))\n",
    "P1 = np.random.random((5, 2))\n",
    "p = np.random.random(2)\n",
    "distances = np.abs(np.cross(P1 - P0, P0 - p) / np.linalg.norm(P1 - P0, axis=1))\n",
    "print(distances)\n"
   ]
  },
  {
   "cell_type": "code",
   "execution_count": 97,
   "metadata": {},
   "outputs": [
    {
     "name": "stdout",
     "output_type": "stream",
     "text": [
      "[[0.03235407 0.06095457 0.18571324]\n",
      " [0.42924581 0.78922805 0.82454827]\n",
      " [0.38169422 0.58265455 0.73427332]\n",
      " [0.22090648 0.16446527 0.05442582]\n",
      " [0.02143495 0.37750006 0.41659627]]\n"
     ]
    }
   ],
   "source": [
    "#### 79. Consider 2 sets of points P0, P1 describing lines (2d) and a set of points P, how to compute distance from each point j (P[j]) to each line i (P0[i], P1[i])? (★★★)\n",
    "\n",
    "P0 = np.random.random((5, 2))\n",
    "P1 = np.random.random((5, 2))\n",
    "P = np.random.random((3, 2))\n",
    "distances = np.abs(np.cross(P1[:, np.newaxis] - P0[:, np.newaxis], P0[:, np.newaxis] - P) / np.linalg.norm(P1[:, np.newaxis] - P0[:, np.newaxis], axis=2))\n",
    "print(distances)"
   ]
  },
  {
   "cell_type": "code",
   "execution_count": 98,
   "metadata": {},
   "outputs": [
    {
     "name": "stdout",
     "output_type": "stream",
     "text": [
      "[[0 0 0]\n",
      " [0 0 0]\n",
      " [0 0 0]]\n"
     ]
    }
   ],
   "source": [
    "#### 80. Consider an arbitrary array, write a function that extracts a subpart with a fixed shape and centered on a given element (pad with a `fill` value when necessary) (★★★)\n",
    "\n",
    "def extract_subpart(array, shape, position, fill=0):\n",
    "    r, c = position\n",
    "    s1, s2 = shape\n",
    "    result = np.full(shape, fill)\n",
    "    result[:min(s1, array.shape[0]-r), :min(s2, array.shape[1]-c)] = array[max(0, r-s1//2):r+s1//2+1, max(0, c-s2//2):c+s2//2+1]\n",
    "    return result\n",
    "\n",
    "array = np.random.random((10, 10))\n",
    "subpart = extract_subpart(array, (3, 3), (5, 5), fill=0)\n",
    "print(subpart)\n"
   ]
  },
  {
   "cell_type": "code",
   "execution_count": 99,
   "metadata": {},
   "outputs": [
    {
     "ename": "AttributeError",
     "evalue": "module 'numpy.lib.stride_tricks' has no attribute 'sliding_window_view'",
     "output_type": "error",
     "traceback": [
      "\u001b[1;31m---------------------------------------------------------------------------\u001b[0m",
      "\u001b[1;31mAttributeError\u001b[0m                            Traceback (most recent call last)",
      "\u001b[1;32m<ipython-input-99-bda445ef6935>\u001b[0m in \u001b[0;36m<module>\u001b[1;34m\u001b[0m\n\u001b[0;32m      2\u001b[0m \u001b[1;33m\u001b[0m\u001b[0m\n\u001b[0;32m      3\u001b[0m \u001b[0mZ\u001b[0m \u001b[1;33m=\u001b[0m \u001b[0mnp\u001b[0m\u001b[1;33m.\u001b[0m\u001b[0marange\u001b[0m\u001b[1;33m(\u001b[0m\u001b[1;36m1\u001b[0m\u001b[1;33m,\u001b[0m \u001b[1;36m15\u001b[0m\u001b[1;33m)\u001b[0m\u001b[1;33m\u001b[0m\u001b[1;33m\u001b[0m\u001b[0m\n\u001b[1;32m----> 4\u001b[1;33m \u001b[0mR\u001b[0m \u001b[1;33m=\u001b[0m \u001b[0mnp\u001b[0m\u001b[1;33m.\u001b[0m\u001b[0mlib\u001b[0m\u001b[1;33m.\u001b[0m\u001b[0mstride_tricks\u001b[0m\u001b[1;33m.\u001b[0m\u001b[0msliding_window_view\u001b[0m\u001b[1;33m(\u001b[0m\u001b[0mZ\u001b[0m\u001b[1;33m,\u001b[0m \u001b[1;33m(\u001b[0m\u001b[1;36m4\u001b[0m\u001b[1;33m,\u001b[0m\u001b[1;33m)\u001b[0m\u001b[1;33m)\u001b[0m\u001b[1;33m\u001b[0m\u001b[1;33m\u001b[0m\u001b[0m\n\u001b[0m\u001b[0;32m      5\u001b[0m \u001b[0mprint\u001b[0m\u001b[1;33m(\u001b[0m\u001b[0mR\u001b[0m\u001b[1;33m)\u001b[0m\u001b[1;33m\u001b[0m\u001b[1;33m\u001b[0m\u001b[0m\n",
      "\u001b[1;31mAttributeError\u001b[0m: module 'numpy.lib.stride_tricks' has no attribute 'sliding_window_view'"
     ]
    }
   ],
   "source": [
    "#### 81. Consider an array Z = [1,2,3,4,5,6,7,8,9,10,11,12,13,14], how to generate an array R = [[1,2,3,4], [2,3,4,5], [3,4,5,6], ..., [11,12,13,14]]? (★★★)\n",
    "\n",
    "Z = np.arange(1, 15)\n",
    "R = np.lib.stride_tricks.sliding_window_view(Z, (4,))\n",
    "print(R)\n"
   ]
  },
  {
   "cell_type": "code",
   "execution_count": 100,
   "metadata": {},
   "outputs": [
    {
     "name": "stdout",
     "output_type": "stream",
     "text": [
      "4\n"
     ]
    }
   ],
   "source": [
    "### 82. Compute a matrix rank (★★★)\n",
    "\n",
    "matrix = np.random.random((4, 4))\n",
    "rank = np.linalg.matrix_rank(matrix)\n",
    "print(rank)\n"
   ]
  },
  {
   "cell_type": "code",
   "execution_count": 101,
   "metadata": {},
   "outputs": [
    {
     "name": "stdout",
     "output_type": "stream",
     "text": [
      "0\n"
     ]
    }
   ],
   "source": [
    "#### 83. How to find the most frequent value in an array?\n",
    "\n",
    "array = np.random.randint(0, \n",
    "\n",
    "10, 20)\n",
    "most_frequent_value = np.bincount(array).argmax()\n",
    "print(most_frequent_value)\n"
   ]
  },
  {
   "cell_type": "code",
   "execution_count": 102,
   "metadata": {},
   "outputs": [
    {
     "ename": "AttributeError",
     "evalue": "module 'numpy.lib.stride_tricks' has no attribute 'sliding_window_view'",
     "output_type": "error",
     "traceback": [
      "\u001b[1;31m---------------------------------------------------------------------------\u001b[0m",
      "\u001b[1;31mAttributeError\u001b[0m                            Traceback (most recent call last)",
      "\u001b[1;32m<ipython-input-102-e004eb18554a>\u001b[0m in \u001b[0;36m<module>\u001b[1;34m\u001b[0m\n\u001b[0;32m      2\u001b[0m \u001b[1;33m\u001b[0m\u001b[0m\n\u001b[0;32m      3\u001b[0m \u001b[0mmatrix\u001b[0m \u001b[1;33m=\u001b[0m \u001b[0mnp\u001b[0m\u001b[1;33m.\u001b[0m\u001b[0mrandom\u001b[0m\u001b[1;33m.\u001b[0m\u001b[0mrandom\u001b[0m\u001b[1;33m(\u001b[0m\u001b[1;33m(\u001b[0m\u001b[1;36m10\u001b[0m\u001b[1;33m,\u001b[0m \u001b[1;36m10\u001b[0m\u001b[1;33m)\u001b[0m\u001b[1;33m)\u001b[0m\u001b[1;33m\u001b[0m\u001b[1;33m\u001b[0m\u001b[0m\n\u001b[1;32m----> 4\u001b[1;33m \u001b[0mcontiguous_blocks\u001b[0m \u001b[1;33m=\u001b[0m \u001b[0mnp\u001b[0m\u001b[1;33m.\u001b[0m\u001b[0mlib\u001b[0m\u001b[1;33m.\u001b[0m\u001b[0mstride_tricks\u001b[0m\u001b[1;33m.\u001b[0m\u001b[0msliding_window_view\u001b[0m\u001b[1;33m(\u001b[0m\u001b[0mmatrix\u001b[0m\u001b[1;33m,\u001b[0m \u001b[1;33m(\u001b[0m\u001b[1;36m3\u001b[0m\u001b[1;33m,\u001b[0m \u001b[1;36m3\u001b[0m\u001b[1;33m)\u001b[0m\u001b[1;33m)\u001b[0m\u001b[1;33m\u001b[0m\u001b[1;33m\u001b[0m\u001b[0m\n\u001b[0m\u001b[0;32m      5\u001b[0m \u001b[0mprint\u001b[0m\u001b[1;33m(\u001b[0m\u001b[0mcontiguous_blocks\u001b[0m\u001b[1;33m)\u001b[0m\u001b[1;33m\u001b[0m\u001b[1;33m\u001b[0m\u001b[0m\n",
      "\u001b[1;31mAttributeError\u001b[0m: module 'numpy.lib.stride_tricks' has no attribute 'sliding_window_view'"
     ]
    }
   ],
   "source": [
    "#### 84. Extract all the contiguous 3x3 blocks from a random 10x10 matrix (★★★)\n",
    "\n",
    "matrix = np.random.random((10, 10))\n",
    "contiguous_blocks = np.lib.stride_tricks.sliding_window_view(matrix, (3, 3))\n",
    "print(contiguous_blocks)\n"
   ]
  },
  {
   "cell_type": "code",
   "execution_count": 103,
   "metadata": {},
   "outputs": [
    {
     "ename": "TypeError",
     "evalue": "only integer scalar arrays can be converted to a scalar index",
     "output_type": "error",
     "traceback": [
      "\u001b[1;31m---------------------------------------------------------------------------\u001b[0m",
      "\u001b[1;31mTypeError\u001b[0m                                 Traceback (most recent call last)",
      "\u001b[1;32m<ipython-input-103-25f25df3405f>\u001b[0m in \u001b[0;36m<module>\u001b[1;34m\u001b[0m\n\u001b[0;32m      7\u001b[0m         \u001b[0msuper\u001b[0m\u001b[1;33m(\u001b[0m\u001b[0mSymmetricArray\u001b[0m\u001b[1;33m,\u001b[0m \u001b[0mself\u001b[0m\u001b[1;33m)\u001b[0m\u001b[1;33m.\u001b[0m\u001b[0m__setitem__\u001b[0m\u001b[1;33m(\u001b[0m\u001b[1;33m(\u001b[0m\u001b[0mj\u001b[0m\u001b[1;33m,\u001b[0m \u001b[0mi\u001b[0m\u001b[1;33m)\u001b[0m\u001b[1;33m,\u001b[0m \u001b[0mvalue\u001b[0m\u001b[1;33m)\u001b[0m\u001b[1;33m\u001b[0m\u001b[1;33m\u001b[0m\u001b[0m\n\u001b[0;32m      8\u001b[0m \u001b[1;33m\u001b[0m\u001b[0m\n\u001b[1;32m----> 9\u001b[1;33m \u001b[0msymmetric_array\u001b[0m \u001b[1;33m=\u001b[0m \u001b[0mSymmetricArray\u001b[0m\u001b[1;33m(\u001b[0m\u001b[0mnp\u001b[0m\u001b[1;33m.\u001b[0m\u001b[0mzeros\u001b[0m\u001b[1;33m(\u001b[0m\u001b[1;33m(\u001b[0m\u001b[1;36m5\u001b[0m\u001b[1;33m,\u001b[0m \u001b[1;36m5\u001b[0m\u001b[1;33m)\u001b[0m\u001b[1;33m)\u001b[0m\u001b[1;33m)\u001b[0m\u001b[1;33m\u001b[0m\u001b[1;33m\u001b[0m\u001b[0m\n\u001b[0m\u001b[0;32m     10\u001b[0m \u001b[0msymmetric_array\u001b[0m\u001b[1;33m[\u001b[0m\u001b[1;36m0\u001b[0m\u001b[1;33m,\u001b[0m \u001b[1;36m1\u001b[0m\u001b[1;33m]\u001b[0m \u001b[1;33m=\u001b[0m \u001b[1;36m1\u001b[0m\u001b[1;33m\u001b[0m\u001b[1;33m\u001b[0m\u001b[0m\n\u001b[0;32m     11\u001b[0m \u001b[0mprint\u001b[0m\u001b[1;33m(\u001b[0m\u001b[0msymmetric_array\u001b[0m\u001b[1;33m)\u001b[0m\u001b[1;33m\u001b[0m\u001b[1;33m\u001b[0m\u001b[0m\n",
      "\u001b[1;31mTypeError\u001b[0m: only integer scalar arrays can be converted to a scalar index"
     ]
    }
   ],
   "source": [
    "#### 85. Create a 2D array subclass such that Z[i,j] == Z[j,i] (★★★)\n",
    "\n",
    "class SymmetricArray(np.ndarray):\n",
    "    def __setitem__(self, index, value):\n",
    "        i, j = index\n",
    "        super(SymmetricArray, self).__setitem__((i, j), value)\n",
    "        super(SymmetricArray, self).__setitem__((j, i), value)\n",
    "\n",
    "symmetric_array = SymmetricArray(np.zeros((5, 5)))\n",
    "symmetric_array[0, 1] = 1\n",
    "print(symmetric_array)\n",
    "print(symmetric_array[1, 0])\n"
   ]
  },
  {
   "cell_type": "code",
   "execution_count": 104,
   "metadata": {},
   "outputs": [
    {
     "name": "stdout",
     "output_type": "stream",
     "text": [
      "[[2.97056448]\n",
      " [3.25853301]\n",
      " [3.22511335]\n",
      " [3.31037047]]\n"
     ]
    },
    {
     "name": "stderr",
     "output_type": "stream",
     "text": [
      "C:\\Users\\Lenovo\\anaconda3\\lib\\site-packages\\ipykernel_launcher.py:6: DeprecationWarning: Calling np.sum(generator) is deprecated, and in the future will give a different result. Use np.sum(np.fromiter(generator)) or the python sum builtin instead.\n",
      "  \n"
     ]
    }
   ],
   "source": [
    "#### 86. Consider a set of p matrices with shape (n, n) and a set of p vectors with shape (n, 1). How to compute the sum of the p matrix products at once? (result has shape (n, 1)) (★★★)\n",
    "\n",
    "p = 3\n",
    "matrices = [np.random.random((4, 4)) for _ in range(p)]\n",
    "vectors = [np.random.random((4, 1)) for _ in range(p)]\n",
    "result = sum(np.dot(matrix, vector) for matrix, vector in zip(matrices, vectors))\n",
    "print(result)\n",
    "\n"
   ]
  },
  {
   "cell_type": "code",
   "execution_count": 105,
   "metadata": {},
   "outputs": [
    {
     "ename": "AttributeError",
     "evalue": "module 'numpy.lib.stride_tricks' has no attribute 'sliding_window_view'",
     "output_type": "error",
     "traceback": [
      "\u001b[1;31m---------------------------------------------------------------------------\u001b[0m",
      "\u001b[1;31mAttributeError\u001b[0m                            Traceback (most recent call last)",
      "\u001b[1;32m<ipython-input-105-7b910c1675f8>\u001b[0m in \u001b[0;36m<module>\u001b[1;34m\u001b[0m\n\u001b[0;32m      2\u001b[0m \u001b[1;33m\u001b[0m\u001b[0m\n\u001b[0;32m      3\u001b[0m \u001b[0marray\u001b[0m \u001b[1;33m=\u001b[0m \u001b[0mnp\u001b[0m\u001b[1;33m.\u001b[0m\u001b[0mrandom\u001b[0m\u001b[1;33m.\u001b[0m\u001b[0mrandom\u001b[0m\u001b[1;33m(\u001b[0m\u001b[1;33m(\u001b[0m\u001b[1;36m16\u001b[0m\u001b[1;33m,\u001b[0m \u001b[1;36m16\u001b[0m\u001b[1;33m)\u001b[0m\u001b[1;33m)\u001b[0m\u001b[1;33m\u001b[0m\u001b[1;33m\u001b[0m\u001b[0m\n\u001b[1;32m----> 4\u001b[1;33m \u001b[0mblock_sum\u001b[0m \u001b[1;33m=\u001b[0m \u001b[0mnp\u001b[0m\u001b[1;33m.\u001b[0m\u001b[0msum\u001b[0m\u001b[1;33m(\u001b[0m\u001b[0mnp\u001b[0m\u001b[1;33m.\u001b[0m\u001b[0mlib\u001b[0m\u001b[1;33m.\u001b[0m\u001b[0mstride_tricks\u001b[0m\u001b[1;33m.\u001b[0m\u001b[0msliding_window_view\u001b[0m\u001b[1;33m(\u001b[0m\u001b[0marray\u001b[0m\u001b[1;33m,\u001b[0m \u001b[1;33m(\u001b[0m\u001b[1;36m4\u001b[0m\u001b[1;33m,\u001b[0m \u001b[1;36m4\u001b[0m\u001b[1;33m)\u001b[0m\u001b[1;33m)\u001b[0m\u001b[1;33m,\u001b[0m \u001b[0maxis\u001b[0m\u001b[1;33m=\u001b[0m\u001b[1;33m(\u001b[0m\u001b[1;33m-\u001b[0m\u001b[1;36m2\u001b[0m\u001b[1;33m,\u001b[0m \u001b[1;33m-\u001b[0m\u001b[1;36m1\u001b[0m\u001b[1;33m)\u001b[0m\u001b[1;33m)\u001b[0m\u001b[1;33m\u001b[0m\u001b[1;33m\u001b[0m\u001b[0m\n\u001b[0m\u001b[0;32m      5\u001b[0m \u001b[0mprint\u001b[0m\u001b[1;33m(\u001b[0m\u001b[0mblock_sum\u001b[0m\u001b[1;33m)\u001b[0m\u001b[1;33m\u001b[0m\u001b[1;33m\u001b[0m\u001b[0m\n",
      "\u001b[1;31mAttributeError\u001b[0m: module 'numpy.lib.stride_tricks' has no attribute 'sliding_window_view'"
     ]
    }
   ],
   "source": [
    "\n",
    "#### 87. Consider a 16x16 array, how to get the block-sum (block size is 4x4)? (★★★)\n",
    "\n",
    "array = np.random.random((16, 16))\n",
    "block_sum = np.sum(np.lib.stride_tricks.sliding_window_view(array, (4, 4)), axis=(-2, -1))\n",
    "print(block_sum)\n"
   ]
  },
  {
   "cell_type": "code",
   "execution_count": 106,
   "metadata": {},
   "outputs": [
    {
     "name": "stdout",
     "output_type": "stream",
     "text": [
      "[[False False False  True False  True False False False False False False\n",
      "   True  True  True  True False  True False  True  True False False  True\n",
      "  False  True False False False False False  True False False False False\n",
      "  False False False False False  True False False  True False False  True\n",
      "   True False]\n",
      " [ True False False  True False False False  True False False False  True\n",
      "   True False False False False False  True  True False False  True False\n",
      "  False False False  True False False False False False False  True  True\n",
      "  False  True  True False False  True False False  True False  True False\n",
      "   True  True]\n",
      " [False False  True False  True False False False False False False False\n",
      "  False False False False False False False False False False False False\n",
      "  False False False False False  True False False  True  True False False\n",
      "  False  True  True False False False False False False  True False  True\n",
      "  False False]\n",
      " [False False False  True False False False  True False  True False  True\n",
      "  False False False False False  True False  True False False False False\n",
      "  False False False False False False False False False  True False False\n",
      "  False  True False  True False False False  True False False False  True\n",
      "  False False]\n",
      " [ True False False  True False False False  True False False False False\n",
      "  False False False False False False False  True  True False  True False\n",
      "  False False False  True False False  True False False  True  True  True\n",
      "  False False False  True False False False False False False  True  True\n",
      "  False False]\n",
      " [False False  True False False False  True False  True False False False\n",
      "   True False False  True  True False  True False False  True False False\n",
      "  False False  True  True  True False False False False  True False False\n",
      "   True False False False  True False False False  True False False  True\n",
      "  False False]\n",
      " [False False  True  True False False  True False False  True False False\n",
      "  False False False  True False False False  True  True  True  True False\n",
      "   True  True False False False False False False False False False False\n",
      "   True False False False False  True False False False False False False\n",
      "  False False]\n",
      " [False False False  True False False  True  True False False False  True\n",
      "   True False False False False  True False False False False  True False\n",
      "   True  True False False False  True  True False  True False False  True\n",
      "  False False  True False  True False False False False False False  True\n",
      "  False False]\n",
      " [False False False False False False  True False  True False False False\n",
      "  False False False False  True  True False False  True  True False  True\n",
      "  False False False  True  True  True False  True False False False False\n",
      "  False False  True False False False False False False False False False\n",
      "  False False]\n",
      " [ True  True False False False False False False False False False False\n",
      "  False  True False False  True False  True False False  True False  True\n",
      "  False  True False False False  True False False False False  True False\n",
      "   True False  True  True False False False  True False False  True False\n",
      "  False  True]\n",
      " [False False  True False False False False  True  True False False False\n",
      "   True False False  True False False  True False False False  True  True\n",
      "  False  True False False False False False  True False  True  True False\n",
      "   True False False False  True False False False  True False False  True\n",
      "  False False]\n",
      " [False  True  True  True  True False False False False False False False\n",
      "  False False  True False False False  True False False False False  True\n",
      "  False  True False False False False False  True False False  True  True\n",
      "   True False False False  True  True  True  True False False False False\n",
      "  False  True]\n",
      " [False  True False  True False False False  True False  True False  True\n",
      "  False False False False  True False False False False False False  True\n",
      "   True False False False False False False  True False False False False\n",
      "  False  True False False False False False  True False False False  True\n",
      "  False  True]\n",
      " [False  True False  True False False False False False  True False False\n",
      "  False  True False False False False  True  True  True False False False\n",
      "  False  True False  True  True False False False False False False False\n",
      "  False False False False False False False  True False  True  True  True\n",
      "  False  True]\n",
      " [False False  True  True False False False False False False False  True\n",
      "   True False False False False  True False  True False False False False\n",
      "   True  True  True  True  True False False  True False  True False False\n",
      "  False False  True False False False False  True  True False  True  True\n",
      "  False False]\n",
      " [False False False False False False False False False False False False\n",
      "  False False False False  True False False False  True False False  True\n",
      "   True False False False False  True False False False  True False  True\n",
      "   True  True False  True False False False  True False  True False False\n",
      "  False False]\n",
      " [False  True False False False False  True  True False False False False\n",
      "  False False False False False False False False False False False False\n",
      "  False False  True  True False False False False  True False  True  True\n",
      "  False  True False  True False False False False  True  True False False\n",
      "  False False]\n",
      " [False  True False  True False False False  True False False  True False\n",
      "  False False  True  True False False False False  True False False  True\n",
      "  False  True  True  True False False  True  True False False False  True\n",
      "  False False False  True  True  True False  True False  True False  True\n",
      "  False False]\n",
      " [ True False False False False False False False  True False  True False\n",
      "  False False False False False False False False False False False False\n",
      "   True False False False False False  True False  True False False False\n",
      "   True False False  True False  True False False  True False False False\n",
      "  False False]\n",
      " [False False False  True False False False  True  True False  True False\n",
      "  False  True False False False False False False  True False False False\n",
      "  False False False False False False False False  True False  True False\n",
      "  False False  True False  True False  True  True  True False False  True\n",
      "   True False]\n",
      " [False False  True False False False False False  True  True  True False\n",
      "  False False False False False  True False False  True False False False\n",
      "  False False False  True False  True  True False  True False  True False\n",
      "   True False False False False False False False False  True  True  True\n",
      "   True False]\n",
      " [False False False  True False False False False False False  True False\n",
      "  False False False False False  True False  True False False  True False\n",
      "   True  True False False False  True False False False False False False\n",
      "  False False False  True  True False False False  True False False False\n",
      "  False False]\n",
      " [False False False  True False  True False  True False False False False\n",
      "  False  True False  True False  True  True  True False  True False False\n",
      "  False  True False False  True False False False False  True  True  True\n",
      "  False  True False False  True  True False False False False False False\n",
      "   True False]\n",
      " [False  True False False False False False False False  True False  True\n",
      "   True  True False  True False False False  True  True False  True False\n",
      "  False False False False  True False False  True False  True False False\n",
      "  False  True  True False False  True False  True False False False False\n",
      "  False  True]\n",
      " [False False False False False  True  True False False  True  True False\n",
      "  False False  True  True  True False False False False  True False False\n",
      "  False False False False False  True False False False  True False  True\n",
      "  False False False False False  True False False False  True False False\n",
      "  False False]\n",
      " [False False False False False  True False  True False False  True False\n",
      "   True False False False  True False  True False False False False  True\n",
      "  False False  True  True False  True False False  True False False  True\n",
      "  False False  True  True False False False  True False False False False\n",
      "  False False]\n",
      " [False  True False False False False  True False False False  True False\n",
      "  False False False False False False  True False False  True False False\n",
      "  False False False False False False False False False False False False\n",
      "  False  True  True False  True False  True  True False False False False\n",
      "   True  True]\n",
      " [False False False False  True  True False False False False  True False\n",
      "   True False False False False False  True  True  True False  True False\n",
      "  False False  True False  True False  True  True False False False False\n",
      "   True False  True False False  True False  True False False False False\n",
      "   True  True]\n",
      " [ True False  True False False False False False False  True False False\n",
      "   True False False False False False False  True False False  True  True\n",
      "  False  True False False  True False False False  True False False False\n",
      "  False  True  True  True  True  True False  True False False False False\n",
      "  False False]\n",
      " [False False False False  True False  True False False False False False\n",
      "  False  True False  True False  True  True False False False  True False\n",
      "   True False False False False False  True False False False  True False\n",
      "   True  True False False False False False False False False False  True\n",
      "   True  True]\n",
      " [False False False False False  True False  True False False False  True\n",
      "   True  True False False False False False False False False  True False\n",
      "  False False False  True False False False  True  True False  True False\n",
      "  False False  True  True  True False  True False  True False False False\n",
      "  False False]\n",
      " [False False False False  True  True  True False False False False  True\n",
      "  False  True False  True False  True  True False False False False False\n",
      "  False  True False False False False False False False  True False False\n",
      "  False  True False False  True  True False False  True  True False False\n",
      "  False  True]\n",
      " [False False  True False False False False False False False False  True\n",
      "  False False  True False  True  True False  True  True False False False\n",
      "  False  True False False False False False False False False  True False\n",
      "  False False  True False False  True  True False False False False False\n",
      "  False  True]\n",
      " [False False False False False False False  True  True  True False  True\n",
      "   True False False False False  True  True False False False  True False\n",
      "  False False False False False False False False  True False False False\n",
      "   True False False  True False False False False False  True False False\n",
      "   True False]\n",
      " [False  True False False False False  True False False  True False False\n",
      "  False False  True  True False False False  True False False False False\n",
      "   True False False False False False  True  True False  True  True  True\n",
      "   True False False False False False  True  True False False False False\n",
      "   True False]\n",
      " [ True  True False  True False False False False False False  True False\n",
      "   True False False  True False False False False False False  True False\n",
      "  False  True False False  True False False False False  True False False\n",
      "  False False False False False False False False False  True False  True\n",
      "  False False]\n",
      " [False  True False False False False False  True False  True  True False\n",
      "  False False  True False False  True False False False False False False\n",
      "   True False False False False False False False False False False False\n",
      "   True False False  True  True False False False  True False False False\n",
      "   True  True]\n",
      " [False  True False False  True  True False False False False False False\n",
      "  False  True  True False  True False False False False  True False False\n",
      "   True  True  True False False False False False False  True False False\n",
      "  False  True False False  True False False False False  True False  True\n",
      "  False False]\n",
      " [False False False False  True False  True False False False  True False\n",
      "  False  True  True False  True False False  True False False False False\n",
      "  False False False  True False False False False False False False  True\n",
      "  False  True False False False False False  True False False False False\n",
      "  False  True]\n",
      " [False False False False False  True  True  True False False False False\n",
      "  False False False False False False  True False  True  True False  True\n",
      "  False False  True  True False  True False False False False  True False\n",
      "  False  True False False  True False  True  True False  True False False\n",
      "   True  True]\n",
      " [False False False False False False False  True False False False False\n",
      "  False  True False  True False False  True  True  True False False  True\n",
      "  False False  True False False  True False False False False  True False\n",
      "  False False False False False  True False False False False False False\n",
      "   True False]\n",
      " [False False False False False False False False  True False False False\n",
      "  False False  True False False  True False False False False False False\n",
      "  False False False False False False  True False False  True False False\n",
      "  False False False  True False  True False False False False False False\n",
      "  False False]\n",
      " [False  True False False False False False False False  True  True False\n",
      "   True  True False False False  True False False False False  True False\n",
      "   True False False False False  True False False False False False False\n",
      "  False  True False False False False False False False False False False\n",
      "  False  True]\n",
      " [False  True False False False False  True False False False False False\n",
      "  False  True  True  True  True False  True  True  True False  True False\n",
      "   True False False False False False  True False  True False False False\n",
      "  False False False  True False False False False False False False False\n",
      "  False False]\n",
      " [False  True False False False False False False  True  True  True False\n",
      "  False False False False False  True False False False False False False\n",
      "   True False  True False False False False False False  True False False\n",
      "  False False  True False  True  True  True  True False False False False\n",
      "   True  True]\n",
      " [False False False False False False False False False  True False False\n",
      "  False  True  True False False False False  True False False  True False\n",
      "  False False False  True  True  True False False False False  True False\n",
      "  False False  True False False False False  True False False False  True\n",
      "  False False]\n",
      " [ True False False False False False False False False  True False  True\n",
      "   True False False False False False False False False False False  True\n",
      "  False False False  True False False False False False  True  True False\n",
      "   True False False False False False False  True False False False False\n",
      "  False  True]\n",
      " [ True False False  True  True False False False False False  True  True\n",
      "   True  True False False  True False  True False False False  True False\n",
      "  False False False False  True  True  True False False False  True False\n",
      "  False  True  True False False  True  True False False False  True  True\n",
      "  False False]\n",
      " [ True  True False False False False False False False False False False\n",
      "  False False False False False False False False False False False  True\n",
      "   True  True  True False False False False False False  True False False\n",
      "  False False  True False False False False  True False False False False\n",
      "   True False]\n",
      " [False False False  True False False  True  True  True  True False False\n",
      "   True False False False False  True False  True False False False  True\n",
      "   True False False False False False  True  True False False False False\n",
      "  False False False  True  True False  True False False False False False\n",
      "   True False]]\n"
     ]
    },
    {
     "name": "stderr",
     "output_type": "stream",
     "text": [
      "C:\\Users\\Lenovo\\anaconda3\\lib\\site-packages\\ipykernel_launcher.py:5: DeprecationWarning: Calling np.sum(generator) is deprecated, and in the future will give a different result. Use np.sum(np.fromiter(generator)) or the python sum builtin instead.\n",
      "  \"\"\"\n"
     ]
    }
   ],
   "source": [
    "#### 88. How to implement the Game of Life using numpy arrays? (★★★)\n",
    "\n",
    "def game_of_life(board, steps):\n",
    "    for _ in range(steps):\n",
    "        neighbor_count = sum(np.roll(np.roll(board, i, 0), j, 1) for i in (-1, 0, 1) for j in (-1, 0, 1) if (i, j) != (0, 0))\n",
    "        board = ((board == 1) & (neighbor_count == 3)) | ((board == 0) & (neighbor_count == 2))\n",
    "    return board\n",
    "\n",
    "initial_board = np.random.choice([0, 1], (50, 50))\n",
    "final_board = game_of_life(initial_board, 100)\n",
    "print(final_board)\n"
   ]
  },
  {
   "cell_type": "code",
   "execution_count": 107,
   "metadata": {},
   "outputs": [
    {
     "name": "stdout",
     "output_type": "stream",
     "text": [
      "[0.75672868]\n"
     ]
    }
   ],
   "source": [
    "### 89. How to get the n largest values of an array (★★★)\n",
    "n\n",
    "array = np.random.random(10)\n",
    "n_largest_values = array[np.argsort(array)[-n:]][::-1]\n",
    "print(n_largest_values)\n"
   ]
  },
  {
   "cell_type": "code",
   "execution_count": 108,
   "metadata": {},
   "outputs": [
    {
     "name": "stdout",
     "output_type": "stream",
     "text": [
      "[[1 3 6]\n",
      " [1 4 6]\n",
      " [1 5 6]\n",
      " [2 3 6]\n",
      " [2 4 6]\n",
      " [2 5 6]\n",
      " [1 3 7]\n",
      " [1 4 7]\n",
      " [1 5 7]\n",
      " [2 3 7]\n",
      " [2 4 7]\n",
      " [2 5 7]]\n"
     ]
    }
   ],
   "source": [
    "#### 90. Given an arbitrary number of vectors, build the cartesian product (every combination of every item) (★★★)\n",
    "\n",
    "vectors = [np.array([1, 2]), np.array([3, 4, 5]), np.array([6, 7])]\n",
    "cartesian_product = np.array(np.meshgrid(*vectors)).T.reshape(-1, len(vectors))\n",
    "print(cartesian_product)\n"
   ]
  },
  {
   "cell_type": "code",
   "execution_count": 109,
   "metadata": {},
   "outputs": [
    {
     "ename": "ValueError",
     "evalue": "mismatch between the number of fields and the number of arrays",
     "output_type": "error",
     "traceback": [
      "\u001b[1;31m---------------------------------------------------------------------------\u001b[0m",
      "\u001b[1;31mValueError\u001b[0m                                Traceback (most recent call last)",
      "\u001b[1;32m<ipython-input-109-3a96def6b1e2>\u001b[0m in \u001b[0;36m<module>\u001b[1;34m\u001b[0m\n\u001b[0;32m      2\u001b[0m \u001b[1;33m\u001b[0m\u001b[0m\n\u001b[0;32m      3\u001b[0m \u001b[0mregular_array\u001b[0m \u001b[1;33m=\u001b[0m \u001b[0mnp\u001b[0m\u001b[1;33m.\u001b[0m\u001b[0marray\u001b[0m\u001b[1;33m(\u001b[0m\u001b[1;33m[\u001b[0m\u001b[1;33m(\u001b[0m\u001b[1;36m1\u001b[0m\u001b[1;33m,\u001b[0m \u001b[1;36m2\u001b[0m\u001b[1;33m,\u001b[0m \u001b[1;36m3\u001b[0m\u001b[1;33m)\u001b[0m\u001b[1;33m,\u001b[0m \u001b[1;33m(\u001b[0m\u001b[1;36m4\u001b[0m\u001b[1;33m,\u001b[0m \u001b[1;36m5\u001b[0m\u001b[1;33m,\u001b[0m \u001b[1;36m6\u001b[0m\u001b[1;33m)\u001b[0m\u001b[1;33m]\u001b[0m\u001b[1;33m,\u001b[0m \u001b[0mdtype\u001b[0m\u001b[1;33m=\u001b[0m\u001b[1;33m[\u001b[0m\u001b[1;33m(\u001b[0m\u001b[1;34m'a'\u001b[0m\u001b[1;33m,\u001b[0m \u001b[0mint\u001b[0m\u001b[1;33m)\u001b[0m\u001b[1;33m,\u001b[0m \u001b[1;33m(\u001b[0m\u001b[1;34m'b'\u001b[0m\u001b[1;33m,\u001b[0m \u001b[0mint\u001b[0m\u001b[1;33m)\u001b[0m\u001b[1;33m,\u001b[0m \u001b[1;33m(\u001b[0m\u001b[1;34m'c'\u001b[0m\u001b[1;33m,\u001b[0m \u001b[0mint\u001b[0m\u001b[1;33m)\u001b[0m\u001b[1;33m]\u001b[0m\u001b[1;33m)\u001b[0m\u001b[1;33m\u001b[0m\u001b[1;33m\u001b[0m\u001b[0m\n\u001b[1;32m----> 4\u001b[1;33m \u001b[0mrecord_array\u001b[0m \u001b[1;33m=\u001b[0m \u001b[0mnp\u001b[0m\u001b[1;33m.\u001b[0m\u001b[0mcore\u001b[0m\u001b[1;33m.\u001b[0m\u001b[0mrecords\u001b[0m\u001b[1;33m.\u001b[0m\u001b[0mfromarrays\u001b[0m\u001b[1;33m(\u001b[0m\u001b[0mregular_array\u001b[0m\u001b[1;33m.\u001b[0m\u001b[0mT\u001b[0m\u001b[1;33m,\u001b[0m \u001b[0mdtype\u001b[0m\u001b[1;33m=\u001b[0m\u001b[1;33m[\u001b[0m\u001b[1;33m(\u001b[0m\u001b[1;34m'a'\u001b[0m\u001b[1;33m,\u001b[0m \u001b[0mint\u001b[0m\u001b[1;33m)\u001b[0m\u001b[1;33m,\u001b[0m \u001b[1;33m(\u001b[0m\u001b[1;34m'b'\u001b[0m\u001b[1;33m,\u001b[0m \u001b[0mint\u001b[0m\u001b[1;33m)\u001b[0m\u001b[1;33m,\u001b[0m \u001b[1;33m(\u001b[0m\u001b[1;34m'c'\u001b[0m\u001b[1;33m,\u001b[0m \u001b[0mint\u001b[0m\u001b[1;33m)\u001b[0m\u001b[1;33m]\u001b[0m\u001b[1;33m)\u001b[0m\u001b[1;33m\u001b[0m\u001b[1;33m\u001b[0m\u001b[0m\n\u001b[0m\u001b[0;32m      5\u001b[0m \u001b[0mprint\u001b[0m\u001b[1;33m(\u001b[0m\u001b[0mrecord_array\u001b[0m\u001b[1;33m)\u001b[0m\u001b[1;33m\u001b[0m\u001b[1;33m\u001b[0m\u001b[0m\n",
      "\u001b[1;32m~\\anaconda3\\lib\\site-packages\\numpy\\core\\records.py\u001b[0m in \u001b[0;36mfromarrays\u001b[1;34m(arrayList, dtype, shape, formats, names, titles, aligned, byteorder)\u001b[0m\n\u001b[0;32m    624\u001b[0m     \u001b[1;31m# Determine shape from data-type.\u001b[0m\u001b[1;33m\u001b[0m\u001b[1;33m\u001b[0m\u001b[1;33m\u001b[0m\u001b[0m\n\u001b[0;32m    625\u001b[0m     \u001b[1;32mif\u001b[0m \u001b[0mlen\u001b[0m\u001b[1;33m(\u001b[0m\u001b[0mdescr\u001b[0m\u001b[1;33m)\u001b[0m \u001b[1;33m!=\u001b[0m \u001b[0mlen\u001b[0m\u001b[1;33m(\u001b[0m\u001b[0marrayList\u001b[0m\u001b[1;33m)\u001b[0m\u001b[1;33m:\u001b[0m\u001b[1;33m\u001b[0m\u001b[1;33m\u001b[0m\u001b[0m\n\u001b[1;32m--> 626\u001b[1;33m         raise ValueError(\"mismatch between the number of fields \"\n\u001b[0m\u001b[0;32m    627\u001b[0m                 \"and the number of arrays\")\n\u001b[0;32m    628\u001b[0m \u001b[1;33m\u001b[0m\u001b[0m\n",
      "\u001b[1;31mValueError\u001b[0m: mismatch between the number of fields and the number of arrays"
     ]
    }
   ],
   "source": [
    "#### 91. How to create a record array from a regular array? (★★★)\n",
    "\n",
    "regular_array = np.array([(1, 2, 3), (4, 5, 6)], dtype=[('a', int), ('b', int), ('c', int)])\n",
    "record_array = np.core.records.fromarrays(regular_array.T, dtype=[('a', int), ('b', int), ('c', int)])\n",
    "print(record_array)\n"
   ]
  },
  {
   "cell_type": "code",
   "execution_count": 110,
   "metadata": {},
   "outputs": [
    {
     "name": "stdout",
     "output_type": "stream",
     "text": [
      "True\n"
     ]
    }
   ],
   "source": [
    "### 92. Consider a large vector Z, compute Z to the power of 3 using 3 different methods (★★★)\n",
    "\n",
    "Z = np.random.random(10**6)\n",
    "power_3_method1 = np.power(Z, 3)\n",
    "power_3_method2 = Z * Z * Z\n",
    "power_3_method3 = np.einsum('i,i,i->i', Z, Z, Z)\n",
    "print(np.allclose(power_3_method1, power_3_method2, power_3_method3))\n"
   ]
  },
  {
   "cell_type": "code",
   "execution_count": 111,
   "metadata": {},
   "outputs": [
    {
     "name": "stdout",
     "output_type": "stream",
     "text": [
      "[]\n"
     ]
    }
   ],
   "source": [
    "#### 93. Consider two arrays A and B of shape (8,3) and (2,2). How to find rows of A that contain elements of each row of B regardless of the order of the elements in B? (★★★)\n",
    "\n",
    "A = np.random.randint(0, 10, (8, 3))\n",
    "B = np.random.randint(0, 10, (2, 2))\n",
    "rows_containing_elements = np.all(np.isin(A, B), axis=1)\n",
    "print(A[rows_containing_elements])\n"
   ]
  },
  {
   "cell_type": "code",
   "execution_count": 113,
   "metadata": {},
   "outputs": [
    {
     "name": "stdout",
     "output_type": "stream",
     "text": [
      "[[1 0 2]\n",
      " [0 2 2]\n",
      " [2 1 2]\n",
      " [0 1 1]\n",
      " [2 1 1]\n",
      " [1 2 0]\n",
      " [1 1 0]\n",
      " [2 0 1]\n",
      " [1 2 0]\n",
      " [0 0 1]]\n"
     ]
    }
   ],
   "source": [
    "\n",
    "#### 94. Considering a 10x3 matrix, extract rows with unequal values (e.g\n",
    "\n",
    "\n",
    "matrix = np.random.randint(0, 3, (10, 3))\n",
    "rows_with_unequal_values = np.any(np.diff(matrix, axis=1) != 0, axis=1)\n",
    "print(matrix[rows_with_unequal_values])\n"
   ]
  },
  {
   "cell_type": "code",
   "execution_count": 114,
   "metadata": {},
   "outputs": [
    {
     "name": "stdout",
     "output_type": "stream",
     "text": [
      "[[0 0 0 0 0 0 0 0]\n",
      " [1 0 0 0 0 0 0 0]\n",
      " [0 1 0 0 0 0 0 0]\n",
      " [1 1 0 0 0 0 0 0]]\n"
     ]
    }
   ],
   "source": [
    "\n",
    "#### 95. Convert a vector of ints into a matrix binary representation (★★★)\n",
    "\n",
    "vector = np.array([0, 1, 2, 3], dtype=np.uint8)\n",
    "binary_representation = ((vector[:, None] & (1 << np.arange(8))) > 0).astype(int)\n",
    "print(binary_representation)\n"
   ]
  },
  {
   "cell_type": "code",
   "execution_count": 115,
   "metadata": {},
   "outputs": [
    {
     "name": "stdout",
     "output_type": "stream",
     "text": [
      "[[0 0 1]\n",
      " [1 0 1]\n",
      " [1 1 0]\n",
      " [1 1 1]]\n"
     ]
    }
   ],
   "source": [
    "\n",
    "#### 96. Given a two-dimensional array, how to extract unique rows? (★★★)\n",
    "\n",
    "array_2d = np.random.randint(0, 2, (5, 3))\n",
    "unique_rows = np.unique(array_2d, axis=0)\n",
    "print(unique_rows)\n"
   ]
  },
  {
   "cell_type": "code",
   "execution_count": 116,
   "metadata": {},
   "outputs": [
    {
     "name": "stdout",
     "output_type": "stream",
     "text": [
      "32 [[ 4  5  6]\n",
      " [ 8 10 12]\n",
      " [12 15 18]] 6 [ 4 10 18]\n"
     ]
    }
   ],
   "source": [
    "\n",
    "#### 97. Considering 2 vectors A & B, write the einsum equivalent of inner, outer, sum, and mul function (★★★)\n",
    "\n",
    "A = np.array([1, 2, 3])\n",
    "B = np.array([4, 5, 6])\n",
    "inner_product = np.einsum('i,i->', A, B)\n",
    "outer_product = np.einsum('i,j->ij', A, B)\n",
    "sum_result = np.einsum('i->', A)\n",
    "elementwise_multiply = np.einsum('i,i->i', A, B)\n",
    "print(inner_product, outer_product, sum_result, elementwise_multiply)\n"
   ]
  },
  {
   "cell_type": "code",
   "execution_count": 119,
   "metadata": {},
   "outputs": [
    {
     "ename": "ValueError",
     "evalue": "fp and xp are not of the same length.",
     "output_type": "error",
     "traceback": [
      "\u001b[1;31m---------------------------------------------------------------------------\u001b[0m",
      "\u001b[1;31mValueError\u001b[0m                                Traceback (most recent call last)",
      "\u001b[1;32m<ipython-input-119-df9da700efda>\u001b[0m in \u001b[0;36m<module>\u001b[1;34m\u001b[0m\n\u001b[0;32m      4\u001b[0m \u001b[0mY\u001b[0m \u001b[1;33m=\u001b[0m \u001b[0mnp\u001b[0m\u001b[1;33m.\u001b[0m\u001b[0marray\u001b[0m\u001b[1;33m(\u001b[0m\u001b[1;33m[\u001b[0m\u001b[1;36m2\u001b[0m\u001b[1;33m,\u001b[0m \u001b[1;36m3\u001b[0m\u001b[1;33m,\u001b[0m \u001b[1;36m4\u001b[0m\u001b[1;33m,\u001b[0m \u001b[1;36m5\u001b[0m\u001b[1;33m,\u001b[0m \u001b[1;36m6\u001b[0m\u001b[1;33m]\u001b[0m\u001b[1;33m)\u001b[0m\u001b[1;33m\u001b[0m\u001b[1;33m\u001b[0m\u001b[0m\n\u001b[0;32m      5\u001b[0m \u001b[0mpath_length\u001b[0m \u001b[1;33m=\u001b[0m \u001b[0mnp\u001b[0m\u001b[1;33m.\u001b[0m\u001b[0mcumsum\u001b[0m\u001b[1;33m(\u001b[0m\u001b[0mnp\u001b[0m\u001b[1;33m.\u001b[0m\u001b[0msqrt\u001b[0m\u001b[1;33m(\u001b[0m\u001b[0mnp\u001b[0m\u001b[1;33m.\u001b[0m\u001b[0mdiff\u001b[0m\u001b[1;33m(\u001b[0m\u001b[0mX\u001b[0m\u001b[1;33m)\u001b[0m\u001b[1;33m**\u001b[0m\u001b[1;36m2\u001b[0m \u001b[1;33m+\u001b[0m \u001b[0mnp\u001b[0m\u001b[1;33m.\u001b[0m\u001b[0mdiff\u001b[0m\u001b[1;33m(\u001b[0m\u001b[0mY\u001b[0m\u001b[1;33m)\u001b[0m\u001b[1;33m**\u001b[0m\u001b[1;36m2\u001b[0m\u001b[1;33m)\u001b[0m\u001b[1;33m)\u001b[0m\u001b[1;33m\u001b[0m\u001b[1;33m\u001b[0m\u001b[0m\n\u001b[1;32m----> 6\u001b[1;33m \u001b[0mequidistant_samples\u001b[0m \u001b[1;33m=\u001b[0m \u001b[0mnp\u001b[0m\u001b[1;33m.\u001b[0m\u001b[0minterp\u001b[0m\u001b[1;33m(\u001b[0m\u001b[0mnp\u001b[0m\u001b[1;33m.\u001b[0m\u001b[0mlinspace\u001b[0m\u001b[1;33m(\u001b[0m\u001b[1;36m0\u001b[0m\u001b[1;33m,\u001b[0m \u001b[0mpath_length\u001b[0m\u001b[1;33m[\u001b[0m\u001b[1;33m-\u001b[0m\u001b[1;36m1\u001b[0m\u001b[1;33m]\u001b[0m\u001b[1;33m,\u001b[0m \u001b[1;36m10\u001b[0m\u001b[1;33m)\u001b[0m\u001b[1;33m,\u001b[0m \u001b[0mpath_length\u001b[0m\u001b[1;33m,\u001b[0m \u001b[0mX\u001b[0m\u001b[1;33m)\u001b[0m\u001b[1;33m\u001b[0m\u001b[1;33m\u001b[0m\u001b[0m\n\u001b[0m\u001b[0;32m      7\u001b[0m \u001b[0mprint\u001b[0m\u001b[1;33m(\u001b[0m\u001b[0mequidistant_samples\u001b[0m\u001b[1;33m)\u001b[0m\u001b[1;33m\u001b[0m\u001b[1;33m\u001b[0m\u001b[0m\n",
      "\u001b[1;32m<__array_function__ internals>\u001b[0m in \u001b[0;36minterp\u001b[1;34m(*args, **kwargs)\u001b[0m\n",
      "\u001b[1;32m~\\anaconda3\\lib\\site-packages\\numpy\\lib\\function_base.py\u001b[0m in \u001b[0;36minterp\u001b[1;34m(x, xp, fp, left, right, period)\u001b[0m\n\u001b[0;32m   1410\u001b[0m         \u001b[0mfp\u001b[0m \u001b[1;33m=\u001b[0m \u001b[0mnp\u001b[0m\u001b[1;33m.\u001b[0m\u001b[0mconcatenate\u001b[0m\u001b[1;33m(\u001b[0m\u001b[1;33m(\u001b[0m\u001b[0mfp\u001b[0m\u001b[1;33m[\u001b[0m\u001b[1;33m-\u001b[0m\u001b[1;36m1\u001b[0m\u001b[1;33m:\u001b[0m\u001b[1;33m]\u001b[0m\u001b[1;33m,\u001b[0m \u001b[0mfp\u001b[0m\u001b[1;33m,\u001b[0m \u001b[0mfp\u001b[0m\u001b[1;33m[\u001b[0m\u001b[1;36m0\u001b[0m\u001b[1;33m:\u001b[0m\u001b[1;36m1\u001b[0m\u001b[1;33m]\u001b[0m\u001b[1;33m)\u001b[0m\u001b[1;33m)\u001b[0m\u001b[1;33m\u001b[0m\u001b[1;33m\u001b[0m\u001b[0m\n\u001b[0;32m   1411\u001b[0m \u001b[1;33m\u001b[0m\u001b[0m\n\u001b[1;32m-> 1412\u001b[1;33m     \u001b[1;32mreturn\u001b[0m \u001b[0minterp_func\u001b[0m\u001b[1;33m(\u001b[0m\u001b[0mx\u001b[0m\u001b[1;33m,\u001b[0m \u001b[0mxp\u001b[0m\u001b[1;33m,\u001b[0m \u001b[0mfp\u001b[0m\u001b[1;33m,\u001b[0m \u001b[0mleft\u001b[0m\u001b[1;33m,\u001b[0m \u001b[0mright\u001b[0m\u001b[1;33m)\u001b[0m\u001b[1;33m\u001b[0m\u001b[1;33m\u001b[0m\u001b[0m\n\u001b[0m\u001b[0;32m   1413\u001b[0m \u001b[1;33m\u001b[0m\u001b[0m\n\u001b[0;32m   1414\u001b[0m \u001b[1;33m\u001b[0m\u001b[0m\n",
      "\u001b[1;31mValueError\u001b[0m: fp and xp are not of the same length."
     ]
    }
   ],
   "source": [
    "#### 98. Considering a path described by two vectors (X,Y), how to sample it using equidistant samples (★★★)?\n",
    "\n",
    "X = np.array([1, 2, 3, 4, 5])\n",
    "Y = np.array([2, 3, 4, 5, 6])\n",
    "path_length = np.cumsum(np.sqrt(np.diff(X)**2 + np.diff(Y)**2))\n",
    "equidistant_samples = np.interp(np.linspace(0, path_length[-1], 10), path_length, X)\n",
    "print(equidistant_samples)\n"
   ]
  },
  {
   "cell_type": "code",
   "execution_count": 120,
   "metadata": {},
   "outputs": [
    {
     "name": "stdout",
     "output_type": "stream",
     "text": [
      "[[1 2 2]\n",
      " [0 3 2]\n",
      " [1 1 3]\n",
      " [5 0 0]]\n"
     ]
    }
   ],
   "source": [
    "\n",
    "#### 99. Given an integer n and a 2D array X, select from X the rows that can be interpreted as draws from a multinomial distribution with n degrees, i.e., the rows which only contain integers and which sum to n. (★★★)\n",
    "\n",
    "n = 5\n",
    "X = np.array([[1, 2, 2], [0, 3, 2], [1, 1, 3], [5, 0, 0]])\n",
    "valid_rows = np.all(X == X.astype(int), axis=1) & (np.sum(X, axis=1) == n)\n",
    "selected_rows = X[valid_rows]\n",
    "print(selected_rows)"
   ]
  },
  {
   "cell_type": "code",
   "execution_count": 121,
   "metadata": {},
   "outputs": [
    {
     "name": "stdout",
     "output_type": "stream",
     "text": [
      "[0.4483946  0.56765414]\n"
     ]
    }
   ],
   "source": [
    "#### 100. Compute bootstrapped 95% confidence intervals for the mean of a 1D array X (i.e., resample the elements of an array with replacement N times, compute the mean of each sample, and then compute percentiles over the means). (★★★)\n",
    "\n",
    "X = np.random.random(100)\n",
    "N = 1000\n",
    "bootstrapped_means = np.random.choice(X, (N, len(X)), replace=True).mean(axis=1)\n",
    "confidence_interval = np.percentile(bootstrapped_means, [2.5, 97.5])\n",
    "print(confidence_interval)"
   ]
  },
  {
   "cell_type": "code",
   "execution_count": null,
   "metadata": {},
   "outputs": [],
   "source": []
  }
 ],
 "metadata": {
  "kernelspec": {
   "display_name": "Python 3",
   "language": "python",
   "name": "python3"
  },
  "language_info": {
   "codemirror_mode": {
    "name": "ipython",
    "version": 3
   },
   "file_extension": ".py",
   "mimetype": "text/x-python",
   "name": "python",
   "nbconvert_exporter": "python",
   "pygments_lexer": "ipython3",
   "version": "3.7.6"
  }
 },
 "nbformat": 4,
 "nbformat_minor": 4
}
