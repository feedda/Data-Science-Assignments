{
 "cells": [
  {
   "cell_type": "markdown",
   "metadata": {},
   "source": [
    "# Data Preparation for Lung Capacity Dataset\n",
    "\n",
    "## By: Fatima Usman Muhammad"
   ]
  },
  {
   "cell_type": "markdown",
   "metadata": {},
   "source": [
    "## I. Introduction\n",
    "**Lungs Capacity Dataset:<br>**\n",
    "Lung capacity refers to the total amount of air that our lungs can hold **(Delgado BJ, Bajaj T, 2023)**, it is measured in terms of volume and is typically assessed through various pulmonary function tests. Lung capacity is a critical indicator of respiratory health, and understanding the factors that influence it, is essential for promoting overall well-being **(Ph.H Quanjer, et al., 1993)**. This project aims to investigate the relationships between lung capacity and several key variables, including smoking habits, age, gender, mode of birth, and height. The project will explore whether these factors have a significant impact on lung capacity, contributing valuable insights to public health and clinical practices.\n",
    "\n",
    "\n",
    "## II. Data Collection\n",
    "\n",
    "The dataset was collected from Kaggle https://www.kaggle.com/datasets/radhakrishna4/lung-capacity (Radhakrishna, 2019).<br>\n",
    "\n",
    "**About The Dataset**<br>\n",
    "The dataset is showing lungs capacity of smokers and non-smokers by age, gender and height.\n",
    "\n",
    "**Here's the meaning of variables:**\n",
    "- **LungCap:** It’s the lung capacity(closing capacity) of the person\n",
    "- **Age:** It’s how old is the person\n",
    "- **Height:** It’s how tall is the person\n",
    "- **Smoke:** If the person smokes or doesn’t smoke\n",
    "- **Gender:** If are male or female\n",
    "- **Cesarean:** If they’re born by Cesarean"
   ]
  },
  {
   "cell_type": "markdown",
   "metadata": {},
   "source": [
    "# Implementing Python Code for Data Preparation of Lungs Capacity Dataset\n",
    "**Data Preparation:<br>**\n",
    "Data preparation is a critical phase in analyzing lung capacity datasets, vital for ensuring the accuracy and reliability of subsequent analyses. This process involves key tasks such as cleaning, transformation, and feature engineering. Cleaning addresses missing values, outliers, and inaccuracies to prevent bias, while transformation standardizes units and normalizes variables. Feature engineering enhances predictive power by creating or modifying variables. In lung capacity datasets, attention is given to maintaining consistency in respiratory measurements and handling demographic information with privacy considerations. The well-prepared dataset becomes the foundation for meaningful analyses, unveiling patterns and correlations related to respiratory health. This introduction underscores the significance of meticulous data preparation in establishing the reliability and validity of research findings in the context of lung capacity analysis."
   ]
  },
  {
   "cell_type": "code",
   "execution_count": 2,
   "metadata": {},
   "outputs": [],
   "source": [
    "# Importing NumPy library and aliasing it as np\n",
    "import numpy as np\n",
    "# Importing pandas library and aliasing it as pd\n",
    "import pandas as pd \n",
    "# Importing specific components (DataFrame, Series) from pandas\n",
    "from pandas import DataFrame,Series \n",
    "# Importing the pyplot module from the matplotlib library and aliasing it as plt\n",
    "import matplotlib.pyplot as plt \n",
    "# Importing the seaborn library and aliasing it as sns\n",
    "import seaborn as sns \n",
    "# Importing the stats module from the scipy library\n",
    "import warnings \n",
    "# Ignoring warning messages for better code readability (optional)\n",
    "warnings.filterwarnings('ignore')"
   ]
  },
  {
   "cell_type": "markdown",
   "metadata": {},
   "source": [
    "**The above code sets up a Python environment for data analysis and visualization, making use of libraries like NumPy, pandas, Matplotlib, Seaborn, and SciPy. The optional line at the end is used to ignore warning messages.**"
   ]
  },
  {
   "cell_type": "code",
   "execution_count": 6,
   "metadata": {},
   "outputs": [
    {
     "data": {
      "text/html": [
       "<div>\n",
       "<style scoped>\n",
       "    .dataframe tbody tr th:only-of-type {\n",
       "        vertical-align: middle;\n",
       "    }\n",
       "\n",
       "    .dataframe tbody tr th {\n",
       "        vertical-align: top;\n",
       "    }\n",
       "\n",
       "    .dataframe thead th {\n",
       "        text-align: right;\n",
       "    }\n",
       "</style>\n",
       "<table border=\"1\" class=\"dataframe\">\n",
       "  <thead>\n",
       "    <tr style=\"text-align: right;\">\n",
       "      <th></th>\n",
       "      <th>LungCap(cc)</th>\n",
       "      <th>Age( years)</th>\n",
       "      <th>Height(inches)</th>\n",
       "      <th>Smoke</th>\n",
       "      <th>Gender</th>\n",
       "      <th>Caesarean</th>\n",
       "    </tr>\n",
       "  </thead>\n",
       "  <tbody>\n",
       "    <tr>\n",
       "      <th>0</th>\n",
       "      <td>6.475</td>\n",
       "      <td>6</td>\n",
       "      <td>62.1</td>\n",
       "      <td>no</td>\n",
       "      <td>male</td>\n",
       "      <td>no</td>\n",
       "    </tr>\n",
       "    <tr>\n",
       "      <th>1</th>\n",
       "      <td>10.125</td>\n",
       "      <td>18</td>\n",
       "      <td>74.7</td>\n",
       "      <td>yes</td>\n",
       "      <td>female</td>\n",
       "      <td>no</td>\n",
       "    </tr>\n",
       "    <tr>\n",
       "      <th>2</th>\n",
       "      <td>9.550</td>\n",
       "      <td>16</td>\n",
       "      <td>69.7</td>\n",
       "      <td>no</td>\n",
       "      <td>female</td>\n",
       "      <td>yes</td>\n",
       "    </tr>\n",
       "    <tr>\n",
       "      <th>3</th>\n",
       "      <td>11.125</td>\n",
       "      <td>14</td>\n",
       "      <td>71.0</td>\n",
       "      <td>no</td>\n",
       "      <td>male</td>\n",
       "      <td>no</td>\n",
       "    </tr>\n",
       "    <tr>\n",
       "      <th>4</th>\n",
       "      <td>4.800</td>\n",
       "      <td>5</td>\n",
       "      <td>56.9</td>\n",
       "      <td>no</td>\n",
       "      <td>male</td>\n",
       "      <td>no</td>\n",
       "    </tr>\n",
       "  </tbody>\n",
       "</table>\n",
       "</div>"
      ],
      "text/plain": [
       "   LungCap(cc)  Age( years)  Height(inches) Smoke  Gender Caesarean\n",
       "0        6.475            6            62.1    no    male        no\n",
       "1       10.125           18            74.7   yes  female        no\n",
       "2        9.550           16            69.7    no  female       yes\n",
       "3       11.125           14            71.0    no    male        no\n",
       "4        4.800            5            56.9    no    male        no"
      ]
     },
     "execution_count": 6,
     "metadata": {},
     "output_type": "execute_result"
    }
   ],
   "source": [
    "# Reading a CSV file named 'LungCap.csv' and storing the data in a variable called 'data'\n",
    "data= pd.read_csv('LungCap.csv')\n",
    "# Displaying the first few rows of the dataset using the 'head()' method\n",
    "data.head()\n"
   ]
  },
  {
   "cell_type": "markdown",
   "metadata": {},
   "source": [
    "**The above code reads data from a CSV file named 'LungCap.csv' using the pandas library, stores it in a DataFrame called 'data', and then displays the first few rows of the dataset to give you an initial look at the structure and content of the data. This is a common and essential step in the exploratory data analysis process.**"
   ]
  },
  {
   "cell_type": "code",
   "execution_count": 7,
   "metadata": {},
   "outputs": [
    {
     "data": {
      "text/html": [
       "<div>\n",
       "<style scoped>\n",
       "    .dataframe tbody tr th:only-of-type {\n",
       "        vertical-align: middle;\n",
       "    }\n",
       "\n",
       "    .dataframe tbody tr th {\n",
       "        vertical-align: top;\n",
       "    }\n",
       "\n",
       "    .dataframe thead th {\n",
       "        text-align: right;\n",
       "    }\n",
       "</style>\n",
       "<table border=\"1\" class=\"dataframe\">\n",
       "  <thead>\n",
       "    <tr style=\"text-align: right;\">\n",
       "      <th></th>\n",
       "      <th>LungCap(cc)</th>\n",
       "      <th>Age( years)</th>\n",
       "      <th>Height(inches)</th>\n",
       "      <th>Smoke</th>\n",
       "      <th>Gender</th>\n",
       "      <th>Caesarean</th>\n",
       "    </tr>\n",
       "  </thead>\n",
       "  <tbody>\n",
       "    <tr>\n",
       "      <th>720</th>\n",
       "      <td>5.725</td>\n",
       "      <td>9</td>\n",
       "      <td>56.0</td>\n",
       "      <td>no</td>\n",
       "      <td>female</td>\n",
       "      <td>no</td>\n",
       "    </tr>\n",
       "    <tr>\n",
       "      <th>721</th>\n",
       "      <td>9.050</td>\n",
       "      <td>18</td>\n",
       "      <td>72.0</td>\n",
       "      <td>yes</td>\n",
       "      <td>male</td>\n",
       "      <td>yes</td>\n",
       "    </tr>\n",
       "    <tr>\n",
       "      <th>722</th>\n",
       "      <td>3.850</td>\n",
       "      <td>11</td>\n",
       "      <td>60.5</td>\n",
       "      <td>yes</td>\n",
       "      <td>female</td>\n",
       "      <td>no</td>\n",
       "    </tr>\n",
       "    <tr>\n",
       "      <th>723</th>\n",
       "      <td>9.825</td>\n",
       "      <td>15</td>\n",
       "      <td>64.9</td>\n",
       "      <td>no</td>\n",
       "      <td>female</td>\n",
       "      <td>no</td>\n",
       "    </tr>\n",
       "    <tr>\n",
       "      <th>724</th>\n",
       "      <td>7.100</td>\n",
       "      <td>10</td>\n",
       "      <td>67.7</td>\n",
       "      <td>no</td>\n",
       "      <td>male</td>\n",
       "      <td>no</td>\n",
       "    </tr>\n",
       "  </tbody>\n",
       "</table>\n",
       "</div>"
      ],
      "text/plain": [
       "     LungCap(cc)  Age( years)  Height(inches) Smoke  Gender Caesarean\n",
       "720        5.725            9            56.0    no  female        no\n",
       "721        9.050           18            72.0   yes    male       yes\n",
       "722        3.850           11            60.5   yes  female        no\n",
       "723        9.825           15            64.9    no  female        no\n",
       "724        7.100           10            67.7    no    male        no"
      ]
     },
     "execution_count": 7,
     "metadata": {},
     "output_type": "execute_result"
    }
   ],
   "source": [
    "# Displaying the last few rows of the DataFrame 'data' using the 'tail()' method\n",
    "data.tail()"
   ]
  },
  {
   "cell_type": "markdown",
   "metadata": {},
   "source": [
    "**The above code displayed the last few rows of a DataFrame, these rows are useful for quickly checking the end of the dataset, especially if you want to see the most recent entries or verify the structure of the data towards the end of the file. It complements the head() method, which shows the first few rows.**"
   ]
  },
  {
   "cell_type": "code",
   "execution_count": 8,
   "metadata": {},
   "outputs": [
    {
     "name": "stdout",
     "output_type": "stream",
     "text": [
      "<class 'pandas.core.frame.DataFrame'>\n",
      "RangeIndex: 725 entries, 0 to 724\n",
      "Data columns (total 6 columns):\n",
      " #   Column          Non-Null Count  Dtype  \n",
      "---  ------          --------------  -----  \n",
      " 0   LungCap(cc)     725 non-null    float64\n",
      " 1   Age( years)     725 non-null    int64  \n",
      " 2   Height(inches)  725 non-null    float64\n",
      " 3   Smoke           725 non-null    object \n",
      " 4   Gender          725 non-null    object \n",
      " 5   Caesarean       725 non-null    object \n",
      "dtypes: float64(2), int64(1), object(3)\n",
      "memory usage: 34.1+ KB\n"
     ]
    }
   ],
   "source": [
    "# Displaying concise information about the DataFrame 'data' using the 'info()' method\n",
    "data.info()"
   ]
  },
  {
   "cell_type": "markdown",
   "metadata": {},
   "source": [
    "**The above code is used to obtain a concise summary of a DataFrame's structure and content. It is commonly used in the exploratory data analysis (EDA) process to understand the characteristics of the dataset and to identify any potential data cleaning or preprocessing steps that may be needed.**<br>\n",
    "**The dataset information clearly shows that there no any missing value in the dataset, however, the dataset contains 1 integer datatype, 2 float and 3 object**"
   ]
  },
  {
   "cell_type": "code",
   "execution_count": null,
   "metadata": {},
   "outputs": [],
   "source": []
  }
 ],
 "metadata": {
  "kernelspec": {
   "display_name": "Python 3",
   "language": "python",
   "name": "python3"
  },
  "language_info": {
   "codemirror_mode": {
    "name": "ipython",
    "version": 3
   },
   "file_extension": ".py",
   "mimetype": "text/x-python",
   "name": "python",
   "nbconvert_exporter": "python",
   "pygments_lexer": "ipython3",
   "version": "3.7.6"
  },
  "toc": {
   "base_numbering": 1,
   "nav_menu": {},
   "number_sections": false,
   "sideBar": true,
   "skip_h1_title": false,
   "title_cell": "Table of Contents",
   "title_sidebar": "Contents",
   "toc_cell": false,
   "toc_position": {},
   "toc_section_display": true,
   "toc_window_display": false
  }
 },
 "nbformat": 4,
 "nbformat_minor": 4
}
